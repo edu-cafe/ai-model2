{
 "cells": [
  {
   "cell_type": "markdown",
   "metadata": {},
   "source": [
    "## 보스턴 주택 가격 예측\n",
    "* 보스턴 주택 가격 데이터세트(Boston Housing Dataset) 사용\n",
    "- [data 관련 참고 사이트](https://www.tensorflow.org/api_docs/python/tf/keras/datasets/boston_housing/load_data)"
   ]
  },
  {
   "cell_type": "code",
   "execution_count": 4,
   "metadata": {},
   "outputs": [
    {
     "data": {
      "text/plain": [
       "'2.0.0'"
      ]
     },
     "execution_count": 4,
     "metadata": {},
     "output_type": "execute_result"
    }
   ],
   "source": [
    "import tensorflow as tf\n",
    "tf.__version__"
   ]
  },
  {
   "cell_type": "markdown",
   "metadata": {},
   "source": [
    "### 데이터 불러오기"
   ]
  },
  {
   "cell_type": "code",
   "execution_count": 1,
   "metadata": {},
   "outputs": [
    {
     "name": "stdout",
     "output_type": "stream",
     "text": [
      "Downloading data from https://storage.googleapis.com/tensorflow/tf-keras-datasets/boston_housing.npz\n",
      "57344/57026 [==============================] - 0s 2us/step\n",
      "404 102\n",
      "[  1.23247   0.        8.14      0.        0.538     6.142    91.7\n",
      "   3.9769    4.      307.       21.      396.9      18.72   ]\n",
      "15.2\n"
     ]
    }
   ],
   "source": [
    "from ________________ import boston_housing\n",
    "(train_X, train_Y), (test_X, test_Y) = boston_housing.load_data()\n",
    "\n",
    "print(len(train_X), len(test_X))\n",
    "print(train_X[0])\n",
    "print(train_Y[0])"
   ]
  },
  {
   "cell_type": "markdown",
   "metadata": {},
   "source": [
    "### 데이터 전처리(정규화)\n",
    "- ### 정규화 : $Z = {{X - \\bar{X}} \\over \\sigma}$"
   ]
  },
  {
   "cell_type": "code",
   "execution_count": 2,
   "metadata": {},
   "outputs": [
    {
     "name": "stdout",
     "output_type": "stream",
     "text": [
      "[-0.27224633 -0.48361547 -0.43576161 -0.25683275 -0.1652266  -0.1764426\n",
      "  0.81306188  0.1166983  -0.62624905 -0.59517003  1.14850044  0.44807713\n",
      "  0.8252202 ]\n",
      "-0.7821526033779157\n"
     ]
    }
   ],
   "source": [
    "x_mean = train_X.mean(axis=0)\n",
    "x_std = train_X.std(axis=0)\n",
    "train_X -= x_mean\n",
    "train_X /= x_std\n",
    "test_X -= x_mean\n",
    "test_X /= x_std\n",
    "\n",
    "y_mean = train_Y.mean(axis=0)\n",
    "y_std = train_Y.std(axis=0)\n",
    "train_Y -= y_mean\n",
    "train_Y /= y_std\n",
    "test_Y -= y_mean\n",
    "test_Y /= y_std\n",
    "\n",
    "print(train_X[0])\n",
    "print(train_Y[0])"
   ]
  },
  {
   "cell_type": "markdown",
   "metadata": {},
   "source": [
    "### Boston Housing Dataset 회귀 모델 생성"
   ]
  },
  {
   "cell_type": "code",
   "execution_count": 5,
   "metadata": {},
   "outputs": [
    {
     "name": "stdout",
     "output_type": "stream",
     "text": [
      "Model: \"sequential\"\n",
      "_________________________________________________________________\n",
      "Layer (type)                 Output Shape              Param #   \n",
      "=================================================================\n",
      "dense (Dense)                (None, 52)                728       \n",
      "_________________________________________________________________\n",
      "dense_1 (Dense)              (None, 39)                2067      \n",
      "_________________________________________________________________\n",
      "dense_2 (Dense)              (None, 26)                1040      \n",
      "_________________________________________________________________\n",
      "dense_3 (Dense)              (None, 1)                 27        \n",
      "=================================================================\n",
      "Total params: 3,862\n",
      "Trainable params: 3,862\n",
      "Non-trainable params: 0\n",
      "_________________________________________________________________\n"
     ]
    }
   ],
   "source": [
    "model = tf.keras.Sequential([\n",
    "    tf.keras.layers.Dense(units=52, activation='relu', input_shape=(13,)),\n",
    "    tf.keras.layers.Dense(units=39, activation='relu'),\n",
    "    tf.keras.layers.Dense(units=26, activation='relu'),\n",
    "    tf.keras.layers.Dense(units=1)\n",
    "])\n",
    "\n",
    "model.compile(optimizer=tf.keras.optimizers.Adam(lr=0.07), loss='mse')\n",
    "\n",
    "model.summary()"
   ]
  },
  {
   "cell_type": "markdown",
   "metadata": {},
   "source": [
    "### 회귀 모델 학습"
   ]
  },
  {
   "cell_type": "code",
   "execution_count": 6,
   "metadata": {},
   "outputs": [
    {
     "name": "stdout",
     "output_type": "stream",
     "text": [
      "Train on 303 samples, validate on 101 samples\n",
      "Epoch 1/25\n",
      "303/303 [==============================] - 1s 2ms/sample - loss: 2.7431 - val_loss: 0.8966\n",
      "Epoch 2/25\n",
      "303/303 [==============================] - 0s 109us/sample - loss: 0.4545 - val_loss: 0.8365\n",
      "Epoch 3/25\n",
      "303/303 [==============================] - 0s 109us/sample - loss: 0.4266 - val_loss: 0.5051\n",
      "Epoch 4/25\n",
      "303/303 [==============================] - 0s 112us/sample - loss: 0.2613 - val_loss: 0.7449\n",
      "Epoch 5/25\n",
      "303/303 [==============================] - 0s 112us/sample - loss: 0.3603 - val_loss: 0.4085\n",
      "Epoch 6/25\n",
      "303/303 [==============================] - 0s 118us/sample - loss: 0.2654 - val_loss: 0.2212\n",
      "Epoch 7/25\n",
      "303/303 [==============================] - 0s 99us/sample - loss: 0.1463 - val_loss: 0.2034\n",
      "Epoch 8/25\n",
      "303/303 [==============================] - 0s 118us/sample - loss: 0.1218 - val_loss: 0.1572\n",
      "Epoch 9/25\n",
      "303/303 [==============================] - 0s 102us/sample - loss: 0.0902 - val_loss: 0.1585\n",
      "Epoch 10/25\n",
      "303/303 [==============================] - 0s 89us/sample - loss: 0.0930 - val_loss: 0.2224\n",
      "Epoch 11/25\n",
      "303/303 [==============================] - 0s 115us/sample - loss: 0.1039 - val_loss: 0.1604\n",
      "Epoch 12/25\n",
      "303/303 [==============================] - 0s 122us/sample - loss: 0.1062 - val_loss: 0.1374\n",
      "Epoch 13/25\n",
      "303/303 [==============================] - 0s 142us/sample - loss: 0.1139 - val_loss: 0.1329\n",
      "Epoch 14/25\n",
      "303/303 [==============================] - 0s 237us/sample - loss: 0.0779 - val_loss: 0.1432\n",
      "Epoch 15/25\n",
      "303/303 [==============================] - 0s 250us/sample - loss: 0.0861 - val_loss: 0.1366\n",
      "Epoch 16/25\n",
      "303/303 [==============================] - 0s 276us/sample - loss: 0.0684 - val_loss: 0.1432\n",
      "Epoch 17/25\n",
      "303/303 [==============================] - 0s 128us/sample - loss: 0.0662 - val_loss: 0.1398\n",
      "Epoch 18/25\n",
      "303/303 [==============================] - 0s 109us/sample - loss: 0.0748 - val_loss: 0.1467\n",
      "Epoch 19/25\n",
      "303/303 [==============================] - 0s 102us/sample - loss: 0.0668 - val_loss: 0.1672\n",
      "Epoch 20/25\n",
      "303/303 [==============================] - 0s 109us/sample - loss: 0.1224 - val_loss: 0.2467\n",
      "Epoch 21/25\n",
      "303/303 [==============================] - 0s 95us/sample - loss: 0.1343 - val_loss: 0.1864\n",
      "Epoch 22/25\n",
      "303/303 [==============================] - 0s 138us/sample - loss: 0.1562 - val_loss: 0.1939\n",
      "Epoch 23/25\n",
      "303/303 [==============================] - 0s 125us/sample - loss: 0.1277 - val_loss: 0.1886\n",
      "Epoch 24/25\n",
      "303/303 [==============================] - 0s 132us/sample - loss: 0.1210 - val_loss: 0.1462\n",
      "Epoch 25/25\n",
      "303/303 [==============================] - 0s 122us/sample - loss: 0.1320 - val_loss: 0.2479\n"
     ]
    }
   ],
   "source": [
    "history = model.fit(train_X, train_Y, epochs=25, batch_size=32, validation_split=0.25)"
   ]
  },
  {
   "cell_type": "markdown",
   "metadata": {},
   "source": [
    "### 회귀 모델 학습 결과 시각화"
   ]
  },
  {
   "cell_type": "code",
   "execution_count": 7,
   "metadata": {},
   "outputs": [
    {
     "data": {
      "image/png": "[encoded data removed]",
      "text/plain": [
       "<Figure size 432x288 with 1 Axes>"
      ]
     },
     "metadata": {
      "needs_background": "light"
     },
     "output_type": "display_data"
    }
   ],
   "source": [
    "import matplotlib.pyplot as plt\n",
    "plt.plot(history.history['loss'], 'b-', label='loss')\n",
    "plt.plot(history.history['val_loss'], 'r--', label='val_loss')\n",
    "plt.xlabel('Epoch')\n",
    "plt.legend()\n",
    "plt.show()"
   ]
  },
  {
   "cell_type": "markdown",
   "metadata": {},
   "source": [
    "### 실제 주택 가격과 예측 주택 가격 시각화"
   ]
  },
  {
   "cell_type": "code",
   "execution_count": 8,
   "metadata": {},
   "outputs": [
    {
     "data": {
      "image/png": "[encoded data removed]",
      "text/plain": [
       "<Figure size 360x360 with 1 Axes>"
      ]
     },
     "metadata": {
      "needs_background": "light"
     },
     "output_type": "display_data"
    }
   ],
   "source": [
    "import matplotlib.pyplot as plt\n",
    "\n",
    "pred_Y = model.predict(test_X)\n",
    "\n",
    "plt.figure(figsize=(5,5))\n",
    "plt.plot(test_Y, pred_Y, 'b.')\n",
    "plt.axis([min(test_Y), max(test_Y), min(test_Y), max(test_Y)])\n",
    "\n",
    "# y=x에 해당하는 대각선\n",
    "plt.plot([min(test_Y), max(test_Y)], [min(test_Y), max(test_Y)], ls=\"--\", c=\".3\")\n",
    "plt.xlabel('test_Y')\n",
    "plt.ylabel('pred_Y')\n",
    "\n",
    "plt.show()"
   ]
  },
  {
   "cell_type": "markdown",
   "metadata": {},
   "source": [
    "### 모델 재정의 및 학습"
   ]
  },
  {
   "cell_type": "code",
   "execution_count": 9,
   "metadata": {},
   "outputs": [
    {
     "name": "stdout",
     "output_type": "stream",
     "text": [
      "Train on 303 samples, validate on 101 samples\n",
      "Epoch 1/25\n",
      "303/303 [==============================] - 0s 1ms/sample - loss: 4.2011 - val_loss: 0.9811\n",
      "Epoch 2/25\n",
      "303/303 [==============================] - 0s 102us/sample - loss: 0.5750 - val_loss: 0.9474\n",
      "Epoch 3/25\n",
      "303/303 [==============================] - 0s 99us/sample - loss: 0.4576 - val_loss: 0.7413\n",
      "Epoch 4/25\n",
      "303/303 [==============================] - 0s 109us/sample - loss: 0.3591 - val_loss: 0.4959\n",
      "Epoch 5/25\n",
      "303/303 [==============================] - 0s 99us/sample - loss: 0.2866 - val_loss: 0.4033\n",
      "Epoch 6/25\n",
      "303/303 [==============================] - 0s 112us/sample - loss: 0.2181 - val_loss: 0.3339\n",
      "Epoch 7/25\n",
      "303/303 [==============================] - 0s 109us/sample - loss: 0.1678 - val_loss: 0.3520\n",
      "Epoch 8/25\n",
      "303/303 [==============================] - 0s 102us/sample - loss: 0.1984 - val_loss: 0.2270\n",
      "Epoch 9/25\n",
      "303/303 [==============================] - 0s 112us/sample - loss: 0.1497 - val_loss: 0.2188\n",
      "Epoch 10/25\n",
      "303/303 [==============================] - 0s 95us/sample - loss: 0.1523 - val_loss: 0.1745\n",
      "Epoch 11/25\n",
      "303/303 [==============================] - 0s 105us/sample - loss: 0.1693 - val_loss: 0.1824\n",
      "Epoch 12/25\n",
      "303/303 [==============================] - 0s 99us/sample - loss: 0.1468 - val_loss: 0.2207\n",
      "Epoch 13/25\n",
      "303/303 [==============================] - 0s 102us/sample - loss: 0.1117 - val_loss: 0.1539\n",
      "Epoch 14/25\n",
      "303/303 [==============================] - 0s 115us/sample - loss: 0.1067 - val_loss: 0.1666\n",
      "Epoch 15/25\n",
      "303/303 [==============================] - 0s 95us/sample - loss: 0.1514 - val_loss: 0.2072\n",
      "Epoch 16/25\n",
      "303/303 [==============================] - 0s 112us/sample - loss: 0.1141 - val_loss: 0.1619\n"
     ]
    }
   ],
   "source": [
    "model = tf.keras.Sequential([\n",
    "    tf.keras.layers.Dense(units=52, activation='relu', input_shape=(13,)),\n",
    "    tf.keras.layers.Dense(units=39, activation='relu'),\n",
    "    tf.keras.layers.Dense(units=26, activation='relu'),\n",
    "    tf.keras.layers.Dense(units=1)\n",
    "])\n",
    "\n",
    "model.compile(optimizer=tf.keras.optimizers.Adam(lr=0.07), loss='mse')\n",
    "\n",
    "history = model.fit(train_X, train_Y, epochs=25, batch_size=32, validation_split=0.25, \n",
    "                    callbacks=[________________(patience=3, monitor='val_loss')])"
   ]
  },
  {
   "cell_type": "markdown",
   "metadata": {},
   "source": [
    "### 회귀 모델 학습 결과 시각화"
   ]
  },
  {
   "cell_type": "code",
   "execution_count": 10,
   "metadata": {},
   "outputs": [
    {
     "data": {
      "image/png": "[encoded data removed]",
      "text/plain": [
       "<Figure size 432x288 with 1 Axes>"
      ]
     },
     "metadata": {
      "needs_background": "light"
     },
     "output_type": "display_data"
    }
   ],
   "source": [
    "import matplotlib.pyplot as plt\n",
    "plt.plot(history.history['loss'], 'b-', label='loss')\n",
    "plt.plot(history.history['val_loss'], 'r--', label='val_loss')\n",
    "plt.xlabel('Epoch')\n",
    "plt.legend()\n",
    "plt.show()"
   ]
  },
  {
   "cell_type": "markdown",
   "metadata": {},
   "source": [
    "### 회귀 모델 평가"
   ]
  },
  {
   "cell_type": "code",
   "execution_count": 11,
   "metadata": {},
   "outputs": [
    {
     "name": "stdout",
     "output_type": "stream",
     "text": [
      "\r",
      "102/1 [====================================================================================================================================================================================================================================================================================================================================================================================================================================================================================================================================================================================================================================================================================================================================================================================================================================================================================================================================================================================================================================================================================================================================================================================================================================================================================================================================================================================================================================================================================================================================================================================================================================================================================================================================================================================================================================================================================================================================================================================================================================================================================================================================================================================================================================================================================================================================================================================================================================================================================================================================================================================================================================================================================================================================================================================================================================================================================================================================================================================================================================================================================================================================================================================] - 0s 68us/sample - loss: 0.5939\n"
     ]
    },
    {
     "data": {
      "text/plain": [
       "0.20541122964784211"
      ]
     },
     "execution_count": 11,
     "metadata": {},
     "output_type": "execute_result"
    }
   ],
   "source": [
    "model.evaluate(test_X, test_Y)"
   ]
  },
  {
   "cell_type": "markdown",
   "metadata": {},
   "source": [
    "### 실제 주택 가격과 예측 주택 가격 시각화"
   ]
  },
  {
   "cell_type": "code",
   "execution_count": 12,
   "metadata": {},
   "outputs": [
    {
     "data": {
      "image/png": "[encoded data removed]",
      "text/plain": [
       "<Figure size 360x360 with 1 Axes>"
      ]
     },
     "metadata": {
      "needs_background": "light"
     },
     "output_type": "display_data"
    }
   ],
   "source": [
    "import matplotlib.pyplot as plt\n",
    "\n",
    "pred_Y = model.predict(test_X)\n",
    "\n",
    "plt.figure(figsize=(5,5))\n",
    "plt.plot(test_Y, pred_Y, 'b.')\n",
    "plt.axis([min(test_Y), max(test_Y), min(test_Y), max(test_Y)])\n",
    "\n",
    "plt.plot([min(test_Y), max(test_Y)], [min(test_Y), max(test_Y)], ls=\"--\", c=\".3\")\n",
    "plt.xlabel('test_Y')\n",
    "plt.ylabel('pred_Y')\n",
    "\n",
    "plt.show()"
   ]
  },
  {
   "cell_type": "code",
   "execution_count": null,
   "metadata": {},
   "outputs": [],
   "source": []
  }
 ],
 "metadata": {
  "kernelspec": {
   "display_name": "Python 3",
   "language": "python",
   "name": "python3"
  },
  "language_info": {
   "codemirror_mode": {
    "name": "ipython",
    "version": 3
   },
   "file_extension": ".py",
   "mimetype": "text/x-python",
   "name": "python",
   "nbconvert_exporter": "python",
   "pygments_lexer": "ipython3",
   "version": "3.6.10"
  }
 },
 "nbformat": 4,
 "nbformat_minor": 4
}
