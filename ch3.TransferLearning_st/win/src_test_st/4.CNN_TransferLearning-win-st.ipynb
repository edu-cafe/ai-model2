{
 "cells": [
  {
   "cell_type": "markdown",
   "metadata": {
    "colab_type": "text",
    "id": "Z3-G8HVNDpS9"
   },
   "source": [
    "## 사전 훈련된 컨브넷 사용하기\n",
    "* 작은 이미지 데이터셋에 딥러닝을 적용하는 일반적이고 매우 효과적인 방법은 사전 훈련된 네트워크를 사용하는 것입니다. \n",
    "* 원본 데이터셋이 충분히 크고 일반적이라면 사전 훈련된 네트워크에 의해 학습된 특성의 계층 구조는 실제 세상에 대한 일반적인 모델로 효율적인 역할을 할 수 있습니다. \n",
    "* 새로운 문제가 원래 작업과 완전히 다른 클래스에 대한 것이더라도 이런 특성은 많은 컴퓨터 비전 문제에 유용합니다. \n",
    "* 학습된 특성을 다른 문제에 적용할 수 있는 이런 유연성은 이전의 많은 얕은 학습 방법과 비교했을 때 딥러닝의 핵심 장점입니다. 이런 방식으로 작은 데이터셋을 가진 문제에도 딥러닝이 효율적으로 작동할 수 있습니다.\n",
    "* 여기에서는 (1.4백만 개의 레이블된 이미지와 1,000개의 클래스로 이루어진) ImageNet 데이터셋에서 훈련된 대규모 컨브넷을 사용해 보겠습니다. ImageNet 데이터셋은 다양한 종의 강아지와 고양이를 포함해 많은 동물들을 포함하고 있습니다. 그래서 강아지 vs. 고양이 분류 문제에 좋은 성능을 낼 것 같습니다.\n",
    "* 캐런 시몬연과 앤드류 지서먼이 2014년에 개발한 VGG16 구조를 사용하겠습니다. VGG16은 간단하고 ImageNet 데이터셋에 널리 사용되는 컨브넷 구조입니다. VGG16은 조금 오래되었고 최고 수준의 성능에는 못미치며 최근의 다른 모델보다는 조금 무겁습니다. 하지만 이 모델의 구조가 이전에 보았던 것과 비슷해서 새로운 개념을 도입하지 않고 이해하기 쉽기 때문에 선택했습니다. \n",
    "* VGG, ResNet, Inception, Inception-ResNet, Xception 등을 적용 할 수 있습니다."
   ]
  },
  {
   "cell_type": "markdown",
   "metadata": {
    "colab_type": "text",
    "id": "8ihuRFdyDpS_"
   },
   "source": [
    "### 사전 훈련된 네트워크를 사용하는 두 가지 방법\n",
    "* **특성 추출** : 특성 추출기로 사전 훈련된 모델 이용\n",
    "* 미세 조정 (Fine Tuning) : 사전훈련된 모델의 미세 튜닝"
   ]
  },
  {
   "cell_type": "markdown",
   "metadata": {
    "colab_type": "text",
    "id": "ven40j6bDpS_"
   },
   "source": [
    "### 특성 추출\n",
    "\n",
    "특성 추출은 사전에 학습된 네트워크의 표현을 사용해 새로운 샘플에서 흥미로운 특성을 뽑아내는 것입니다. 이런 특성을 사용하여 새로운 분류기를 처음부터 훈련합니다.\n",
    "\n",
    "앞서 보았듯이 컨브넷은 이미지 분류를 위해 두 부분으로 구성됩니다. 먼저 연속된 합성곱과 풀링 층으로 시작해서 완전 연결 분류기로 끝납니다. 첫 번째 부분을 모델의 **합성곱 기반층(convolutional base)**이라고 부르겠습니다. 컨브넷의 경우 특성 추출은 사전에 훈련된 네트워크의 합성곱 기반층을 선택해 새로운 데이터를 통과시키고 그 출력으로 새로운 분류기를 훈련합니다."
   ]
  },
  {
   "cell_type": "code",
   "execution_count": 0,
   "metadata": {
    "colab": {},
    "colab_type": "code",
    "id": "GYupXcVrDpTA"
   },
   "outputs": [],
   "source": [
    "test = 1\n",
    "\n",
    "%matplotlib inline"
   ]
  },
  {
   "cell_type": "code",
   "execution_count": 0,
   "metadata": {
    "colab": {},
    "colab_type": "code",
    "id": "xAk1ru1cDpTD"
   },
   "outputs": [],
   "source": [
    "import glob\n",
    "import numpy as np\n",
    "import matplotlib.pyplot as plt\n",
    "from tensorflow.keras.preprocessing.image import ImageDataGenerator, load_img, img_to_array, array_to_img"
   ]
  },
  {
   "cell_type": "code",
   "execution_count": 6,
   "metadata": {
    "colab": {
     "base_uri": "https://localhost:8080/",
     "height": 36
    },
    "colab_type": "code",
    "executionInfo": {
     "elapsed": 979111,
     "status": "ok",
     "timestamp": 1579660381099,
     "user": {
      "displayName": "Soohyun Kim",
      "photoUrl": "",
      "userId": "04717435945000606452"
     },
     "user_tz": -540
    },
    "id": "zYAY9oHGDpTE",
    "outputId": "a96edff7-ffd3-488b-8043-555f9bb8cc20"
   },
   "outputs": [
    {
     "name": "stdout",
     "output_type": "stream",
     "text": [
      "Train dataset shape: (3000, 150, 150, 3) \tValidation dataset shape: (1000, 150, 150, 3)\n"
     ]
    }
   ],
   "source": [
    "IMG_DIM = (150, 150)\n",
    "\n",
    "train_files = glob.glob('training_data/*')\n",
    "train_imgs = [img_to_array(load_img(img, target_size=IMG_DIM)) for img in train_files]\n",
    "train_imgs = np.array(train_imgs)\n",
    "# train_labels = [fn.split('/')[1].split('.')[0].strip() for fn in train_files] # for linux\n",
    "train_labels = [fn.split('\\\\')[1].split('.')[0].strip() for fn in train_files] # for windows\n",
    "\n",
    "validation_files = glob.glob('validation_data/*')\n",
    "validation_imgs = [img_to_array(load_img(img, target_size=IMG_DIM)) for img in validation_files]\n",
    "validation_imgs = np.array(validation_imgs)\n",
    "# validation_labels = [fn.split('/')[1].split('.')[0].strip() for fn in validation_files] # for linux\n",
    "validation_labels = [fn.split('\\\\')[1].split('.')[0].strip() for fn in validation_files] # for windows\n",
    "\n",
    "print('Train dataset shape:', train_imgs.shape, \n",
    "      '\\tValidation dataset shape:', validation_imgs.shape)"
   ]
  },
  {
   "cell_type": "code",
   "execution_count": 0,
   "metadata": {
    "colab": {},
    "colab_type": "code",
    "id": "PFaXoGHDDpTH"
   },
   "outputs": [],
   "source": [
    "train_imgs_scaled = train_imgs.astype('float32')\n",
    "validation_imgs_scaled = validation_imgs.astype('float32')\n",
    "train_imgs_scaled /= 255\n",
    "validation_imgs_scaled /= 255"
   ]
  },
  {
   "cell_type": "code",
   "execution_count": 8,
   "metadata": {
    "colab": {
     "base_uri": "https://localhost:8080/",
     "height": 36
    },
    "colab_type": "code",
    "executionInfo": {
     "elapsed": 1751,
     "status": "ok",
     "timestamp": 1579660382881,
     "user": {
      "displayName": "Soohyun Kim",
      "photoUrl": "",
      "userId": "04717435945000606452"
     },
     "user_tz": -540
    },
    "id": "17LBzeEZDpTJ",
    "outputId": "c2a82016-2658-46dd-a669-96408209b0dc"
   },
   "outputs": [
    {
     "name": "stdout",
     "output_type": "stream",
     "text": [
      "['dog', 'dog', 'dog', 'dog', 'dog'] [1 1 1 1 1]\n"
     ]
    }
   ],
   "source": [
    "batch_size = 30\n",
    "num_classes = 2\n",
    "epochs = 30\n",
    "input_shape = (150, 150, 3)\n",
    "\n",
    "from sklearn.preprocessing import LabelEncoder\n",
    "\n",
    "le = LabelEncoder()\n",
    "le.fit(train_labels)\n",
    "# encode wine type labels\n",
    "train_labels_enc = le.transform(train_labels)\n",
    "validation_labels_enc = le.transform(validation_labels)\n",
    "\n",
    "print(train_labels[0:5], train_labels_enc[0:5])"
   ]
  },
  {
   "cell_type": "markdown",
   "metadata": {
    "colab_type": "text",
    "id": "Z6F_4MMWDpTL"
   },
   "source": [
    "ImageNet 데이터셋에 훈련된 VGG16 네트워크의 합성곱 기반층을 사용하여 강아지와 고양이 이미지에서 유용한 특성을 추출해 보겠습니다. 그런 다음 이 특성으로 강아지 vs. 고양이 분류기를 훈련합니다.\n",
    "\n",
    "VGG16 모델은 케라스에 패키지로 포함되어 있습니다. `keras.applications` 모듈에서 임포트할 수 있습니다. `keras.applications` 모듈에서 사용 가능한 이미지 분류 모델은 다음과 같습니다(모두 ImageNet 데이터셋에서 훈련되었습니다):\n",
    "\n",
    "* Xception\n",
    "* InceptionV3\n",
    "* ResNet50\n",
    "* VGG16\n",
    "* VGG19\n",
    "* MobileNet"
   ]
  },
  {
   "cell_type": "code",
   "execution_count": 10,
   "metadata": {
    "colab": {
     "base_uri": "https://localhost:8080/",
     "height": 984
    },
    "colab_type": "code",
    "executionInfo": {
     "elapsed": 2516,
     "status": "ok",
     "timestamp": 1579593913531,
     "user": {
      "displayName": "Soohyun Kim",
      "photoUrl": "",
      "userId": "04717435945000606452"
     },
     "user_tz": -540
    },
    "id": "gCsngfFkDpTM",
    "outputId": "377d09e5-a904-432a-876b-94b64631811e"
   },
   "outputs": [
    {
     "name": "stdout",
     "output_type": "stream",
     "text": [
      "WARNING:tensorflow:From /usr/local/lib/python3.6/dist-packages/tensorflow_core/python/ops/resource_variable_ops.py:1630: calling BaseResourceVariable.__init__ (from tensorflow.python.ops.resource_variable_ops) with constraint is deprecated and will be removed in a future version.\n",
      "Instructions for updating:\n",
      "If using Keras pass *_constraint arguments to layers.\n",
      "Downloading data from https://github.com/fchollet/deep-learning-models/releases/download/v0.1/vgg16_weights_tf_dim_ordering_tf_kernels_notop.h5\n",
      "58892288/58889256 [==============================] - 1s 0us/step\n",
      "Model: \"vgg16\"\n",
      "_________________________________________________________________\n",
      "Layer (type)                 Output Shape              Param #   \n",
      "=================================================================\n",
      "input_1 (InputLayer)         [(None, 150, 150, 3)]     0         \n",
      "_________________________________________________________________\n",
      "block1_conv1 (Conv2D)        (None, 150, 150, 64)      1792      \n",
      "_________________________________________________________________\n",
      "block1_conv2 (Conv2D)        (None, 150, 150, 64)      36928     \n",
      "_________________________________________________________________\n",
      "block1_pool (MaxPooling2D)   (None, 75, 75, 64)        0         \n",
      "_________________________________________________________________\n",
      "block2_conv1 (Conv2D)        (None, 75, 75, 128)       73856     \n",
      "_________________________________________________________________\n",
      "block2_conv2 (Conv2D)        (None, 75, 75, 128)       147584    \n",
      "_________________________________________________________________\n",
      "block2_pool (MaxPooling2D)   (None, 37, 37, 128)       0         \n",
      "_________________________________________________________________\n",
      "block3_conv1 (Conv2D)        (None, 37, 37, 256)       295168    \n",
      "_________________________________________________________________\n",
      "block3_conv2 (Conv2D)        (None, 37, 37, 256)       590080    \n",
      "_________________________________________________________________\n",
      "block3_conv3 (Conv2D)        (None, 37, 37, 256)       590080    \n",
      "_________________________________________________________________\n",
      "block3_pool (MaxPooling2D)   (None, 18, 18, 256)       0         \n",
      "_________________________________________________________________\n",
      "block4_conv1 (Conv2D)        (None, 18, 18, 512)       1180160   \n",
      "_________________________________________________________________\n",
      "block4_conv2 (Conv2D)        (None, 18, 18, 512)       2359808   \n",
      "_________________________________________________________________\n",
      "block4_conv3 (Conv2D)        (None, 18, 18, 512)       2359808   \n",
      "_________________________________________________________________\n",
      "block4_pool (MaxPooling2D)   (None, 9, 9, 512)         0         \n",
      "_________________________________________________________________\n",
      "block5_conv1 (Conv2D)        (None, 9, 9, 512)         2359808   \n",
      "_________________________________________________________________\n",
      "block5_conv2 (Conv2D)        (None, 9, 9, 512)         2359808   \n",
      "_________________________________________________________________\n",
      "block5_conv3 (Conv2D)        (None, 9, 9, 512)         2359808   \n",
      "_________________________________________________________________\n",
      "block5_pool (MaxPooling2D)   (None, 4, 4, 512)         0         \n",
      "=================================================================\n",
      "Total params: 14,714,688\n",
      "Trainable params: 14,714,688\n",
      "Non-trainable params: 0\n",
      "_________________________________________________________________\n"
     ]
    }
   ],
   "source": [
    "if test:\n",
    "    from tensorflow.keras.applications import ____\n",
    "    from tensorflow.keras.models import Model\n",
    "    import tensorflow.keras\n",
    "\n",
    "    vgg_base = ......\n",
    "\n",
    "\n",
    "    vgg_base.summary()"
   ]
  },
  {
   "cell_type": "code",
   "execution_count": 11,
   "metadata": {
    "colab": {
     "base_uri": "https://localhost:8080/",
     "height": 965
    },
    "colab_type": "code",
    "executionInfo": {
     "elapsed": 829,
     "status": "ok",
     "timestamp": 1579593915558,
     "user": {
      "displayName": "Soohyun Kim",
      "photoUrl": "",
      "userId": "04717435945000606452"
     },
     "user_tz": -540
    },
    "id": "PVIBw3S7DpTN",
    "outputId": "d7359e68-2423-4ca0-a9d0-e9bbb8c97470"
   },
   "outputs": [
    {
     "data": {
      "text/html": [
       "<div>\n",
       "<style scoped>\n",
       "    .dataframe tbody tr th:only-of-type {\n",
       "        vertical-align: middle;\n",
       "    }\n",
       "\n",
       "    .dataframe tbody tr th {\n",
       "        vertical-align: top;\n",
       "    }\n",
       "\n",
       "    .dataframe thead th {\n",
       "        text-align: right;\n",
       "    }\n",
       "</style>\n",
       "<table border=\"1\" class=\"dataframe\">\n",
       "  <thead>\n",
       "    <tr style=\"text-align: right;\">\n",
       "      <th></th>\n",
       "      <th>Layer Type</th>\n",
       "      <th>Layer Name</th>\n",
       "      <th>Layer Trainable</th>\n",
       "    </tr>\n",
       "  </thead>\n",
       "  <tbody>\n",
       "    <tr>\n",
       "      <th>0</th>\n",
       "      <td>&lt;tensorflow.python.keras.engine.input_layer.InputLayer object at 0x7f57fa50b358&gt;</td>\n",
       "      <td>input_1</td>\n",
       "      <td>True</td>\n",
       "    </tr>\n",
       "    <tr>\n",
       "      <th>1</th>\n",
       "      <td>&lt;tensorflow.python.keras.layers.convolutional.Conv2D object at 0x7f57f41cf2b0&gt;</td>\n",
       "      <td>block1_conv1</td>\n",
       "      <td>True</td>\n",
       "    </tr>\n",
       "    <tr>\n",
       "      <th>2</th>\n",
       "      <td>&lt;tensorflow.python.keras.layers.convolutional.Conv2D object at 0x7f57f41cfa20&gt;</td>\n",
       "      <td>block1_conv2</td>\n",
       "      <td>True</td>\n",
       "    </tr>\n",
       "    <tr>\n",
       "      <th>3</th>\n",
       "      <td>&lt;tensorflow.python.keras.layers.pooling.MaxPooling2D object at 0x7f57f41b5160&gt;</td>\n",
       "      <td>block1_pool</td>\n",
       "      <td>True</td>\n",
       "    </tr>\n",
       "    <tr>\n",
       "      <th>4</th>\n",
       "      <td>&lt;tensorflow.python.keras.layers.convolutional.Conv2D object at 0x7f57f41b5198&gt;</td>\n",
       "      <td>block2_conv1</td>\n",
       "      <td>True</td>\n",
       "    </tr>\n",
       "    <tr>\n",
       "      <th>5</th>\n",
       "      <td>&lt;tensorflow.python.keras.layers.convolutional.Conv2D object at 0x7f57f413fc88&gt;</td>\n",
       "      <td>block2_conv2</td>\n",
       "      <td>True</td>\n",
       "    </tr>\n",
       "    <tr>\n",
       "      <th>6</th>\n",
       "      <td>&lt;tensorflow.python.keras.layers.pooling.MaxPooling2D object at 0x7f57f4151358&gt;</td>\n",
       "      <td>block2_pool</td>\n",
       "      <td>True</td>\n",
       "    </tr>\n",
       "    <tr>\n",
       "      <th>7</th>\n",
       "      <td>&lt;tensorflow.python.keras.layers.convolutional.Conv2D object at 0x7f57f4151390&gt;</td>\n",
       "      <td>block3_conv1</td>\n",
       "      <td>True</td>\n",
       "    </tr>\n",
       "    <tr>\n",
       "      <th>8</th>\n",
       "      <td>&lt;tensorflow.python.keras.layers.convolutional.Conv2D object at 0x7f57f415deb8&gt;</td>\n",
       "      <td>block3_conv2</td>\n",
       "      <td>True</td>\n",
       "    </tr>\n",
       "    <tr>\n",
       "      <th>9</th>\n",
       "      <td>&lt;tensorflow.python.keras.layers.convolutional.Conv2D object at 0x7f57f416f550&gt;</td>\n",
       "      <td>block3_conv3</td>\n",
       "      <td>True</td>\n",
       "    </tr>\n",
       "    <tr>\n",
       "      <th>10</th>\n",
       "      <td>&lt;tensorflow.python.keras.layers.pooling.MaxPooling2D object at 0x7f57f38baba8&gt;</td>\n",
       "      <td>block3_pool</td>\n",
       "      <td>True</td>\n",
       "    </tr>\n",
       "    <tr>\n",
       "      <th>11</th>\n",
       "      <td>&lt;tensorflow.python.keras.layers.convolutional.Conv2D object at 0x7f57f38babe0&gt;</td>\n",
       "      <td>block4_conv1</td>\n",
       "      <td>True</td>\n",
       "    </tr>\n",
       "    <tr>\n",
       "      <th>12</th>\n",
       "      <td>&lt;tensorflow.python.keras.layers.convolutional.Conv2D object at 0x7f57f5475208&gt;</td>\n",
       "      <td>block4_conv2</td>\n",
       "      <td>True</td>\n",
       "    </tr>\n",
       "    <tr>\n",
       "      <th>13</th>\n",
       "      <td>&lt;tensorflow.python.keras.layers.convolutional.Conv2D object at 0x7f583caf7320&gt;</td>\n",
       "      <td>block4_conv3</td>\n",
       "      <td>True</td>\n",
       "    </tr>\n",
       "    <tr>\n",
       "      <th>14</th>\n",
       "      <td>&lt;tensorflow.python.keras.layers.pooling.MaxPooling2D object at 0x7f57fa4f57f0&gt;</td>\n",
       "      <td>block4_pool</td>\n",
       "      <td>True</td>\n",
       "    </tr>\n",
       "    <tr>\n",
       "      <th>15</th>\n",
       "      <td>&lt;tensorflow.python.keras.layers.convolutional.Conv2D object at 0x7f57fa4f5828&gt;</td>\n",
       "      <td>block5_conv1</td>\n",
       "      <td>True</td>\n",
       "    </tr>\n",
       "    <tr>\n",
       "      <th>16</th>\n",
       "      <td>&lt;tensorflow.python.keras.layers.convolutional.Conv2D object at 0x7f57f38d6390&gt;</td>\n",
       "      <td>block5_conv2</td>\n",
       "      <td>True</td>\n",
       "    </tr>\n",
       "    <tr>\n",
       "      <th>17</th>\n",
       "      <td>&lt;tensorflow.python.keras.layers.convolutional.Conv2D object at 0x7f57f38e39e8&gt;</td>\n",
       "      <td>block5_conv3</td>\n",
       "      <td>True</td>\n",
       "    </tr>\n",
       "    <tr>\n",
       "      <th>18</th>\n",
       "      <td>&lt;tensorflow.python.keras.layers.pooling.MaxPooling2D object at 0x7f57f38f3080&gt;</td>\n",
       "      <td>block5_pool</td>\n",
       "      <td>True</td>\n",
       "    </tr>\n",
       "  </tbody>\n",
       "</table>\n",
       "</div>"
      ],
      "text/plain": [
       "                                                                          Layer Type  ... Layer Trainable\n",
       "0   <tensorflow.python.keras.engine.input_layer.InputLayer object at 0x7f57fa50b358>  ...  True          \n",
       "1   <tensorflow.python.keras.layers.convolutional.Conv2D object at 0x7f57f41cf2b0>    ...  True          \n",
       "2   <tensorflow.python.keras.layers.convolutional.Conv2D object at 0x7f57f41cfa20>    ...  True          \n",
       "3   <tensorflow.python.keras.layers.pooling.MaxPooling2D object at 0x7f57f41b5160>    ...  True          \n",
       "4   <tensorflow.python.keras.layers.convolutional.Conv2D object at 0x7f57f41b5198>    ...  True          \n",
       "5   <tensorflow.python.keras.layers.convolutional.Conv2D object at 0x7f57f413fc88>    ...  True          \n",
       "6   <tensorflow.python.keras.layers.pooling.MaxPooling2D object at 0x7f57f4151358>    ...  True          \n",
       "7   <tensorflow.python.keras.layers.convolutional.Conv2D object at 0x7f57f4151390>    ...  True          \n",
       "8   <tensorflow.python.keras.layers.convolutional.Conv2D object at 0x7f57f415deb8>    ...  True          \n",
       "9   <tensorflow.python.keras.layers.convolutional.Conv2D object at 0x7f57f416f550>    ...  True          \n",
       "10  <tensorflow.python.keras.layers.pooling.MaxPooling2D object at 0x7f57f38baba8>    ...  True          \n",
       "11  <tensorflow.python.keras.layers.convolutional.Conv2D object at 0x7f57f38babe0>    ...  True          \n",
       "12  <tensorflow.python.keras.layers.convolutional.Conv2D object at 0x7f57f5475208>    ...  True          \n",
       "13  <tensorflow.python.keras.layers.convolutional.Conv2D object at 0x7f583caf7320>    ...  True          \n",
       "14  <tensorflow.python.keras.layers.pooling.MaxPooling2D object at 0x7f57fa4f57f0>    ...  True          \n",
       "15  <tensorflow.python.keras.layers.convolutional.Conv2D object at 0x7f57fa4f5828>    ...  True          \n",
       "16  <tensorflow.python.keras.layers.convolutional.Conv2D object at 0x7f57f38d6390>    ...  True          \n",
       "17  <tensorflow.python.keras.layers.convolutional.Conv2D object at 0x7f57f38e39e8>    ...  True          \n",
       "18  <tensorflow.python.keras.layers.pooling.MaxPooling2D object at 0x7f57f38f3080>    ...  True          \n",
       "\n",
       "[19 rows x 3 columns]"
      ]
     },
     "execution_count": 11,
     "metadata": {
      "tags": []
     },
     "output_type": "execute_result"
    }
   ],
   "source": [
    "if test:\n",
    "    import pandas as pd\n",
    "    pd.set_option('max_colwidth', -1)\n",
    "\n",
    "    layers = [  ...............  ]\n",
    "    pd.DataFrame(layers, columns=['Layer Type', 'Layer Name', 'Layer Trainable'])"
   ]
  },
  {
   "cell_type": "code",
   "execution_count": 12,
   "metadata": {
    "colab": {
     "base_uri": "https://localhost:8080/",
     "height": 56
    },
    "colab_type": "code",
    "executionInfo": {
     "elapsed": 774,
     "status": "ok",
     "timestamp": 1579593917714,
     "user": {
      "displayName": "Soohyun Kim",
      "photoUrl": "",
      "userId": "04717435945000606452"
     },
     "user_tz": -540
    },
    "id": "VH4IJYSVDpTP",
    "outputId": "0ce3b5b5-6d9b-408f-8e85-01513ef9443a"
   },
   "outputs": [
    {
     "name": "stdout",
     "output_type": "stream",
     "text": [
      "Trainable layers: [<tf.Variable 'block1_conv1/kernel:0' shape=(3, 3, 3, 64) dtype=float32>, <tf.Variable 'block1_conv1/bias:0' shape=(64,) dtype=float32>, <tf.Variable 'block1_conv2/kernel:0' shape=(3, 3, 64, 64) dtype=float32>, <tf.Variable 'block1_conv2/bias:0' shape=(64,) dtype=float32>, <tf.Variable 'block2_conv1/kernel:0' shape=(3, 3, 64, 128) dtype=float32>, <tf.Variable 'block2_conv1/bias:0' shape=(128,) dtype=float32>, <tf.Variable 'block2_conv2/kernel:0' shape=(3, 3, 128, 128) dtype=float32>, <tf.Variable 'block2_conv2/bias:0' shape=(128,) dtype=float32>, <tf.Variable 'block3_conv1/kernel:0' shape=(3, 3, 128, 256) dtype=float32>, <tf.Variable 'block3_conv1/bias:0' shape=(256,) dtype=float32>, <tf.Variable 'block3_conv2/kernel:0' shape=(3, 3, 256, 256) dtype=float32>, <tf.Variable 'block3_conv2/bias:0' shape=(256,) dtype=float32>, <tf.Variable 'block3_conv3/kernel:0' shape=(3, 3, 256, 256) dtype=float32>, <tf.Variable 'block3_conv3/bias:0' shape=(256,) dtype=float32>, <tf.Variable 'block4_conv1/kernel:0' shape=(3, 3, 256, 512) dtype=float32>, <tf.Variable 'block4_conv1/bias:0' shape=(512,) dtype=float32>, <tf.Variable 'block4_conv2/kernel:0' shape=(3, 3, 512, 512) dtype=float32>, <tf.Variable 'block4_conv2/bias:0' shape=(512,) dtype=float32>, <tf.Variable 'block4_conv3/kernel:0' shape=(3, 3, 512, 512) dtype=float32>, <tf.Variable 'block4_conv3/bias:0' shape=(512,) dtype=float32>, <tf.Variable 'block5_conv1/kernel:0' shape=(3, 3, 512, 512) dtype=float32>, <tf.Variable 'block5_conv1/bias:0' shape=(512,) dtype=float32>, <tf.Variable 'block5_conv2/kernel:0' shape=(3, 3, 512, 512) dtype=float32>, <tf.Variable 'block5_conv2/bias:0' shape=(512,) dtype=float32>, <tf.Variable 'block5_conv3/kernel:0' shape=(3, 3, 512, 512) dtype=float32>, <tf.Variable 'block5_conv3/bias:0' shape=(512,) dtype=float32>]\n"
     ]
    }
   ],
   "source": [
    "if test:\n",
    "    print(\"Trainable layers:\", vgg_base.______)"
   ]
  },
  {
   "cell_type": "code",
   "execution_count": 9,
   "metadata": {
    "colab": {
     "base_uri": "https://localhost:8080/",
     "height": 1000
    },
    "colab_type": "code",
    "executionInfo": {
     "elapsed": 11539,
     "status": "ok",
     "timestamp": 1579660392684,
     "user": {
      "displayName": "Soohyun Kim",
      "photoUrl": "",
      "userId": "04717435945000606452"
     },
     "user_tz": -540
    },
    "id": "2M0YO9fLDpTR",
    "outputId": "dc0088e0-af62-4f23-eccd-c11af51a9e29"
   },
   "outputs": [
    {
     "name": "stdout",
     "output_type": "stream",
     "text": [
      "WARNING:tensorflow:From /usr/local/lib/python3.6/dist-packages/tensorflow_core/python/ops/resource_variable_ops.py:1630: calling BaseResourceVariable.__init__ (from tensorflow.python.ops.resource_variable_ops) with constraint is deprecated and will be removed in a future version.\n",
      "Instructions for updating:\n",
      "If using Keras pass *_constraint arguments to layers.\n",
      "Downloading data from https://github.com/fchollet/deep-learning-models/releases/download/v0.1/vgg16_weights_tf_dim_ordering_tf_kernels_notop.h5\n",
      "58892288/58889256 [==============================] - 1s 0us/step\n",
      "Model: \"model\"\n",
      "_________________________________________________________________\n",
      "Layer (type)                 Output Shape              Param #   \n",
      "=================================================================\n",
      "input_1 (InputLayer)         [(None, 150, 150, 3)]     0         \n",
      "_________________________________________________________________\n",
      "block1_conv1 (Conv2D)        (None, 150, 150, 64)      1792      \n",
      "_________________________________________________________________\n",
      "block1_conv2 (Conv2D)        (None, 150, 150, 64)      36928     \n",
      "_________________________________________________________________\n",
      "block1_pool (MaxPooling2D)   (None, 75, 75, 64)        0         \n",
      "_________________________________________________________________\n",
      "block2_conv1 (Conv2D)        (None, 75, 75, 128)       73856     \n",
      "_________________________________________________________________\n",
      "block2_conv2 (Conv2D)        (None, 75, 75, 128)       147584    \n",
      "_________________________________________________________________\n",
      "block2_pool (MaxPooling2D)   (None, 37, 37, 128)       0         \n",
      "_________________________________________________________________\n",
      "block3_conv1 (Conv2D)        (None, 37, 37, 256)       295168    \n",
      "_________________________________________________________________\n",
      "block3_conv2 (Conv2D)        (None, 37, 37, 256)       590080    \n",
      "_________________________________________________________________\n",
      "block3_conv3 (Conv2D)        (None, 37, 37, 256)       590080    \n",
      "_________________________________________________________________\n",
      "block3_pool (MaxPooling2D)   (None, 18, 18, 256)       0         \n",
      "_________________________________________________________________\n",
      "block4_conv1 (Conv2D)        (None, 18, 18, 512)       1180160   \n",
      "_________________________________________________________________\n",
      "block4_conv2 (Conv2D)        (None, 18, 18, 512)       2359808   \n",
      "_________________________________________________________________\n",
      "block4_conv3 (Conv2D)        (None, 18, 18, 512)       2359808   \n",
      "_________________________________________________________________\n",
      "block4_pool (MaxPooling2D)   (None, 9, 9, 512)         0         \n",
      "_________________________________________________________________\n",
      "block5_conv1 (Conv2D)        (None, 9, 9, 512)         2359808   \n",
      "_________________________________________________________________\n",
      "block5_conv2 (Conv2D)        (None, 9, 9, 512)         2359808   \n",
      "_________________________________________________________________\n",
      "block5_conv3 (Conv2D)        (None, 9, 9, 512)         2359808   \n",
      "_________________________________________________________________\n",
      "block5_pool (MaxPooling2D)   (None, 4, 4, 512)         0         \n",
      "_________________________________________________________________\n",
      "flatten (Flatten)            (None, 8192)              0         \n",
      "=================================================================\n",
      "Total params: 14,714,688\n",
      "Trainable params: 0\n",
      "Non-trainable params: 14,714,688\n",
      "_________________________________________________________________\n"
     ]
    }
   ],
   "source": [
    "from tensorflow.keras.applications import vgg16\n",
    "from tensorflow.keras.models import Model\n",
    "import tensorflow.keras\n",
    "\n",
    "vgg = vgg16.VGG16(include_top=False, weights='imagenet', \n",
    "                                     input_shape=input_shape)\n",
    "\n",
    "output = ..........\n",
    "output = ...........\n",
    "\n",
    "vgg_model = ..........\n",
    "vgg_model.trainable = False\n",
    "\n",
    "for layer in vgg_model.layers:\n",
    "    layer.trainable = ......\n",
    "\n",
    "vgg_model.summary()"
   ]
  },
  {
   "cell_type": "code",
   "execution_count": 10,
   "metadata": {
    "colab": {
     "base_uri": "https://localhost:8080/",
     "height": 995
    },
    "colab_type": "code",
    "executionInfo": {
     "elapsed": 11525,
     "status": "ok",
     "timestamp": 1579660392686,
     "user": {
      "displayName": "Soohyun Kim",
      "photoUrl": "",
      "userId": "04717435945000606452"
     },
     "user_tz": -540
    },
    "id": "8WCJlsvqDpTT",
    "outputId": "d9a7622f-7ba6-412d-9c7f-82f2dc4c2806"
   },
   "outputs": [
    {
     "data": {
      "text/html": [
       "<div>\n",
       "<style scoped>\n",
       "    .dataframe tbody tr th:only-of-type {\n",
       "        vertical-align: middle;\n",
       "    }\n",
       "\n",
       "    .dataframe tbody tr th {\n",
       "        vertical-align: top;\n",
       "    }\n",
       "\n",
       "    .dataframe thead th {\n",
       "        text-align: right;\n",
       "    }\n",
       "</style>\n",
       "<table border=\"1\" class=\"dataframe\">\n",
       "  <thead>\n",
       "    <tr style=\"text-align: right;\">\n",
       "      <th></th>\n",
       "      <th>Layer Type</th>\n",
       "      <th>Layer Name</th>\n",
       "      <th>Layer Trainable</th>\n",
       "    </tr>\n",
       "  </thead>\n",
       "  <tbody>\n",
       "    <tr>\n",
       "      <th>0</th>\n",
       "      <td>&lt;tensorflow.python.keras.engine.input_layer.InputLayer object at 0x7fb8cb368ba8&gt;</td>\n",
       "      <td>input_1</td>\n",
       "      <td>False</td>\n",
       "    </tr>\n",
       "    <tr>\n",
       "      <th>1</th>\n",
       "      <td>&lt;tensorflow.python.keras.layers.convolutional.Conv2D object at 0x7fb887ed1a20&gt;</td>\n",
       "      <td>block1_conv1</td>\n",
       "      <td>False</td>\n",
       "    </tr>\n",
       "    <tr>\n",
       "      <th>2</th>\n",
       "      <td>&lt;tensorflow.python.keras.layers.convolutional.Conv2D object at 0x7fb887c651d0&gt;</td>\n",
       "      <td>block1_conv2</td>\n",
       "      <td>False</td>\n",
       "    </tr>\n",
       "    <tr>\n",
       "      <th>3</th>\n",
       "      <td>&lt;tensorflow.python.keras.layers.pooling.MaxPooling2D object at 0x7fb88740a908&gt;</td>\n",
       "      <td>block1_pool</td>\n",
       "      <td>False</td>\n",
       "    </tr>\n",
       "    <tr>\n",
       "      <th>4</th>\n",
       "      <td>&lt;tensorflow.python.keras.layers.convolutional.Conv2D object at 0x7fb88740a940&gt;</td>\n",
       "      <td>block2_conv1</td>\n",
       "      <td>False</td>\n",
       "    </tr>\n",
       "    <tr>\n",
       "      <th>5</th>\n",
       "      <td>&lt;tensorflow.python.keras.layers.convolutional.Conv2D object at 0x7fb8874284a8&gt;</td>\n",
       "      <td>block2_conv2</td>\n",
       "      <td>False</td>\n",
       "    </tr>\n",
       "    <tr>\n",
       "      <th>6</th>\n",
       "      <td>&lt;tensorflow.python.keras.layers.pooling.MaxPooling2D object at 0x7fb8873b7b00&gt;</td>\n",
       "      <td>block2_pool</td>\n",
       "      <td>False</td>\n",
       "    </tr>\n",
       "    <tr>\n",
       "      <th>7</th>\n",
       "      <td>&lt;tensorflow.python.keras.layers.convolutional.Conv2D object at 0x7fb8873c5f60&gt;</td>\n",
       "      <td>block3_conv1</td>\n",
       "      <td>False</td>\n",
       "    </tr>\n",
       "    <tr>\n",
       "      <th>8</th>\n",
       "      <td>&lt;tensorflow.python.keras.layers.convolutional.Conv2D object at 0x7fb8873bd6a0&gt;</td>\n",
       "      <td>block3_conv2</td>\n",
       "      <td>False</td>\n",
       "    </tr>\n",
       "    <tr>\n",
       "      <th>9</th>\n",
       "      <td>&lt;tensorflow.python.keras.layers.convolutional.Conv2D object at 0x7fb8873d7cf8&gt;</td>\n",
       "      <td>block3_conv3</td>\n",
       "      <td>False</td>\n",
       "    </tr>\n",
       "    <tr>\n",
       "      <th>10</th>\n",
       "      <td>&lt;tensorflow.python.keras.layers.pooling.MaxPooling2D object at 0x7fb8873e9320&gt;</td>\n",
       "      <td>block3_pool</td>\n",
       "      <td>False</td>\n",
       "    </tr>\n",
       "    <tr>\n",
       "      <th>11</th>\n",
       "      <td>&lt;tensorflow.python.keras.layers.convolutional.Conv2D object at 0x7fb8873e9358&gt;</td>\n",
       "      <td>block4_conv1</td>\n",
       "      <td>False</td>\n",
       "    </tr>\n",
       "    <tr>\n",
       "      <th>12</th>\n",
       "      <td>&lt;tensorflow.python.keras.layers.convolutional.Conv2D object at 0x7fb887377eb8&gt;</td>\n",
       "      <td>block4_conv2</td>\n",
       "      <td>False</td>\n",
       "    </tr>\n",
       "    <tr>\n",
       "      <th>13</th>\n",
       "      <td>&lt;tensorflow.python.keras.layers.convolutional.Conv2D object at 0x7fb88737c550&gt;</td>\n",
       "      <td>block4_conv3</td>\n",
       "      <td>False</td>\n",
       "    </tr>\n",
       "    <tr>\n",
       "      <th>14</th>\n",
       "      <td>&lt;tensorflow.python.keras.layers.pooling.MaxPooling2D object at 0x7fb887397ba8&gt;</td>\n",
       "      <td>block4_pool</td>\n",
       "      <td>False</td>\n",
       "    </tr>\n",
       "    <tr>\n",
       "      <th>15</th>\n",
       "      <td>&lt;tensorflow.python.keras.layers.convolutional.Conv2D object at 0x7fb887397be0&gt;</td>\n",
       "      <td>block5_conv1</td>\n",
       "      <td>False</td>\n",
       "    </tr>\n",
       "    <tr>\n",
       "      <th>16</th>\n",
       "      <td>&lt;tensorflow.python.keras.layers.convolutional.Conv2D object at 0x7fb8873a6748&gt;</td>\n",
       "      <td>block5_conv2</td>\n",
       "      <td>False</td>\n",
       "    </tr>\n",
       "    <tr>\n",
       "      <th>17</th>\n",
       "      <td>&lt;tensorflow.python.keras.layers.convolutional.Conv2D object at 0x7fb887334d68&gt;</td>\n",
       "      <td>block5_conv3</td>\n",
       "      <td>False</td>\n",
       "    </tr>\n",
       "    <tr>\n",
       "      <th>18</th>\n",
       "      <td>&lt;tensorflow.python.keras.layers.pooling.MaxPooling2D object at 0x7fb887345438&gt;</td>\n",
       "      <td>block5_pool</td>\n",
       "      <td>False</td>\n",
       "    </tr>\n",
       "    <tr>\n",
       "      <th>19</th>\n",
       "      <td>&lt;tensorflow.python.keras.layers.core.Flatten object at 0x7fb8e7b880f0&gt;</td>\n",
       "      <td>flatten</td>\n",
       "      <td>False</td>\n",
       "    </tr>\n",
       "  </tbody>\n",
       "</table>\n",
       "</div>"
      ],
      "text/plain": [
       "                                                                          Layer Type  ... Layer Trainable\n",
       "0   <tensorflow.python.keras.engine.input_layer.InputLayer object at 0x7fb8cb368ba8>  ...  False         \n",
       "1   <tensorflow.python.keras.layers.convolutional.Conv2D object at 0x7fb887ed1a20>    ...  False         \n",
       "2   <tensorflow.python.keras.layers.convolutional.Conv2D object at 0x7fb887c651d0>    ...  False         \n",
       "3   <tensorflow.python.keras.layers.pooling.MaxPooling2D object at 0x7fb88740a908>    ...  False         \n",
       "4   <tensorflow.python.keras.layers.convolutional.Conv2D object at 0x7fb88740a940>    ...  False         \n",
       "5   <tensorflow.python.keras.layers.convolutional.Conv2D object at 0x7fb8874284a8>    ...  False         \n",
       "6   <tensorflow.python.keras.layers.pooling.MaxPooling2D object at 0x7fb8873b7b00>    ...  False         \n",
       "7   <tensorflow.python.keras.layers.convolutional.Conv2D object at 0x7fb8873c5f60>    ...  False         \n",
       "8   <tensorflow.python.keras.layers.convolutional.Conv2D object at 0x7fb8873bd6a0>    ...  False         \n",
       "9   <tensorflow.python.keras.layers.convolutional.Conv2D object at 0x7fb8873d7cf8>    ...  False         \n",
       "10  <tensorflow.python.keras.layers.pooling.MaxPooling2D object at 0x7fb8873e9320>    ...  False         \n",
       "11  <tensorflow.python.keras.layers.convolutional.Conv2D object at 0x7fb8873e9358>    ...  False         \n",
       "12  <tensorflow.python.keras.layers.convolutional.Conv2D object at 0x7fb887377eb8>    ...  False         \n",
       "13  <tensorflow.python.keras.layers.convolutional.Conv2D object at 0x7fb88737c550>    ...  False         \n",
       "14  <tensorflow.python.keras.layers.pooling.MaxPooling2D object at 0x7fb887397ba8>    ...  False         \n",
       "15  <tensorflow.python.keras.layers.convolutional.Conv2D object at 0x7fb887397be0>    ...  False         \n",
       "16  <tensorflow.python.keras.layers.convolutional.Conv2D object at 0x7fb8873a6748>    ...  False         \n",
       "17  <tensorflow.python.keras.layers.convolutional.Conv2D object at 0x7fb887334d68>    ...  False         \n",
       "18  <tensorflow.python.keras.layers.pooling.MaxPooling2D object at 0x7fb887345438>    ...  False         \n",
       "19  <tensorflow.python.keras.layers.core.Flatten object at 0x7fb8e7b880f0>            ...  False         \n",
       "\n",
       "[20 rows x 3 columns]"
      ]
     },
     "execution_count": 10,
     "metadata": {
      "tags": []
     },
     "output_type": "execute_result"
    }
   ],
   "source": [
    "import pandas as pd\n",
    "pd.set_option('max_colwidth', -1)\n",
    "\n",
    "layers = [(layer, layer.name, layer.trainable) for layer in vgg_model.layers]\n",
    "pd.DataFrame(layers, columns=['Layer Type', 'Layer Name', 'Layer Trainable'])"
   ]
  },
  {
   "cell_type": "code",
   "execution_count": 10,
   "metadata": {
    "colab": {
     "base_uri": "https://localhost:8080/",
     "height": 36
    },
    "colab_type": "code",
    "executionInfo": {
     "elapsed": 11547,
     "status": "ok",
     "timestamp": 1579654103577,
     "user": {
      "displayName": "Soohyun Kim",
      "photoUrl": "",
      "userId": "04717435945000606452"
     },
     "user_tz": -540
    },
    "id": "OfMBgj_qDpTV",
    "outputId": "f2274bfd-aa87-4fab-bf4d-ed96af100964"
   },
   "outputs": [
    {
     "name": "stdout",
     "output_type": "stream",
     "text": [
      "Trainable layers: []\n"
     ]
    }
   ],
   "source": [
    "print(\"Trainable layers:\", vgg_model.__________ )"
   ]
  },
  {
   "cell_type": "code",
   "execution_count": 11,
   "metadata": {
    "colab": {
     "base_uri": "https://localhost:8080/",
     "height": 306
    },
    "colab_type": "code",
    "executionInfo": {
     "elapsed": 18999,
     "status": "ok",
     "timestamp": 1579654111042,
     "user": {
      "displayName": "Soohyun Kim",
      "photoUrl": "",
      "userId": "04717435945000606452"
     },
     "user_tz": -540
    },
    "id": "x03iqghqDpTW",
    "outputId": "acea702e-f45e-4d04-f8d6-25bdb4e3d94d",
    "scrolled": true
   },
   "outputs": [
    {
     "name": "stdout",
     "output_type": "stream",
     "text": [
      "(1, 4, 4, 512)\n"
     ]
    },
    {
     "data": {
      "text/plain": [
       "<matplotlib.image.AxesImage at 0x7f2751d0c908>"
      ]
     },
     "execution_count": 11,
     "metadata": {
      "tags": []
     },
     "output_type": "execute_result"
    },
    {
     "data": {
      "image/png": "[encoded data removed]",
      "text/plain": [
       "<Figure size 432x288 with 1 Axes>"
      ]
     },
     "metadata": {
      "tags": []
     },
     "output_type": "display_data"
    }
   ],
   "source": [
    "bottleneck_feature_example = vgg.______(train_imgs_scaled[0:1])\n",
    "print(bottleneck_feature_example.shape)\n",
    "plt.imshow(bottleneck_feature_example[0][:,:,0])"
   ]
  },
  {
   "cell_type": "code",
   "execution_count": null,
   "metadata": {},
   "outputs": [],
   "source": [
    "bottleneck_feature_example = vgg_model.predict(train_imgs_scaled[0:1])\n",
    "print(bottleneck_feature_example.shape)"
   ]
  },
  {
   "cell_type": "markdown",
   "metadata": {
    "colab_type": "text",
    "id": "OOi7ur8-DpTY"
   },
   "source": [
    "### 전이 모델을 위한 특성 추출\n",
    "* 미리 학습된 VGG16 모델로부터 특성을 추출함\n",
    "* 최종 특성 맵의 크기는 (4, 4, 512)입니다. 이 특성 위에 완전 연결 층을 놓을 것입니다"
   ]
  },
  {
   "cell_type": "code",
   "execution_count": 0,
   "metadata": {
    "colab": {},
    "colab_type": "code",
    "id": "heluh26ODpTZ"
   },
   "outputs": [],
   "source": [
    "def get_bottleneck_features(model, input_imgs):    \n",
    "    features = model.predict(input_imgs, verbose=1)\n",
    "    return features"
   ]
  },
  {
   "cell_type": "code",
   "execution_count": 12,
   "metadata": {
    "colab": {
     "base_uri": "https://localhost:8080/",
     "height": 73
    },
    "colab_type": "code",
    "executionInfo": {
     "elapsed": 31344,
     "status": "ok",
     "timestamp": 1579660412528,
     "user": {
      "displayName": "Soohyun Kim",
      "photoUrl": "",
      "userId": "04717435945000606452"
     },
     "user_tz": -540
    },
    "id": "UfvHMHgUDpTc",
    "outputId": "b8da4589-5821-41d6-88d9-e4dea521461e"
   },
   "outputs": [
    {
     "name": "stdout",
     "output_type": "stream",
     "text": [
      "3000/3000 [==============================] - 17s 6ms/sample\n",
      "1000/1000 [==============================] - 3s 3ms/sample\n",
      "Train Bottleneck Features: (3000, 8192) \tValidation Bottleneck Features: (1000, 8192)\n"
     ]
    }
   ],
   "source": [
    "train_features_vgg = get_bottleneck_features(_______, train_imgs_scaled)\n",
    "validation_features_vgg = get_bottleneck_features(_______, validation_imgs_scaled)\n",
    "\n",
    "print('Train Bottleneck Features:', train_features_vgg.shape, \n",
    "      '\\tValidation Bottleneck Features:', validation_features_vgg.shape)"
   ]
  },
  {
   "cell_type": "code",
   "execution_count": 14,
   "metadata": {
    "colab": {
     "base_uri": "https://localhost:8080/",
     "height": 54
    },
    "colab_type": "code",
    "executionInfo": {
     "elapsed": 31759,
     "status": "ok",
     "timestamp": 1579654123838,
     "user": {
      "displayName": "Soohyun Kim",
      "photoUrl": "",
      "userId": "04717435945000606452"
     },
     "user_tz": -540
    },
    "id": "kEBr8egTDpTe",
    "outputId": "9001811e-9a6a-4bd9-fa1b-e7c4e4a8ecd3"
   },
   "outputs": [
    {
     "name": "stdout",
     "output_type": "stream",
     "text": [
      "[0.1867754  0.         0.         0.14237325 0.        ]\n",
      "[0.         0.         0.         0.         0.47230554]\n"
     ]
    }
   ],
   "source": [
    "if test:\n",
    "    print(train_features_vgg[0][:5])\n",
    "    print(validation_features_vgg[0][:5])"
   ]
  },
  {
   "cell_type": "markdown",
   "metadata": {
    "colab_type": "text",
    "id": "bpHnEVv_DpTg"
   },
   "source": [
    "## Base ConvNet 특성 위에 완전 연결 층을 놓는 두 가지 방식\n",
    "1. 새로운 데이터셋에서 합성곱 기반층을 실행하고 출력을 넘파이 배열로 디스크에 저장합니다. 그다음 이 데이터를 독립된 완전 연결 분류기에 입력으로 사용합니다. 합성곱 연산은 전체 과정 중에서 가장 비싼 부분입니다. 이 방식은 모든 입력 이미지에 대해 합성곱 기반층을 한 번만 실행하면 되기 때문에 빠르고 비용이 적게 듭니다. 하지만 이런 이유 때문에 이 기법에는 데이터 증식을 사용할 수 없습니다.\n",
    "2. 준비한 모델(conv_base) 위에 Dense 층을 쌓아 확장합니다. 그다음 입력 데이터에서 엔드 투 엔드로 전체 모델을 실행합니다. 모델에 노출된 모든 입력 이미지가 매번 합성곱 기반층을 통과하기 때문에 데이터 증식을 사용할 수 있습니다. 하지만 이런 이유로 이 방식은 첫 번째 방식보다 훨씬 비용이 많이 듭니다."
   ]
  },
  {
   "cell_type": "markdown",
   "metadata": {
    "colab_type": "text",
    "id": "ERXSnGhaDpTh"
   },
   "source": [
    "### 완전 연결층 방식1 - 전이 모델 설계  \n",
    "* 완전 연결 분류기를 정의함 (규제를 위해 드롭아웃을 사용합니다)"
   ]
  },
  {
   "cell_type": "code",
   "execution_count": 13,
   "metadata": {
    "colab": {
     "base_uri": "https://localhost:8080/",
     "height": 427
    },
    "colab_type": "code",
    "executionInfo": {
     "elapsed": 31335,
     "status": "ok",
     "timestamp": 1579660412529,
     "user": {
      "displayName": "Soohyun Kim",
      "photoUrl": "",
      "userId": "04717435945000606452"
     },
     "user_tz": -540
    },
    "id": "ffn8xbljDpTl",
    "outputId": "06d981f2-e757-4443-ad9a-f2f727801487"
   },
   "outputs": [
    {
     "name": "stdout",
     "output_type": "stream",
     "text": [
      "WARNING:tensorflow:From /usr/local/lib/python3.6/dist-packages/tensorflow_core/python/ops/nn_impl.py:183: where (from tensorflow.python.ops.array_ops) is deprecated and will be removed in a future version.\n",
      "Instructions for updating:\n",
      "Use tf.where in 2.0, which has the same broadcast rule as np.where\n",
      "Model: \"sequential\"\n",
      "_________________________________________________________________\n",
      "Layer (type)                 Output Shape              Param #   \n",
      "=================================================================\n",
      "dense (Dense)                (None, 512)               4194816   \n",
      "_________________________________________________________________\n",
      "dropout (Dropout)            (None, 512)               0         \n",
      "_________________________________________________________________\n",
      "dense_1 (Dense)              (None, 512)               262656    \n",
      "_________________________________________________________________\n",
      "dropout_1 (Dropout)          (None, 512)               0         \n",
      "_________________________________________________________________\n",
      "dense_2 (Dense)              (None, 1)                 513       \n",
      "=================================================================\n",
      "Total params: 4,457,985\n",
      "Trainable params: 4,457,985\n",
      "Non-trainable params: 0\n",
      "_________________________________________________________________\n"
     ]
    }
   ],
   "source": [
    "from tensorflow.keras.layers import Conv2D, MaxPooling2D, Flatten, Dense, Dropout, InputLayer\n",
    "from tensorflow.keras.models import Sequential\n",
    "from tensorflow.keras import optimizers\n",
    "\n",
    "input_shape = vgg_model.output_shape[1]  # 8192\n",
    "\n",
    "model = .....\n",
    ".............\n",
    "\n",
    "\n",
    "\n",
    "model.compile(loss='binary_crossentropy',\n",
    "              optimizer=optimizers.RMSprop(lr=1e-4),\n",
    "              metrics=['accuracy'])\n",
    "\n",
    "model.summary()"
   ]
  },
  {
   "cell_type": "markdown",
   "metadata": {
    "colab_type": "text",
    "id": "hBAZ5Wz-DpTo"
   },
   "source": [
    "### 완전 연결층 방식1 - 전이 모델 학습\n",
    "* 저장된 데이터와 레이블을 사용해 훈련합니다"
   ]
  },
  {
   "cell_type": "code",
   "execution_count": 14,
   "metadata": {
    "colab": {
     "base_uri": "https://localhost:8080/",
     "height": 1000
    },
    "colab_type": "code",
    "executionInfo": {
     "elapsed": 51641,
     "status": "ok",
     "timestamp": 1579660432845,
     "user": {
      "displayName": "Soohyun Kim",
      "photoUrl": "",
      "userId": "04717435945000606452"
     },
     "user_tz": -540
    },
    "id": "tchoig3yDpTo",
    "outputId": "b44dfa26-b30c-482a-fb87-4b27b43d286d"
   },
   "outputs": [
    {
     "name": "stdout",
     "output_type": "stream",
     "text": [
      "Train on 3000 samples, validate on 1000 samples\n",
      "Epoch 1/30\n",
      "3000/3000 [==============================] - 1s 289us/sample - loss: 0.4294 - acc: 0.7963 - val_loss: 0.4017 - val_acc: 0.8150\n",
      "Epoch 2/30\n",
      "3000/3000 [==============================] - 1s 210us/sample - loss: 0.2896 - acc: 0.8717 - val_loss: 0.2869 - val_acc: 0.8750\n",
      "Epoch 3/30\n",
      "3000/3000 [==============================] - 1s 202us/sample - loss: 0.2374 - acc: 0.8997 - val_loss: 0.2702 - val_acc: 0.8820\n",
      "Epoch 4/30\n",
      "3000/3000 [==============================] - 1s 225us/sample - loss: 0.2035 - acc: 0.9177 - val_loss: 0.2662 - val_acc: 0.9000\n",
      "Epoch 5/30\n",
      "3000/3000 [==============================] - 1s 218us/sample - loss: 0.1705 - acc: 0.9287 - val_loss: 0.2804 - val_acc: 0.8950\n",
      "Epoch 6/30\n",
      "3000/3000 [==============================] - 1s 224us/sample - loss: 0.1348 - acc: 0.9460 - val_loss: 0.2859 - val_acc: 0.8990\n",
      "Epoch 7/30\n",
      "3000/3000 [==============================] - 1s 211us/sample - loss: 0.1207 - acc: 0.9520 - val_loss: 0.2892 - val_acc: 0.8940\n",
      "Epoch 8/30\n",
      "3000/3000 [==============================] - 1s 218us/sample - loss: 0.1056 - acc: 0.9543 - val_loss: 0.3105 - val_acc: 0.8910\n",
      "Epoch 9/30\n",
      "3000/3000 [==============================] - 1s 209us/sample - loss: 0.0781 - acc: 0.9697 - val_loss: 0.3268 - val_acc: 0.8980\n",
      "Epoch 10/30\n",
      "3000/3000 [==============================] - 1s 224us/sample - loss: 0.0714 - acc: 0.9733 - val_loss: 0.3438 - val_acc: 0.8980\n",
      "Epoch 11/30\n",
      "3000/3000 [==============================] - 1s 210us/sample - loss: 0.0436 - acc: 0.9860 - val_loss: 0.4726 - val_acc: 0.8660\n",
      "Epoch 12/30\n",
      "3000/3000 [==============================] - 1s 214us/sample - loss: 0.0474 - acc: 0.9840 - val_loss: 0.4379 - val_acc: 0.8840\n",
      "Epoch 13/30\n",
      "3000/3000 [==============================] - 1s 203us/sample - loss: 0.0328 - acc: 0.9897 - val_loss: 0.4487 - val_acc: 0.8930\n",
      "Epoch 14/30\n",
      "3000/3000 [==============================] - 1s 225us/sample - loss: 0.0253 - acc: 0.9910 - val_loss: 0.4897 - val_acc: 0.8940\n",
      "Epoch 15/30\n",
      "3000/3000 [==============================] - 1s 220us/sample - loss: 0.0281 - acc: 0.9900 - val_loss: 0.5090 - val_acc: 0.8930\n",
      "Epoch 16/30\n",
      "3000/3000 [==============================] - 1s 211us/sample - loss: 0.0182 - acc: 0.9953 - val_loss: 0.5392 - val_acc: 0.8910\n",
      "Epoch 17/30\n",
      "3000/3000 [==============================] - 1s 217us/sample - loss: 0.0228 - acc: 0.9937 - val_loss: 0.5699 - val_acc: 0.8920\n",
      "Epoch 18/30\n",
      "3000/3000 [==============================] - 1s 218us/sample - loss: 0.0207 - acc: 0.9933 - val_loss: 0.5808 - val_acc: 0.8870\n",
      "Epoch 19/30\n",
      "3000/3000 [==============================] - 1s 208us/sample - loss: 0.0114 - acc: 0.9960 - val_loss: 0.5944 - val_acc: 0.9020\n",
      "Epoch 20/30\n",
      "3000/3000 [==============================] - 1s 223us/sample - loss: 0.0132 - acc: 0.9953 - val_loss: 0.6716 - val_acc: 0.8930\n",
      "Epoch 21/30\n",
      "3000/3000 [==============================] - 1s 204us/sample - loss: 0.0021 - acc: 0.9993 - val_loss: 0.7309 - val_acc: 0.8950\n",
      "Epoch 22/30\n",
      "3000/3000 [==============================] - 1s 221us/sample - loss: 0.0139 - acc: 0.9947 - val_loss: 0.7255 - val_acc: 0.8910\n",
      "Epoch 23/30\n",
      "3000/3000 [==============================] - 1s 211us/sample - loss: 0.0129 - acc: 0.9960 - val_loss: 0.7711 - val_acc: 0.8910\n",
      "Epoch 24/30\n",
      "3000/3000 [==============================] - 1s 220us/sample - loss: 0.0129 - acc: 0.9967 - val_loss: 0.7242 - val_acc: 0.8970\n",
      "Epoch 25/30\n",
      "3000/3000 [==============================] - 1s 221us/sample - loss: 0.0034 - acc: 0.9990 - val_loss: 0.7897 - val_acc: 0.8950\n",
      "Epoch 26/30\n",
      "3000/3000 [==============================] - 1s 220us/sample - loss: 0.0040 - acc: 0.9983 - val_loss: 0.8151 - val_acc: 0.8950\n",
      "Epoch 27/30\n",
      "3000/3000 [==============================] - 1s 212us/sample - loss: 0.0038 - acc: 0.9990 - val_loss: 1.0451 - val_acc: 0.8780\n",
      "Epoch 28/30\n",
      "3000/3000 [==============================] - 1s 217us/sample - loss: 0.0026 - acc: 0.9990 - val_loss: 0.9027 - val_acc: 0.8920\n",
      "Epoch 29/30\n",
      "3000/3000 [==============================] - 1s 202us/sample - loss: 0.0163 - acc: 0.9957 - val_loss: 0.8793 - val_acc: 0.8970\n",
      "Epoch 30/30\n",
      "3000/3000 [==============================] - 1s 214us/sample - loss: 0.0054 - acc: 0.9983 - val_loss: 0.8779 - val_acc: 0.8960\n"
     ]
    }
   ],
   "source": [
    "history = model.____(x=_______, y=_________,\n",
    "                    validation_data=(_______, ________),\n",
    "                    batch_size=batch_size,\n",
    "                    epochs=epochs,\n",
    "                    verbose=1)"
   ]
  },
  {
   "cell_type": "markdown",
   "metadata": {
    "colab_type": "text",
    "id": "pgLk5NfNDpTq"
   },
   "source": [
    "* 훈련 손실과 정확도 곡선을 살펴보자"
   ]
  },
  {
   "cell_type": "code",
   "execution_count": 0,
   "metadata": {
    "colab": {},
    "colab_type": "code",
    "id": "L9gzAP5-PNM_"
   },
   "outputs": [],
   "source": [
    "model.save('cats_dogs_tlearn_basic_cnn.h5')\n",
    "!mv 'cats_dogs_tlearn_basic_cnn.h5' '/content/drive/My Drive/cnn-model'"
   ]
  },
  {
   "cell_type": "code",
   "execution_count": 16,
   "metadata": {
    "colab": {
     "base_uri": "https://localhost:8080/",
     "height": 308
    },
    "colab_type": "code",
    "executionInfo": {
     "elapsed": 53912,
     "status": "ok",
     "timestamp": 1579660435137,
     "user": {
      "displayName": "Soohyun Kim",
      "photoUrl": "",
      "userId": "04717435945000606452"
     },
     "user_tz": -540
    },
    "id": "_KhOwxC3DpTr",
    "outputId": "7f1b4900-e8b7-4003-965d-4182d2264092",
    "scrolled": true
   },
   "outputs": [
    {
     "data": {
      "image/png": "[encoded data removed]",
      "text/plain": [
       "<Figure size 864x288 with 2 Axes>"
      ]
     },
     "metadata": {
      "tags": []
     },
     "output_type": "display_data"
    }
   ],
   "source": [
    "f, (ax1, ax2) = plt.subplots(1, 2, figsize=(12, 4))\n",
    "t = f.suptitle('Pre-trained CNN (Transfer Learning) Performance', fontsize=12)\n",
    "f.subplots_adjust(top=0.85, wspace=0.3)\n",
    "\n",
    "epoch_list = list(range(1,31))\n",
    "ax1.plot(epoch_list, history.history['acc'], label='Train Accuracy')\n",
    "ax1.plot(epoch_list, history.history['val_acc'], label='Validation Accuracy')\n",
    "ax1.set_xticks(np.arange(0, 31, 5))\n",
    "ax1.set_ylabel('Accuracy Value')\n",
    "ax1.set_xlabel('Epoch')\n",
    "ax1.set_title('Accuracy')\n",
    "l1 = ax1.legend(loc=\"best\")\n",
    "\n",
    "ax2.plot(epoch_list, history.history['loss'], label='Train Loss')\n",
    "ax2.plot(epoch_list, history.history['val_loss'], label='Validation Loss')\n",
    "ax2.set_xticks(np.arange(0, 31, 5))\n",
    "ax2.set_ylabel('Loss Value')\n",
    "ax2.set_xlabel('Epoch')\n",
    "ax2.set_title('Loss')\n",
    "l2 = ax2.legend(loc=\"best\")"
   ]
  },
  {
   "cell_type": "markdown",
   "metadata": {
    "colab_type": "text",
    "id": "FmUWH50rDpT4"
   },
   "source": [
    "### 완전 연결층 방식2 - 데이터 증식 적용 전이 모델 \n",
    "* 준비한 모델(conv_base) 위에 Dense 층을 쌓아 확장합니다. 그다음 입력 데이터에서 엔드 투 엔드로 전체 모델을 실행합니다. 모델에 노출된 모든 입력 이미지가 매번 합성곱 기반층을 통과하기 때문에 데이터 증식을 사용할 수 있습니다. 하지만 이런 이유로 이 방식은 첫 번째 방식보다 훨씬 비용이 많이 듭니다.\n",
    "* 이 방법은 훨씬 느리고 비용이 많이 들지만 훈련하는 동안 데이터 증식 기법을 사용할 수 있습니다. `conv_base` 모델을 확장하고 입력 데이터를 사용해 엔드 투 엔드로 실행합니다.\n",
    "* 이 기법은 연산 비용이 크기 때문에 GPU를 사용할 수 있을 때 시도해야 합니다. CPU에서는 적용하기 매우 힘듭니다. GPU를 사용할 수 없다면 첫 번째 방법을 사용하세요.\n",
    "* 모델은 층과 동일하게 작동하므로 층을 추가하듯이 `Sequential` 모델에 (`conv_base` 같은) 다른 모델을 추가할 수 있습니다:"
   ]
  },
  {
   "cell_type": "markdown",
   "metadata": {
    "colab_type": "text",
    "id": "Qvmsj_WSDpT5"
   },
   "source": [
    "데이터 증식 하기"
   ]
  },
  {
   "cell_type": "code",
   "execution_count": 0,
   "metadata": {
    "colab": {},
    "colab_type": "code",
    "id": "tqX_g9JrDpT5"
   },
   "outputs": [],
   "source": [
    "train_datagen = _________(rescale=1./255, zoom_range=0.3, rotation_range=50,\n",
    "                                   width_shift_range=0.2, height_shift_range=0.2, shear_range=0.2, \n",
    "                                   horizontal_flip=True, fill_mode='nearest')\n",
    "\n",
    "val_datagen = __________(rescale=1./255)\n",
    "\n",
    "train_generator = __________(train_imgs, train_labels_enc, batch_size=30)\n",
    "val_generator = __________(validation_imgs, validation_labels_enc, batch_size=20)"
   ]
  },
  {
   "cell_type": "code",
   "execution_count": 18,
   "metadata": {
    "colab": {
     "base_uri": "https://localhost:8080/",
     "height": 36
    },
    "colab_type": "code",
    "executionInfo": {
     "elapsed": 53892,
     "status": "ok",
     "timestamp": 1579660435141,
     "user": {
      "displayName": "Soohyun Kim",
      "photoUrl": "",
      "userId": "04717435945000606452"
     },
     "user_tz": -540
    },
    "id": "4RV5ImgYDpT7",
    "outputId": "69667b6b-152f-4ab5-db3f-2681172a93ec"
   },
   "outputs": [
    {
     "name": "stdout",
     "output_type": "stream",
     "text": [
      "(3000, 150, 150, 3) (1000, 150, 150, 3)\n"
     ]
    }
   ],
   "source": [
    "print(train_imgs.shape, validation_imgs.shape)"
   ]
  },
  {
   "cell_type": "markdown",
   "metadata": {
    "colab_type": "text",
    "id": "GHDS0hGaDpT8"
   },
   "source": [
    "### 완전 연결층 방식2 - 데이터 증식 전이 모델 설계  "
   ]
  },
  {
   "cell_type": "code",
   "execution_count": 19,
   "metadata": {
    "colab": {
     "base_uri": "https://localhost:8080/",
     "height": 388
    },
    "colab_type": "code",
    "executionInfo": {
     "elapsed": 53882,
     "status": "ok",
     "timestamp": 1579660435142,
     "user": {
      "displayName": "Soohyun Kim",
      "photoUrl": "",
      "userId": "04717435945000606452"
     },
     "user_tz": -540
    },
    "id": "Kxlx-D5JDpT9",
    "outputId": "31f91f7d-1742-45bd-cea1-7fc7cd7c211f"
   },
   "outputs": [
    {
     "name": "stdout",
     "output_type": "stream",
     "text": [
      "Model: \"sequential_1\"\n",
      "_________________________________________________________________\n",
      "Layer (type)                 Output Shape              Param #   \n",
      "=================================================================\n",
      "model (Model)                (None, 8192)              14714688  \n",
      "_________________________________________________________________\n",
      "dense_3 (Dense)              (None, 512)               4194816   \n",
      "_________________________________________________________________\n",
      "dropout_2 (Dropout)          (None, 512)               0         \n",
      "_________________________________________________________________\n",
      "dense_4 (Dense)              (None, 512)               262656    \n",
      "_________________________________________________________________\n",
      "dropout_3 (Dropout)          (None, 512)               0         \n",
      "_________________________________________________________________\n",
      "dense_5 (Dense)              (None, 1)                 513       \n",
      "=================================================================\n",
      "Total params: 19,172,673\n",
      "Trainable params: 4,457,985\n",
      "Non-trainable params: 14,714,688\n",
      "_________________________________________________________________\n"
     ]
    }
   ],
   "source": [
    "from tensorflow.keras.layers import Conv2D, MaxPooling2D, Flatten, Dense, Dropout, InputLayer\n",
    "from tensorflow.keras.models import Sequential\n",
    "from tensorflow.keras import optimizers\n",
    "\n",
    ".....\n",
    ".....\n",
    "model.add(Dense(512, activation='relu', input_dim=input_shape))\n",
    "model.add(Dropout(0.3))\n",
    "model.add(Dense(512, activation='relu'))\n",
    "model.add(Dropout(0.3))\n",
    "model.add(Dense(1, activation='sigmoid'))\n",
    "\n",
    "model.compile(loss='binary_crossentropy',\n",
    "              optimizer=optimizers.RMSprop(lr=2e-5),\n",
    "              metrics=['accuracy'])\n",
    "\n",
    "model.summary()"
   ]
  },
  {
   "cell_type": "markdown",
   "metadata": {
    "colab_type": "text",
    "id": "j81asudEDpT_"
   },
   "source": [
    "### 완전 연결층 방식2 - 데이터 증식 전이 모델 학습"
   ]
  },
  {
   "cell_type": "code",
   "execution_count": 20,
   "metadata": {
    "colab": {
     "base_uri": "https://localhost:8080/",
     "height": 1000
    },
    "colab_type": "code",
    "executionInfo": {
     "elapsed": 7005,
     "status": "ok",
     "timestamp": 1579662535368,
     "user": {
      "displayName": "Soohyun Kim",
      "photoUrl": "",
      "userId": "04717435945000606452"
     },
     "user_tz": -540
    },
    "id": "W4Tdfv-nDpT_",
    "outputId": "6c1755db-fac4-48f2-ea9f-35aa60012f10",
    "scrolled": false
   },
   "outputs": [
    {
     "name": "stdout",
     "output_type": "stream",
     "text": [
      "Epoch 1/100\n",
      " 99/100 [============================>.] - ETA: 0s - loss: 0.6617 - acc: 0.5949Epoch 1/100\n",
      "100/100 [==============================] - 23s 234ms/step - loss: 0.6613 - acc: 0.5960 - val_loss: 0.5250 - val_acc: 0.7780\n",
      "Epoch 2/100\n",
      " 99/100 [============================>.] - ETA: 0s - loss: 0.5692 - acc: 0.6926Epoch 1/100\n",
      "100/100 [==============================] - 18s 184ms/step - loss: 0.5693 - acc: 0.6933 - val_loss: 0.4360 - val_acc: 0.8160\n",
      "Epoch 3/100\n",
      " 99/100 [============================>.] - ETA: 0s - loss: 0.5285 - acc: 0.7377Epoch 1/100\n",
      "100/100 [==============================] - 19s 192ms/step - loss: 0.5275 - acc: 0.7380 - val_loss: 0.3789 - val_acc: 0.8460\n",
      "Epoch 4/100\n",
      " 99/100 [============================>.] - ETA: 0s - loss: 0.4922 - acc: 0.7579Epoch 1/100\n",
      "100/100 [==============================] - 19s 190ms/step - loss: 0.4922 - acc: 0.7580 - val_loss: 0.3476 - val_acc: 0.8520\n",
      "Epoch 5/100\n",
      " 99/100 [============================>.] - ETA: 0s - loss: 0.4449 - acc: 0.7987Epoch 1/100\n",
      "100/100 [==============================] - 19s 193ms/step - loss: 0.4461 - acc: 0.7987 - val_loss: 0.3273 - val_acc: 0.8530\n",
      "Epoch 6/100\n",
      " 99/100 [============================>.] - ETA: 0s - loss: 0.4520 - acc: 0.7869Epoch 1/100\n",
      "100/100 [==============================] - 19s 192ms/step - loss: 0.4507 - acc: 0.7877 - val_loss: 0.3137 - val_acc: 0.8630\n",
      "Epoch 7/100\n",
      " 99/100 [============================>.] - ETA: 0s - loss: 0.4343 - acc: 0.7966Epoch 1/100\n",
      "100/100 [==============================] - 19s 192ms/step - loss: 0.4343 - acc: 0.7963 - val_loss: 0.3023 - val_acc: 0.8720\n",
      "Epoch 8/100\n",
      " 99/100 [============================>.] - ETA: 0s - loss: 0.4202 - acc: 0.8077Epoch 1/100\n",
      "100/100 [==============================] - 19s 185ms/step - loss: 0.4193 - acc: 0.8080 - val_loss: 0.2966 - val_acc: 0.8640\n",
      "Epoch 9/100\n",
      " 99/100 [============================>.] - ETA: 0s - loss: 0.4141 - acc: 0.8074Epoch 1/100\n",
      "100/100 [==============================] - 19s 191ms/step - loss: 0.4148 - acc: 0.8067 - val_loss: 0.2977 - val_acc: 0.8550\n",
      "Epoch 10/100\n",
      " 99/100 [============================>.] - ETA: 0s - loss: 0.4149 - acc: 0.8155Epoch 1/100\n",
      "100/100 [==============================] - 20s 196ms/step - loss: 0.4134 - acc: 0.8163 - val_loss: 0.2885 - val_acc: 0.8650\n",
      "Epoch 11/100\n",
      " 99/100 [============================>.] - ETA: 0s - loss: 0.3832 - acc: 0.8229Epoch 1/100\n",
      "100/100 [==============================] - 19s 187ms/step - loss: 0.3842 - acc: 0.8223 - val_loss: 0.2749 - val_acc: 0.8780\n",
      "Epoch 12/100\n",
      " 99/100 [============================>.] - ETA: 0s - loss: 0.3824 - acc: 0.8205Epoch 1/100\n",
      "100/100 [==============================] - 19s 192ms/step - loss: 0.3823 - acc: 0.8210 - val_loss: 0.2766 - val_acc: 0.8730\n",
      "Epoch 13/100\n",
      " 99/100 [============================>.] - ETA: 0s - loss: 0.3778 - acc: 0.8232Epoch 1/100\n",
      "100/100 [==============================] - 19s 194ms/step - loss: 0.3775 - acc: 0.8243 - val_loss: 0.2714 - val_acc: 0.8740\n",
      "Epoch 14/100\n",
      " 99/100 [============================>.] - ETA: 0s - loss: 0.3721 - acc: 0.8340Epoch 1/100\n",
      "100/100 [==============================] - 19s 194ms/step - loss: 0.3736 - acc: 0.8330 - val_loss: 0.2668 - val_acc: 0.8900\n",
      "Epoch 15/100\n",
      " 99/100 [============================>.] - ETA: 0s - loss: 0.3725 - acc: 0.8367Epoch 1/100\n",
      "100/100 [==============================] - 20s 198ms/step - loss: 0.3729 - acc: 0.8367 - val_loss: 0.2676 - val_acc: 0.8850\n",
      "Epoch 16/100\n",
      " 99/100 [============================>.] - ETA: 0s - loss: 0.3654 - acc: 0.8333Epoch 1/100\n",
      "100/100 [==============================] - 19s 192ms/step - loss: 0.3638 - acc: 0.8340 - val_loss: 0.2722 - val_acc: 0.8800\n",
      "Epoch 17/100\n",
      " 99/100 [============================>.] - ETA: 0s - loss: 0.3654 - acc: 0.8347Epoch 1/100\n",
      "100/100 [==============================] - 19s 192ms/step - loss: 0.3653 - acc: 0.8347 - val_loss: 0.2665 - val_acc: 0.8890\n",
      "Epoch 18/100\n",
      " 99/100 [============================>.] - ETA: 0s - loss: 0.3529 - acc: 0.8428Epoch 1/100\n",
      "100/100 [==============================] - 20s 199ms/step - loss: 0.3531 - acc: 0.8427 - val_loss: 0.2630 - val_acc: 0.8880\n",
      "Epoch 19/100\n",
      " 99/100 [============================>.] - ETA: 0s - loss: 0.3661 - acc: 0.8360Epoch 1/100\n",
      "100/100 [==============================] - 19s 194ms/step - loss: 0.3655 - acc: 0.8357 - val_loss: 0.2625 - val_acc: 0.8890\n",
      "Epoch 20/100\n",
      " 99/100 [============================>.] - ETA: 0s - loss: 0.3497 - acc: 0.8414Epoch 1/100\n",
      "100/100 [==============================] - 19s 192ms/step - loss: 0.3494 - acc: 0.8413 - val_loss: 0.2613 - val_acc: 0.8840\n",
      "Epoch 21/100\n",
      " 99/100 [============================>.] - ETA: 0s - loss: 0.3556 - acc: 0.8357Epoch 1/100\n",
      "100/100 [==============================] - 20s 199ms/step - loss: 0.3552 - acc: 0.8363 - val_loss: 0.2536 - val_acc: 0.8920\n",
      "Epoch 22/100\n",
      " 99/100 [============================>.] - ETA: 0s - loss: 0.3562 - acc: 0.8394Epoch 1/100\n",
      "100/100 [==============================] - 19s 191ms/step - loss: 0.3553 - acc: 0.8403 - val_loss: 0.2544 - val_acc: 0.8890\n",
      "Epoch 23/100\n",
      " 99/100 [============================>.] - ETA: 0s - loss: 0.3533 - acc: 0.8418Epoch 1/100\n",
      "100/100 [==============================] - 19s 190ms/step - loss: 0.3542 - acc: 0.8403 - val_loss: 0.2542 - val_acc: 0.8950\n",
      "Epoch 24/100\n",
      " 99/100 [============================>.] - ETA: 0s - loss: 0.3491 - acc: 0.8468Epoch 1/100\n",
      "100/100 [==============================] - 20s 198ms/step - loss: 0.3473 - acc: 0.8477 - val_loss: 0.2548 - val_acc: 0.8910\n",
      "Epoch 25/100\n",
      " 99/100 [============================>.] - ETA: 0s - loss: 0.3458 - acc: 0.8465Epoch 1/100\n",
      "100/100 [==============================] - 19s 194ms/step - loss: 0.3460 - acc: 0.8460 - val_loss: 0.2490 - val_acc: 0.8910\n",
      "Epoch 26/100\n",
      " 99/100 [============================>.] - ETA: 0s - loss: 0.3435 - acc: 0.8448Epoch 1/100\n",
      "100/100 [==============================] - 19s 186ms/step - loss: 0.3429 - acc: 0.8453 - val_loss: 0.2491 - val_acc: 0.8940\n",
      "Epoch 27/100\n",
      " 99/100 [============================>.] - ETA: 0s - loss: 0.3526 - acc: 0.8404Epoch 1/100\n",
      "100/100 [==============================] - 19s 193ms/step - loss: 0.3524 - acc: 0.8403 - val_loss: 0.2476 - val_acc: 0.8960\n",
      "Epoch 28/100\n",
      " 99/100 [============================>.] - ETA: 0s - loss: 0.3413 - acc: 0.8458Epoch 1/100\n",
      "100/100 [==============================] - 19s 188ms/step - loss: 0.3417 - acc: 0.8460 - val_loss: 0.2458 - val_acc: 0.8980\n",
      "Epoch 29/100\n",
      " 99/100 [============================>.] - ETA: 0s - loss: 0.3373 - acc: 0.8539Epoch 1/100\n",
      "100/100 [==============================] - 18s 181ms/step - loss: 0.3379 - acc: 0.8537 - val_loss: 0.2609 - val_acc: 0.8800\n",
      "Epoch 30/100\n",
      " 99/100 [============================>.] - ETA: 0s - loss: 0.3320 - acc: 0.8475Epoch 1/100\n",
      "100/100 [==============================] - 19s 189ms/step - loss: 0.3302 - acc: 0.8480 - val_loss: 0.2454 - val_acc: 0.8950\n",
      "Epoch 31/100\n",
      " 99/100 [============================>.] - ETA: 0s - loss: 0.3280 - acc: 0.8502Epoch 1/100\n",
      "100/100 [==============================] - 20s 197ms/step - loss: 0.3266 - acc: 0.8507 - val_loss: 0.2658 - val_acc: 0.8840\n",
      "Epoch 32/100\n",
      " 99/100 [============================>.] - ETA: 0s - loss: 0.3311 - acc: 0.8542Epoch 1/100\n",
      "100/100 [==============================] - 19s 190ms/step - loss: 0.3322 - acc: 0.8540 - val_loss: 0.2456 - val_acc: 0.9000\n",
      "Epoch 33/100\n",
      " 99/100 [============================>.] - ETA: 0s - loss: 0.3335 - acc: 0.8431Epoch 1/100\n",
      "100/100 [==============================] - 18s 185ms/step - loss: 0.3331 - acc: 0.8430 - val_loss: 0.2567 - val_acc: 0.8870\n",
      "Epoch 34/100\n",
      " 99/100 [============================>.] - ETA: 0s - loss: 0.3324 - acc: 0.8572Epoch 1/100\n",
      "100/100 [==============================] - 18s 185ms/step - loss: 0.3332 - acc: 0.8570 - val_loss: 0.2466 - val_acc: 0.8950\n",
      "Epoch 35/100\n",
      " 99/100 [============================>.] - ETA: 0s - loss: 0.3250 - acc: 0.8596Epoch 1/100\n",
      "100/100 [==============================] - 19s 191ms/step - loss: 0.3255 - acc: 0.8590 - val_loss: 0.2442 - val_acc: 0.8960\n",
      "Epoch 36/100\n",
      " 99/100 [============================>.] - ETA: 0s - loss: 0.3305 - acc: 0.8586Epoch 1/100\n",
      "100/100 [==============================] - 19s 192ms/step - loss: 0.3337 - acc: 0.8570 - val_loss: 0.2506 - val_acc: 0.8920\n",
      "Epoch 37/100\n",
      " 99/100 [============================>.] - ETA: 0s - loss: 0.3268 - acc: 0.8522Epoch 1/100\n",
      "100/100 [==============================] - 19s 190ms/step - loss: 0.3261 - acc: 0.8527 - val_loss: 0.2476 - val_acc: 0.8950\n",
      "Epoch 38/100\n",
      " 99/100 [============================>.] - ETA: 0s - loss: 0.3283 - acc: 0.8532Epoch 1/100\n",
      "100/100 [==============================] - 19s 194ms/step - loss: 0.3280 - acc: 0.8533 - val_loss: 0.2445 - val_acc: 0.8940\n",
      "Epoch 39/100\n",
      " 99/100 [============================>.] - ETA: 0s - loss: 0.3220 - acc: 0.8589Epoch 1/100\n",
      "100/100 [==============================] - 18s 183ms/step - loss: 0.3225 - acc: 0.8580 - val_loss: 0.2455 - val_acc: 0.8940\n",
      "Epoch 40/100\n",
      " 99/100 [============================>.] - ETA: 0s - loss: 0.3163 - acc: 0.8620Epoch 1/100\n",
      "100/100 [==============================] - 19s 191ms/step - loss: 0.3180 - acc: 0.8617 - val_loss: 0.2475 - val_acc: 0.8910\n",
      "Epoch 41/100\n",
      " 99/100 [============================>.] - ETA: 0s - loss: 0.3233 - acc: 0.8633Epoch 1/100\n",
      "100/100 [==============================] - 19s 191ms/step - loss: 0.3226 - acc: 0.8637 - val_loss: 0.2435 - val_acc: 0.8960\n",
      "Epoch 42/100\n",
      " 99/100 [============================>.] - ETA: 0s - loss: 0.3080 - acc: 0.8646Epoch 1/100\n",
      "100/100 [==============================] - 19s 190ms/step - loss: 0.3087 - acc: 0.8647 - val_loss: 0.2481 - val_acc: 0.8960\n",
      "Epoch 43/100\n",
      " 99/100 [============================>.] - ETA: 0s - loss: 0.3174 - acc: 0.8603Epoch 1/100\n",
      "100/100 [==============================] - 19s 194ms/step - loss: 0.3161 - acc: 0.8610 - val_loss: 0.2497 - val_acc: 0.8910\n",
      "Epoch 44/100\n",
      " 99/100 [============================>.] - ETA: 0s - loss: 0.3222 - acc: 0.8616Epoch 1/100\n",
      "100/100 [==============================] - 19s 189ms/step - loss: 0.3226 - acc: 0.8610 - val_loss: 0.2541 - val_acc: 0.8890\n",
      "Epoch 45/100\n",
      " 99/100 [============================>.] - ETA: 0s - loss: 0.3154 - acc: 0.8636Epoch 1/100\n",
      "100/100 [==============================] - 19s 187ms/step - loss: 0.3162 - acc: 0.8633 - val_loss: 0.2392 - val_acc: 0.9000\n",
      "Epoch 46/100\n",
      " 99/100 [============================>.] - ETA: 0s - loss: 0.3159 - acc: 0.8552Epoch 1/100\n",
      "100/100 [==============================] - 19s 188ms/step - loss: 0.3142 - acc: 0.8563 - val_loss: 0.2398 - val_acc: 0.8980\n",
      "Epoch 47/100\n",
      " 99/100 [============================>.] - ETA: 0s - loss: 0.3052 - acc: 0.8663Epoch 1/100\n",
      "100/100 [==============================] - 18s 183ms/step - loss: 0.3053 - acc: 0.8660 - val_loss: 0.2568 - val_acc: 0.8880\n",
      "Epoch 48/100\n",
      " 99/100 [============================>.] - ETA: 0s - loss: 0.2978 - acc: 0.8710Epoch 1/100\n",
      "100/100 [==============================] - 18s 185ms/step - loss: 0.2982 - acc: 0.8703 - val_loss: 0.2409 - val_acc: 0.9020\n",
      "Epoch 49/100\n",
      " 99/100 [============================>.] - ETA: 0s - loss: 0.3120 - acc: 0.8643Epoch 1/100\n",
      "100/100 [==============================] - 19s 193ms/step - loss: 0.3110 - acc: 0.8643 - val_loss: 0.2430 - val_acc: 0.9010\n",
      "Epoch 50/100\n",
      " 99/100 [============================>.] - ETA: 0s - loss: 0.3075 - acc: 0.8687Epoch 1/100\n",
      "100/100 [==============================] - 20s 195ms/step - loss: 0.3081 - acc: 0.8687 - val_loss: 0.2427 - val_acc: 0.9010\n",
      "Epoch 51/100\n",
      " 99/100 [============================>.] - ETA: 0s - loss: 0.3086 - acc: 0.8640Epoch 1/100\n",
      "100/100 [==============================] - 20s 195ms/step - loss: 0.3097 - acc: 0.8637 - val_loss: 0.2481 - val_acc: 0.8940\n",
      "Epoch 52/100\n",
      " 99/100 [============================>.] - ETA: 0s - loss: 0.3062 - acc: 0.8687Epoch 1/100\n",
      "100/100 [==============================] - 20s 197ms/step - loss: 0.3069 - acc: 0.8690 - val_loss: 0.2435 - val_acc: 0.8940\n",
      "Epoch 53/100\n",
      " 99/100 [============================>.] - ETA: 0s - loss: 0.2916 - acc: 0.8771Epoch 1/100\n",
      "100/100 [==============================] - 19s 194ms/step - loss: 0.2928 - acc: 0.8760 - val_loss: 0.2437 - val_acc: 0.8960\n",
      "Epoch 54/100\n",
      " 99/100 [============================>.] - ETA: 0s - loss: 0.3075 - acc: 0.8673Epoch 1/100\n",
      "100/100 [==============================] - 19s 189ms/step - loss: 0.3065 - acc: 0.8680 - val_loss: 0.2446 - val_acc: 0.9010\n",
      "Epoch 55/100\n",
      " 99/100 [============================>.] - ETA: 0s - loss: 0.3035 - acc: 0.8717Epoch 1/100\n",
      "100/100 [==============================] - 19s 190ms/step - loss: 0.3044 - acc: 0.8713 - val_loss: 0.2446 - val_acc: 0.9010\n",
      "Epoch 56/100\n",
      " 99/100 [============================>.] - ETA: 0s - loss: 0.3124 - acc: 0.8626Epoch 1/100\n",
      "100/100 [==============================] - 19s 194ms/step - loss: 0.3117 - acc: 0.8627 - val_loss: 0.2439 - val_acc: 0.9020\n",
      "Epoch 57/100\n",
      " 99/100 [============================>.] - ETA: 0s - loss: 0.3085 - acc: 0.8704Epoch 1/100\n",
      "100/100 [==============================] - 19s 194ms/step - loss: 0.3080 - acc: 0.8710 - val_loss: 0.2414 - val_acc: 0.9020\n",
      "Epoch 58/100\n",
      " 99/100 [============================>.] - ETA: 0s - loss: 0.3013 - acc: 0.8663Epoch 1/100\n",
      "100/100 [==============================] - 20s 197ms/step - loss: 0.3007 - acc: 0.8667 - val_loss: 0.2575 - val_acc: 0.8940\n",
      "Epoch 59/100\n",
      " 99/100 [============================>.] - ETA: 0s - loss: 0.2887 - acc: 0.8744Epoch 1/100\n",
      "100/100 [==============================] - 19s 187ms/step - loss: 0.2887 - acc: 0.8743 - val_loss: 0.2378 - val_acc: 0.9090\n",
      "Epoch 60/100\n",
      " 99/100 [============================>.] - ETA: 0s - loss: 0.2953 - acc: 0.8687Epoch 1/100\n",
      "100/100 [==============================] - 19s 187ms/step - loss: 0.2951 - acc: 0.8687 - val_loss: 0.2468 - val_acc: 0.9000\n",
      "Epoch 61/100\n",
      " 99/100 [============================>.] - ETA: 0s - loss: 0.2941 - acc: 0.8680Epoch 1/100\n",
      "100/100 [==============================] - 19s 186ms/step - loss: 0.2957 - acc: 0.8673 - val_loss: 0.2438 - val_acc: 0.9070\n",
      "Epoch 62/100\n",
      " 99/100 [============================>.] - ETA: 0s - loss: 0.2983 - acc: 0.8653Epoch 1/100\n",
      "100/100 [==============================] - 19s 186ms/step - loss: 0.2970 - acc: 0.8657 - val_loss: 0.2505 - val_acc: 0.8960\n",
      "Epoch 63/100\n",
      " 99/100 [============================>.] - ETA: 0s - loss: 0.2855 - acc: 0.8717Epoch 1/100\n",
      "100/100 [==============================] - 19s 189ms/step - loss: 0.2871 - acc: 0.8713 - val_loss: 0.2403 - val_acc: 0.9080\n",
      "Epoch 64/100\n",
      " 99/100 [============================>.] - ETA: 0s - loss: 0.2868 - acc: 0.8758Epoch 1/100\n",
      "100/100 [==============================] - 18s 183ms/step - loss: 0.2866 - acc: 0.8753 - val_loss: 0.2446 - val_acc: 0.9020\n",
      "Epoch 65/100\n",
      " 99/100 [============================>.] - ETA: 0s - loss: 0.3004 - acc: 0.8751Epoch 1/100\n",
      "100/100 [==============================] - 19s 189ms/step - loss: 0.3010 - acc: 0.8743 - val_loss: 0.2405 - val_acc: 0.9100\n",
      "Epoch 66/100\n",
      " 99/100 [============================>.] - ETA: 0s - loss: 0.2941 - acc: 0.8734Epoch 1/100\n",
      "100/100 [==============================] - 18s 185ms/step - loss: 0.2930 - acc: 0.8740 - val_loss: 0.2410 - val_acc: 0.9100\n",
      "Epoch 67/100\n",
      " 99/100 [============================>.] - ETA: 0s - loss: 0.2920 - acc: 0.8707Epoch 1/100\n",
      "100/100 [==============================] - 18s 181ms/step - loss: 0.2909 - acc: 0.8710 - val_loss: 0.2377 - val_acc: 0.9060\n",
      "Epoch 68/100\n",
      " 99/100 [============================>.] - ETA: 0s - loss: 0.2897 - acc: 0.8731Epoch 1/100\n",
      "100/100 [==============================] - 18s 182ms/step - loss: 0.2909 - acc: 0.8730 - val_loss: 0.2433 - val_acc: 0.9030\n",
      "Epoch 69/100\n",
      " 99/100 [============================>.] - ETA: 0s - loss: 0.3017 - acc: 0.8646Epoch 1/100\n",
      "100/100 [==============================] - 19s 191ms/step - loss: 0.3000 - acc: 0.8653 - val_loss: 0.2465 - val_acc: 0.8980\n",
      "Epoch 70/100\n",
      " 99/100 [============================>.] - ETA: 0s - loss: 0.3039 - acc: 0.8667Epoch 1/100\n",
      "100/100 [==============================] - 19s 190ms/step - loss: 0.3025 - acc: 0.8677 - val_loss: 0.2364 - val_acc: 0.9110\n",
      "Epoch 71/100\n",
      " 99/100 [============================>.] - ETA: 0s - loss: 0.2932 - acc: 0.8764Epoch 1/100\n",
      "100/100 [==============================] - 18s 184ms/step - loss: 0.2929 - acc: 0.8767 - val_loss: 0.2359 - val_acc: 0.9080\n",
      "Epoch 72/100\n",
      " 99/100 [============================>.] - ETA: 0s - loss: 0.2914 - acc: 0.8751Epoch 1/100\n",
      "100/100 [==============================] - 18s 179ms/step - loss: 0.2927 - acc: 0.8740 - val_loss: 0.2417 - val_acc: 0.9020\n",
      "Epoch 73/100\n",
      " 99/100 [============================>.] - ETA: 0s - loss: 0.2955 - acc: 0.8646Epoch 1/100\n",
      "100/100 [==============================] - 18s 180ms/step - loss: 0.2978 - acc: 0.8647 - val_loss: 0.2498 - val_acc: 0.8920\n",
      "Epoch 74/100\n",
      " 99/100 [============================>.] - ETA: 0s - loss: 0.3037 - acc: 0.8620Epoch 1/100\n",
      "100/100 [==============================] - 18s 183ms/step - loss: 0.3025 - acc: 0.8623 - val_loss: 0.2377 - val_acc: 0.9070\n",
      "Epoch 75/100\n",
      " 99/100 [============================>.] - ETA: 0s - loss: 0.2812 - acc: 0.8781Epoch 1/100\n",
      "100/100 [==============================] - 18s 182ms/step - loss: 0.2806 - acc: 0.8777 - val_loss: 0.2434 - val_acc: 0.9040\n",
      "Epoch 76/100\n",
      " 99/100 [============================>.] - ETA: 0s - loss: 0.2838 - acc: 0.8781Epoch 1/100\n",
      "100/100 [==============================] - 17s 174ms/step - loss: 0.2825 - acc: 0.8790 - val_loss: 0.2423 - val_acc: 0.9040\n",
      "Epoch 77/100\n",
      " 99/100 [============================>.] - ETA: 0s - loss: 0.2879 - acc: 0.8761Epoch 1/100\n",
      "100/100 [==============================] - 18s 177ms/step - loss: 0.2886 - acc: 0.8757 - val_loss: 0.2464 - val_acc: 0.9010\n",
      "Epoch 78/100\n",
      " 99/100 [============================>.] - ETA: 0s - loss: 0.2974 - acc: 0.8727Epoch 1/100\n",
      "100/100 [==============================] - 17s 172ms/step - loss: 0.2968 - acc: 0.8730 - val_loss: 0.2526 - val_acc: 0.8960\n",
      "Epoch 79/100\n",
      " 99/100 [============================>.] - ETA: 0s - loss: 0.2916 - acc: 0.8758Epoch 1/100\n",
      "100/100 [==============================] - 18s 183ms/step - loss: 0.2904 - acc: 0.8763 - val_loss: 0.2388 - val_acc: 0.9020\n",
      "Epoch 80/100\n",
      " 99/100 [============================>.] - ETA: 0s - loss: 0.2797 - acc: 0.8781Epoch 1/100\n",
      "100/100 [==============================] - 17s 171ms/step - loss: 0.2790 - acc: 0.8783 - val_loss: 0.2474 - val_acc: 0.8990\n",
      "Epoch 81/100\n",
      " 99/100 [============================>.] - ETA: 0s - loss: 0.2840 - acc: 0.8832Epoch 1/100\n",
      "100/100 [==============================] - 18s 181ms/step - loss: 0.2832 - acc: 0.8833 - val_loss: 0.2482 - val_acc: 0.9000\n",
      "Epoch 82/100\n",
      " 99/100 [============================>.] - ETA: 0s - loss: 0.2793 - acc: 0.8764Epoch 1/100\n",
      "100/100 [==============================] - 19s 186ms/step - loss: 0.2811 - acc: 0.8753 - val_loss: 0.2454 - val_acc: 0.9000\n",
      "Epoch 83/100\n",
      " 99/100 [============================>.] - ETA: 0s - loss: 0.2919 - acc: 0.8771Epoch 1/100\n",
      "100/100 [==============================] - 19s 186ms/step - loss: 0.2912 - acc: 0.8770 - val_loss: 0.2411 - val_acc: 0.9070\n",
      "Epoch 84/100\n",
      " 99/100 [============================>.] - ETA: 0s - loss: 0.2758 - acc: 0.8852Epoch 1/100\n",
      "100/100 [==============================] - 19s 187ms/step - loss: 0.2762 - acc: 0.8853 - val_loss: 0.2621 - val_acc: 0.8950\n",
      "Epoch 85/100\n",
      " 99/100 [============================>.] - ETA: 0s - loss: 0.2870 - acc: 0.8771Epoch 1/100\n",
      "100/100 [==============================] - 18s 185ms/step - loss: 0.2860 - acc: 0.8777 - val_loss: 0.2475 - val_acc: 0.9040\n",
      "Epoch 86/100\n",
      " 99/100 [============================>.] - ETA: 0s - loss: 0.2794 - acc: 0.8774Epoch 1/100\n",
      "100/100 [==============================] - 18s 178ms/step - loss: 0.2789 - acc: 0.8777 - val_loss: 0.2522 - val_acc: 0.8990\n",
      "Epoch 87/100\n",
      " 99/100 [============================>.] - ETA: 0s - loss: 0.2847 - acc: 0.8744Epoch 1/100\n",
      "100/100 [==============================] - 18s 184ms/step - loss: 0.2857 - acc: 0.8740 - val_loss: 0.2439 - val_acc: 0.9040\n",
      "Epoch 88/100\n",
      " 99/100 [============================>.] - ETA: 0s - loss: 0.2788 - acc: 0.8785Epoch 1/100\n",
      "100/100 [==============================] - 18s 181ms/step - loss: 0.2776 - acc: 0.8790 - val_loss: 0.2422 - val_acc: 0.9020\n",
      "Epoch 89/100\n",
      " 99/100 [============================>.] - ETA: 0s - loss: 0.2832 - acc: 0.8731Epoch 1/100\n",
      "100/100 [==============================] - 18s 183ms/step - loss: 0.2842 - acc: 0.8730 - val_loss: 0.2469 - val_acc: 0.9040\n",
      "Epoch 90/100\n",
      " 99/100 [============================>.] - ETA: 0s - loss: 0.2786 - acc: 0.8848Epoch 1/100\n",
      "100/100 [==============================] - 18s 184ms/step - loss: 0.2796 - acc: 0.8840 - val_loss: 0.2427 - val_acc: 0.9050\n",
      "Epoch 91/100\n",
      " 99/100 [============================>.] - ETA: 0s - loss: 0.2876 - acc: 0.8805Epoch 1/100\n",
      "100/100 [==============================] - 18s 175ms/step - loss: 0.2891 - acc: 0.8800 - val_loss: 0.2491 - val_acc: 0.9010\n",
      "Epoch 92/100\n",
      " 99/100 [============================>.] - ETA: 0s - loss: 0.2651 - acc: 0.8848Epoch 1/100\n",
      "100/100 [==============================] - 18s 180ms/step - loss: 0.2651 - acc: 0.8857 - val_loss: 0.2458 - val_acc: 0.9060\n",
      "Epoch 93/100\n",
      " 99/100 [============================>.] - ETA: 0s - loss: 0.2658 - acc: 0.8869Epoch 1/100\n",
      "100/100 [==============================] - 18s 176ms/step - loss: 0.2673 - acc: 0.8863 - val_loss: 0.2429 - val_acc: 0.9010\n",
      "Epoch 94/100\n",
      " 99/100 [============================>.] - ETA: 0s - loss: 0.2771 - acc: 0.8879Epoch 1/100\n",
      "100/100 [==============================] - 18s 179ms/step - loss: 0.2777 - acc: 0.8877 - val_loss: 0.2506 - val_acc: 0.9000\n",
      "Epoch 95/100\n",
      " 99/100 [============================>.] - ETA: 0s - loss: 0.2747 - acc: 0.8815Epoch 1/100\n",
      "100/100 [==============================] - 18s 182ms/step - loss: 0.2742 - acc: 0.8820 - val_loss: 0.2394 - val_acc: 0.9110\n",
      "Epoch 96/100\n",
      " 99/100 [============================>.] - ETA: 0s - loss: 0.2704 - acc: 0.8828Epoch 1/100\n",
      "100/100 [==============================] - 18s 185ms/step - loss: 0.2691 - acc: 0.8833 - val_loss: 0.2411 - val_acc: 0.9100\n",
      "Epoch 97/100\n",
      " 99/100 [============================>.] - ETA: 0s - loss: 0.2704 - acc: 0.8845Epoch 1/100\n",
      "100/100 [==============================] - 19s 185ms/step - loss: 0.2698 - acc: 0.8847 - val_loss: 0.2428 - val_acc: 0.9060\n",
      "Epoch 98/100\n",
      " 99/100 [============================>.] - ETA: 0s - loss: 0.2676 - acc: 0.8845Epoch 1/100\n",
      "100/100 [==============================] - 18s 184ms/step - loss: 0.2661 - acc: 0.8853 - val_loss: 0.2472 - val_acc: 0.9010\n",
      "Epoch 99/100\n",
      " 99/100 [============================>.] - ETA: 0s - loss: 0.2726 - acc: 0.8875Epoch 1/100\n",
      "100/100 [==============================] - 19s 187ms/step - loss: 0.2729 - acc: 0.8873 - val_loss: 0.2473 - val_acc: 0.9020\n",
      "Epoch 100/100\n",
      " 99/100 [============================>.] - ETA: 0s - loss: 0.2801 - acc: 0.8842Epoch 1/100\n",
      "100/100 [==============================] - 18s 183ms/step - loss: 0.2801 - acc: 0.8843 - val_loss: 0.2406 - val_acc: 0.9050\n"
     ]
    }
   ],
   "source": [
    "history = model._________(train_generator, steps_per_epoch=100, epochs=100,\n",
    "                              validation_data=val_generator, validation_steps=50, verbose=1)"
   ]
  },
  {
   "cell_type": "code",
   "execution_count": 24,
   "metadata": {
    "colab": {
     "base_uri": "https://localhost:8080/",
     "height": 308
    },
    "colab_type": "code",
    "executionInfo": {
     "elapsed": 1371,
     "status": "ok",
     "timestamp": 1579662611623,
     "user": {
      "displayName": "Soohyun Kim",
      "photoUrl": "",
      "userId": "04717435945000606452"
     },
     "user_tz": -540
    },
    "id": "11J6yxOGDpUB",
    "outputId": "13cdeb6a-c7a3-430d-e70e-3d68d44afc90"
   },
   "outputs": [
    {
     "data": {
      "image/png": "[encoded data removed]",
      "text/plain": [
       "<Figure size 864x288 with 2 Axes>"
      ]
     },
     "metadata": {
      "tags": []
     },
     "output_type": "display_data"
    }
   ],
   "source": [
    "f, (ax1, ax2) = plt.subplots(1, 2, figsize=(12, 4))\n",
    "t = f.suptitle('Pre-trained CNN (Transfer Learning) with Image Augmentation Performance', fontsize=12)\n",
    "f.subplots_adjust(top=0.85, wspace=0.3)\n",
    "\n",
    "epoch_list = list(range(1,101))\n",
    "ax1.plot(epoch_list, history.history['acc'], label='Train Accuracy')\n",
    "ax1.plot(epoch_list, history.history['val_acc'], label='Validation Accuracy')\n",
    "ax1.set_xticks(np.arange(0, 101, 10))\n",
    "ax1.set_ylabel('Accuracy Value')\n",
    "ax1.set_xlabel('Epoch')\n",
    "ax1.set_title('Accuracy')\n",
    "l1 = ax1.legend(loc=\"best\")\n",
    "\n",
    "ax2.plot(epoch_list, history.history['loss'], label='Train Loss')\n",
    "ax2.plot(epoch_list, history.history['val_loss'], label='Validation Loss')\n",
    "ax2.set_xticks(np.arange(0, 101, 10))\n",
    "ax2.set_ylabel('Loss Value')\n",
    "ax2.set_xlabel('Epoch')\n",
    "ax2.set_title('Loss')\n",
    "l2 = ax2.legend(loc=\"best\")"
   ]
  },
  {
   "cell_type": "code",
   "execution_count": 0,
   "metadata": {
    "colab": {},
    "colab_type": "code",
    "id": "RkwTM10KDpUD"
   },
   "outputs": [],
   "source": [
    "model.save('cats_dogs_tlearn_img_aug_cnn.h5')"
   ]
  }
 ],
 "metadata": {
  "accelerator": "GPU",
  "colab": {
   "collapsed_sections": [],
   "name": "4.CNN_TransferLearning-colab.ipynb",
   "provenance": [],
   "toc_visible": true
  },
  "kernelspec": {
   "display_name": "Python 3",
   "language": "python",
   "name": "python3"
  },
  "language_info": {
   "codemirror_mode": {
    "name": "ipython",
    "version": 3
   },
   "file_extension": ".py",
   "mimetype": "text/x-python",
   "name": "python",
   "nbconvert_exporter": "python",
   "pygments_lexer": "ipython3",
   "version": "3.6.10"
  }
 },
 "nbformat": 4,
 "nbformat_minor": 1
}
