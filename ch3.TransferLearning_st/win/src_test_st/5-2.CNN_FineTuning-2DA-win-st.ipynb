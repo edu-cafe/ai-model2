{
 "cells": [
  {
   "cell_type": "markdown",
   "metadata": {
    "colab_type": "text",
    "id": "BqQd89ljaEQ5"
   },
   "source": [
    "## 사전 훈련된 컨브넷 사용하기\n",
    "* 작은 이미지 데이터셋에 딥러닝을 적용하는 일반적이고 매우 효과적인 방법은 사전 훈련된 네트워크를 사용하는 것입니다. \n",
    "* 원본 데이터셋이 충분히 크고 일반적이라면 사전 훈련된 네트워크에 의해 학습된 특성의 계층 구조는 실제 세상에 대한 일반적인 모델로 효율적인 역할을 할 수 있습니다. \n",
    "* 새로운 문제가 원래 작업과 완전히 다른 클래스에 대한 것이더라도 이런 특성은 많은 컴퓨터 비전 문제에 유용합니다. \n",
    "* 학습된 특성을 다른 문제에 적용할 수 있는 이런 유연성은 이전의 많은 얕은 학습 방법과 비교했을 때 딥러닝의 핵심 장점입니다. 이런 방식으로 작은 데이터셋을 가진 문제에도 딥러닝이 효율적으로 작동할 수 있습니다.\n",
    "* 여기에서는 (1.4백만 개의 레이블된 이미지와 1,000개의 클래스로 이루어진) ImageNet 데이터셋에서 훈련된 대규모 컨브넷을 사용해 보겠습니다. ImageNet 데이터셋은 다양한 종의 강아지와 고양이를 포함해 많은 동물들을 포함하고 있습니다. 그래서 강아지 vs. 고양이 분류 문제에 좋은 성능을 낼 것 같습니다.\n",
    "* 캐런 시몬연과 앤드류 지서먼이 2014년에 개발한 VGG16 구조를 사용하겠습니다. VGG16은 간단하고 ImageNet 데이터셋에 널리 사용되는 컨브넷 구조입니다. VGG16은 조금 오래되었고 최고 수준의 성능에는 못미치며 최근의 다른 모델보다는 조금 무겁습니다. \n",
    "* VGG, ResNet, Inception, Inception-ResNet, Xception 등을 적용 할 수 있습니다."
   ]
  },
  {
   "cell_type": "markdown",
   "metadata": {
    "colab_type": "text",
    "id": "PX3v0fixaERB"
   },
   "source": [
    "### 사전 훈련된 네트워크를 사용하는 두 가지 방법\n",
    "* 특성 추출 : 특성 추출기로 사전 훈련된 모델 이용\n",
    "* **미세 조정 (Fine Tuning)** : 사전훈련된 모델의 미세 튜닝"
   ]
  },
  {
   "cell_type": "markdown",
   "metadata": {
    "colab_type": "text",
    "id": "GdjspaP4aERF"
   },
   "source": [
    "## 미세 조정 (Fine Tuning)\n",
    "* 모델을 재사용하는 데 널리 사용되는 또 하나의 기법은 특성 추출을 보완하는 미세 조정입니다. 미세 조정은 특성 추출에 사용했던 동결 모델의 상위 층 몇 개를 동결에서 해제하고 모델에 새로 추가한 층(여기서는 완전 연결 분류기)과 함께 훈련하는 것입니다. 주어진 문제에 조금 더 밀접하게 재사용 모델의 표현을 일부 조정하기 때문에 미세 조정이라고 부릅니다."
   ]
  },
  {
   "cell_type": "markdown",
   "metadata": {
    "colab_type": "text",
    "id": "f3Z0dBTxaERJ"
   },
   "source": [
    "### 네트워크 미세 조정 방법\n",
    "* 기반 네트워크에서 일부 층의 동결을 해제합니다.\n",
    "* 동결을 해제한 층과 새로 추가한 층을 함께 훈련합니다."
   ]
  },
  {
   "cell_type": "markdown",
   "metadata": {
    "colab_type": "text",
    "id": "fUDssdfiaESp"
   },
   "source": [
    "## 데이터 준비"
   ]
  },
  {
   "cell_type": "code",
   "execution_count": 0,
   "metadata": {
    "colab": {},
    "colab_type": "code",
    "id": "Rez7Ez4PaES3"
   },
   "outputs": [],
   "source": [
    "%matplotlib inline\n",
    "\n",
    "test = 1"
   ]
  },
  {
   "cell_type": "code",
   "execution_count": 0,
   "metadata": {
    "colab": {},
    "colab_type": "code",
    "id": "UHxjiL0kaES_"
   },
   "outputs": [],
   "source": [
    "import glob\n",
    "import numpy as np\n",
    "import matplotlib.pyplot as plt\n",
    "from tensorflow.keras.preprocessing.image import ImageDataGenerator, load_img, img_to_array, array_to_img"
   ]
  },
  {
   "cell_type": "code",
   "execution_count": 28,
   "metadata": {
    "colab": {
     "base_uri": "https://localhost:8080/",
     "height": 36
    },
    "colab_type": "code",
    "executionInfo": {
     "elapsed": 14667,
     "status": "ok",
     "timestamp": 1579588507487,
     "user": {
      "displayName": "Soohyun Kim",
      "photoUrl": "",
      "userId": "04717435945000606452"
     },
     "user_tz": -540
    },
    "id": "s8hPOQrhaETF",
    "outputId": "161e0b2f-6972-4408-a7cb-c5729420862e"
   },
   "outputs": [
    {
     "name": "stdout",
     "output_type": "stream",
     "text": [
      "['dog', 'dog', 'dog']\n"
     ]
    }
   ],
   "source": [
    "IMG_DIM = (150, 150)\n",
    "\n",
    "train_files = glob.glob('training_data/*')\n",
    "train_imgs = [img_to_array(load_img(img, target_size=IMG_DIM)) for img in train_files]\n",
    "train_imgs = np.array(train_imgs)\n",
    "# train_labels = [fn.split('/')[1].split('.')[0].strip() for fn in train_files] # for linux\n",
    "train_labels = [fn.split('\\\\')[1].split('.')[0].strip() for fn in train_files] # for windows\n",
    "print(train_labels[:3])"
   ]
  },
  {
   "cell_type": "code",
   "execution_count": 29,
   "metadata": {
    "colab": {
     "base_uri": "https://localhost:8080/",
     "height": 36
    },
    "colab_type": "code",
    "executionInfo": {
     "elapsed": 4440,
     "status": "ok",
     "timestamp": 1579588522523,
     "user": {
      "displayName": "Soohyun Kim",
      "photoUrl": "",
      "userId": "04717435945000606452"
     },
     "user_tz": -540
    },
    "id": "Iz-JGuBpeG5N",
    "outputId": "07d5d28b-e893-451c-dbdf-8342aab55ca6"
   },
   "outputs": [
    {
     "name": "stdout",
     "output_type": "stream",
     "text": [
      "Train dataset shape: (3000, 150, 150, 3) \tValidation dataset shape: (1000, 150, 150, 3)\n"
     ]
    }
   ],
   "source": [
    "validation_files = glob.glob('validation_data/*')\n",
    "validation_imgs = [img_to_array(load_img(img, target_size=IMG_DIM)) for img in validation_files]\n",
    "validation_imgs = np.array(validation_imgs)\n",
    "# validation_labels = [fn.split('/')[1].split('.')[0].strip() for fn in validation_files] # for linux\n",
    "validation_labels = [fn.split('\\\\')[1].split('.')[0].strip() for fn in validation_files] # for windows\n",
    "\n",
    "print('Train dataset shape:', train_imgs.shape, \n",
    "      '\\tValidation dataset shape:', validation_imgs.shape)"
   ]
  },
  {
   "cell_type": "code",
   "execution_count": 0,
   "metadata": {
    "colab": {},
    "colab_type": "code",
    "id": "7fTSndUraET2"
   },
   "outputs": [],
   "source": [
    "train_imgs_scaled = train_imgs.astype('float32')\n",
    "validation_imgs_scaled = validation_imgs.astype('float32')\n",
    "train_imgs_scaled /= 255\n",
    "validation_imgs_scaled /= 255"
   ]
  },
  {
   "cell_type": "code",
   "execution_count": 16,
   "metadata": {
    "colab": {
     "base_uri": "https://localhost:8080/",
     "height": 36
    },
    "colab_type": "code",
    "executionInfo": {
     "elapsed": 1385,
     "status": "ok",
     "timestamp": 1579585551841,
     "user": {
      "displayName": "Soohyun Kim",
      "photoUrl": "",
      "userId": "04717435945000606452"
     },
     "user_tz": -540
    },
    "id": "aMiVfZxPaEUP",
    "outputId": "29812da2-ec04-47db-98fd-a019e85f50df"
   },
   "outputs": [
    {
     "name": "stdout",
     "output_type": "stream",
     "text": [
      "['dog', 'dog', 'dog', 'dog', 'dog'] [1 1 1 1 1]\n"
     ]
    }
   ],
   "source": [
    "batch_size = 30\n",
    "num_classes = 2\n",
    "epochs = 30\n",
    "input_shape = (150, 150, 3)\n",
    "\n",
    "from sklearn.preprocessing import LabelEncoder\n",
    "\n",
    "le = LabelEncoder()\n",
    "le.fit(train_labels)\n",
    "# encode wine type labels\n",
    "train_labels_enc = le.transform(train_labels)\n",
    "validation_labels_enc = le.transform(validation_labels)\n",
    "\n",
    "print(train_labels[0:5], train_labels_enc[0:5])"
   ]
  },
  {
   "cell_type": "markdown",
   "metadata": {
    "colab_type": "text",
    "id": "jPefgIniaEUY"
   },
   "source": [
    "## VGG16 네트워크 Fine Tuning 영역 설정"
   ]
  },
  {
   "cell_type": "code",
   "execution_count": 17,
   "metadata": {
    "colab": {
     "base_uri": "https://localhost:8080/",
     "height": 1000
    },
    "colab_type": "code",
    "executionInfo": {
     "elapsed": 13553,
     "status": "ok",
     "timestamp": 1579585570631,
     "user": {
      "displayName": "Soohyun Kim",
      "photoUrl": "",
      "userId": "04717435945000606452"
     },
     "user_tz": -540
    },
    "id": "dB6hgIjlaEUa",
    "outputId": "3460f3ec-87ec-4e15-a373-3eb90c955e0d"
   },
   "outputs": [
    {
     "name": "stdout",
     "output_type": "stream",
     "text": [
      "WARNING:tensorflow:From /usr/local/lib/python3.6/dist-packages/tensorflow_core/python/ops/resource_variable_ops.py:1630: calling BaseResourceVariable.__init__ (from tensorflow.python.ops.resource_variable_ops) with constraint is deprecated and will be removed in a future version.\n",
      "Instructions for updating:\n",
      "If using Keras pass *_constraint arguments to layers.\n",
      "Downloading data from https://github.com/fchollet/deep-learning-models/releases/download/v0.1/vgg16_weights_tf_dim_ordering_tf_kernels_notop.h5\n",
      "58892288/58889256 [==============================] - 2s 0us/step\n",
      "Model: \"model\"\n",
      "_________________________________________________________________\n",
      "Layer (type)                 Output Shape              Param #   \n",
      "=================================================================\n",
      "input_1 (InputLayer)         [(None, 150, 150, 3)]     0         \n",
      "_________________________________________________________________\n",
      "block1_conv1 (Conv2D)        (None, 150, 150, 64)      1792      \n",
      "_________________________________________________________________\n",
      "block1_conv2 (Conv2D)        (None, 150, 150, 64)      36928     \n",
      "_________________________________________________________________\n",
      "block1_pool (MaxPooling2D)   (None, 75, 75, 64)        0         \n",
      "_________________________________________________________________\n",
      "block2_conv1 (Conv2D)        (None, 75, 75, 128)       73856     \n",
      "_________________________________________________________________\n",
      "block2_conv2 (Conv2D)        (None, 75, 75, 128)       147584    \n",
      "_________________________________________________________________\n",
      "block2_pool (MaxPooling2D)   (None, 37, 37, 128)       0         \n",
      "_________________________________________________________________\n",
      "block3_conv1 (Conv2D)        (None, 37, 37, 256)       295168    \n",
      "_________________________________________________________________\n",
      "block3_conv2 (Conv2D)        (None, 37, 37, 256)       590080    \n",
      "_________________________________________________________________\n",
      "block3_conv3 (Conv2D)        (None, 37, 37, 256)       590080    \n",
      "_________________________________________________________________\n",
      "block3_pool (MaxPooling2D)   (None, 18, 18, 256)       0         \n",
      "_________________________________________________________________\n",
      "block4_conv1 (Conv2D)        (None, 18, 18, 512)       1180160   \n",
      "_________________________________________________________________\n",
      "block4_conv2 (Conv2D)        (None, 18, 18, 512)       2359808   \n",
      "_________________________________________________________________\n",
      "block4_conv3 (Conv2D)        (None, 18, 18, 512)       2359808   \n",
      "_________________________________________________________________\n",
      "block4_pool (MaxPooling2D)   (None, 9, 9, 512)         0         \n",
      "_________________________________________________________________\n",
      "block5_conv1 (Conv2D)        (None, 9, 9, 512)         2359808   \n",
      "_________________________________________________________________\n",
      "block5_conv2 (Conv2D)        (None, 9, 9, 512)         2359808   \n",
      "_________________________________________________________________\n",
      "block5_conv3 (Conv2D)        (None, 9, 9, 512)         2359808   \n",
      "_________________________________________________________________\n",
      "block5_pool (MaxPooling2D)   (None, 4, 4, 512)         0         \n",
      "_________________________________________________________________\n",
      "flatten (Flatten)            (None, 8192)              0         \n",
      "=================================================================\n",
      "Total params: 14,714,688\n",
      "Trainable params: 0\n",
      "Non-trainable params: 14,714,688\n",
      "_________________________________________________________________\n"
     ]
    }
   ],
   "source": [
    "from tensorflow.keras.applications import vgg16\n",
    "from tensorflow.keras.models import Model\n",
    "import tensorflow.keras\n",
    "\n",
    "vgg = vgg16.VGG16(include_top=False, weights='imagenet', \n",
    "                                     input_shape=input_shape)\n",
    "\n",
    "output = vgg.layers[-1].output\n",
    "output = tensorflow.keras.layers.Flatten()(output)\n",
    "\n",
    "vgg_model = Model(vgg.input, output)\n",
    "vgg_model.trainable = False\n",
    "\n",
    "for layer in vgg_model.layers:\n",
    "    layer.trainable = False\n",
    "\n",
    "vgg_model.summary()"
   ]
  },
  {
   "cell_type": "code",
   "execution_count": 18,
   "metadata": {
    "colab": {
     "base_uri": "https://localhost:8080/",
     "height": 995
    },
    "colab_type": "code",
    "executionInfo": {
     "elapsed": 1091,
     "status": "ok",
     "timestamp": 1579585576605,
     "user": {
      "displayName": "Soohyun Kim",
      "photoUrl": "",
      "userId": "04717435945000606452"
     },
     "user_tz": -540
    },
    "id": "9UqUhfPjaEUg",
    "outputId": "a0217ca0-85ea-4796-da7c-711b7d04b504"
   },
   "outputs": [
    {
     "data": {
      "text/html": [
       "<div>\n",
       "<style scoped>\n",
       "    .dataframe tbody tr th:only-of-type {\n",
       "        vertical-align: middle;\n",
       "    }\n",
       "\n",
       "    .dataframe tbody tr th {\n",
       "        vertical-align: top;\n",
       "    }\n",
       "\n",
       "    .dataframe thead th {\n",
       "        text-align: right;\n",
       "    }\n",
       "</style>\n",
       "<table border=\"1\" class=\"dataframe\">\n",
       "  <thead>\n",
       "    <tr style=\"text-align: right;\">\n",
       "      <th></th>\n",
       "      <th>Layer Type</th>\n",
       "      <th>Layer Name</th>\n",
       "      <th>Layer Trainable</th>\n",
       "    </tr>\n",
       "  </thead>\n",
       "  <tbody>\n",
       "    <tr>\n",
       "      <th>0</th>\n",
       "      <td>&lt;tensorflow.python.keras.engine.input_layer.InputLayer object at 0x7f50dba245f8&gt;</td>\n",
       "      <td>input_1</td>\n",
       "      <td>False</td>\n",
       "    </tr>\n",
       "    <tr>\n",
       "      <th>1</th>\n",
       "      <td>&lt;tensorflow.python.keras.layers.convolutional.Conv2D object at 0x7f50dba24be0&gt;</td>\n",
       "      <td>block1_conv1</td>\n",
       "      <td>False</td>\n",
       "    </tr>\n",
       "    <tr>\n",
       "      <th>2</th>\n",
       "      <td>&lt;tensorflow.python.keras.layers.convolutional.Conv2D object at 0x7f50dcdfb940&gt;</td>\n",
       "      <td>block1_conv2</td>\n",
       "      <td>False</td>\n",
       "    </tr>\n",
       "    <tr>\n",
       "      <th>3</th>\n",
       "      <td>&lt;tensorflow.python.keras.layers.pooling.MaxPooling2D object at 0x7f50dbb43a90&gt;</td>\n",
       "      <td>block1_pool</td>\n",
       "      <td>False</td>\n",
       "    </tr>\n",
       "    <tr>\n",
       "      <th>4</th>\n",
       "      <td>&lt;tensorflow.python.keras.layers.convolutional.Conv2D object at 0x7f50dbb43b00&gt;</td>\n",
       "      <td>block2_conv1</td>\n",
       "      <td>False</td>\n",
       "    </tr>\n",
       "    <tr>\n",
       "      <th>5</th>\n",
       "      <td>&lt;tensorflow.python.keras.layers.convolutional.Conv2D object at 0x7f50dbadd208&gt;</td>\n",
       "      <td>block2_conv2</td>\n",
       "      <td>False</td>\n",
       "    </tr>\n",
       "    <tr>\n",
       "      <th>6</th>\n",
       "      <td>&lt;tensorflow.python.keras.layers.pooling.MaxPooling2D object at 0x7f50dbacb860&gt;</td>\n",
       "      <td>block2_pool</td>\n",
       "      <td>False</td>\n",
       "    </tr>\n",
       "    <tr>\n",
       "      <th>7</th>\n",
       "      <td>&lt;tensorflow.python.keras.layers.convolutional.Conv2D object at 0x7f50dbacb898&gt;</td>\n",
       "      <td>block3_conv1</td>\n",
       "      <td>False</td>\n",
       "    </tr>\n",
       "    <tr>\n",
       "      <th>8</th>\n",
       "      <td>&lt;tensorflow.python.keras.layers.convolutional.Conv2D object at 0x7f50e9509400&gt;</td>\n",
       "      <td>block3_conv2</td>\n",
       "      <td>False</td>\n",
       "    </tr>\n",
       "    <tr>\n",
       "      <th>9</th>\n",
       "      <td>&lt;tensorflow.python.keras.layers.convolutional.Conv2D object at 0x7f50e9519a58&gt;</td>\n",
       "      <td>block3_conv3</td>\n",
       "      <td>False</td>\n",
       "    </tr>\n",
       "    <tr>\n",
       "      <th>10</th>\n",
       "      <td>&lt;tensorflow.python.keras.layers.pooling.MaxPooling2D object at 0x7f50e95280f0&gt;</td>\n",
       "      <td>block3_pool</td>\n",
       "      <td>False</td>\n",
       "    </tr>\n",
       "    <tr>\n",
       "      <th>11</th>\n",
       "      <td>&lt;tensorflow.python.keras.layers.convolutional.Conv2D object at 0x7f50e9528128&gt;</td>\n",
       "      <td>block4_conv1</td>\n",
       "      <td>False</td>\n",
       "    </tr>\n",
       "    <tr>\n",
       "      <th>12</th>\n",
       "      <td>&lt;tensorflow.python.keras.layers.convolutional.Conv2D object at 0x7f50e9535c50&gt;</td>\n",
       "      <td>block4_conv2</td>\n",
       "      <td>False</td>\n",
       "    </tr>\n",
       "    <tr>\n",
       "      <th>13</th>\n",
       "      <td>&lt;tensorflow.python.keras.layers.convolutional.Conv2D object at 0x7f50db1c72e8&gt;</td>\n",
       "      <td>block4_conv3</td>\n",
       "      <td>False</td>\n",
       "    </tr>\n",
       "    <tr>\n",
       "      <th>14</th>\n",
       "      <td>&lt;tensorflow.python.keras.layers.pooling.MaxPooling2D object at 0x7f50db1d3908&gt;</td>\n",
       "      <td>block4_pool</td>\n",
       "      <td>False</td>\n",
       "    </tr>\n",
       "    <tr>\n",
       "      <th>15</th>\n",
       "      <td>&lt;tensorflow.python.keras.layers.convolutional.Conv2D object at 0x7f50db1d3940&gt;</td>\n",
       "      <td>block5_conv1</td>\n",
       "      <td>False</td>\n",
       "    </tr>\n",
       "    <tr>\n",
       "      <th>16</th>\n",
       "      <td>&lt;tensorflow.python.keras.layers.convolutional.Conv2D object at 0x7f50db1e14a8&gt;</td>\n",
       "      <td>block5_conv2</td>\n",
       "      <td>False</td>\n",
       "    </tr>\n",
       "    <tr>\n",
       "      <th>17</th>\n",
       "      <td>&lt;tensorflow.python.keras.layers.convolutional.Conv2D object at 0x7f50db1f5b00&gt;</td>\n",
       "      <td>block5_conv3</td>\n",
       "      <td>False</td>\n",
       "    </tr>\n",
       "    <tr>\n",
       "      <th>18</th>\n",
       "      <td>&lt;tensorflow.python.keras.layers.pooling.MaxPooling2D object at 0x7f50db185198&gt;</td>\n",
       "      <td>block5_pool</td>\n",
       "      <td>False</td>\n",
       "    </tr>\n",
       "    <tr>\n",
       "      <th>19</th>\n",
       "      <td>&lt;tensorflow.python.keras.layers.core.Flatten object at 0x7f50dad20b00&gt;</td>\n",
       "      <td>flatten</td>\n",
       "      <td>False</td>\n",
       "    </tr>\n",
       "  </tbody>\n",
       "</table>\n",
       "</div>"
      ],
      "text/plain": [
       "                                                                          Layer Type  ... Layer Trainable\n",
       "0   <tensorflow.python.keras.engine.input_layer.InputLayer object at 0x7f50dba245f8>  ...  False         \n",
       "1   <tensorflow.python.keras.layers.convolutional.Conv2D object at 0x7f50dba24be0>    ...  False         \n",
       "2   <tensorflow.python.keras.layers.convolutional.Conv2D object at 0x7f50dcdfb940>    ...  False         \n",
       "3   <tensorflow.python.keras.layers.pooling.MaxPooling2D object at 0x7f50dbb43a90>    ...  False         \n",
       "4   <tensorflow.python.keras.layers.convolutional.Conv2D object at 0x7f50dbb43b00>    ...  False         \n",
       "5   <tensorflow.python.keras.layers.convolutional.Conv2D object at 0x7f50dbadd208>    ...  False         \n",
       "6   <tensorflow.python.keras.layers.pooling.MaxPooling2D object at 0x7f50dbacb860>    ...  False         \n",
       "7   <tensorflow.python.keras.layers.convolutional.Conv2D object at 0x7f50dbacb898>    ...  False         \n",
       "8   <tensorflow.python.keras.layers.convolutional.Conv2D object at 0x7f50e9509400>    ...  False         \n",
       "9   <tensorflow.python.keras.layers.convolutional.Conv2D object at 0x7f50e9519a58>    ...  False         \n",
       "10  <tensorflow.python.keras.layers.pooling.MaxPooling2D object at 0x7f50e95280f0>    ...  False         \n",
       "11  <tensorflow.python.keras.layers.convolutional.Conv2D object at 0x7f50e9528128>    ...  False         \n",
       "12  <tensorflow.python.keras.layers.convolutional.Conv2D object at 0x7f50e9535c50>    ...  False         \n",
       "13  <tensorflow.python.keras.layers.convolutional.Conv2D object at 0x7f50db1c72e8>    ...  False         \n",
       "14  <tensorflow.python.keras.layers.pooling.MaxPooling2D object at 0x7f50db1d3908>    ...  False         \n",
       "15  <tensorflow.python.keras.layers.convolutional.Conv2D object at 0x7f50db1d3940>    ...  False         \n",
       "16  <tensorflow.python.keras.layers.convolutional.Conv2D object at 0x7f50db1e14a8>    ...  False         \n",
       "17  <tensorflow.python.keras.layers.convolutional.Conv2D object at 0x7f50db1f5b00>    ...  False         \n",
       "18  <tensorflow.python.keras.layers.pooling.MaxPooling2D object at 0x7f50db185198>    ...  False         \n",
       "19  <tensorflow.python.keras.layers.core.Flatten object at 0x7f50dad20b00>            ...  False         \n",
       "\n",
       "[20 rows x 3 columns]"
      ]
     },
     "execution_count": 18,
     "metadata": {
      "tags": []
     },
     "output_type": "execute_result"
    }
   ],
   "source": [
    "import pandas as pd\n",
    "pd.set_option('max_colwidth', -1)\n",
    "\n",
    "layers = [(layer, layer.name, layer.trainable) for layer in vgg_model.layers]\n",
    "pd.DataFrame(layers, columns=['Layer Type', 'Layer Name', 'Layer Trainable'])"
   ]
  },
  {
   "cell_type": "code",
   "execution_count": 19,
   "metadata": {
    "colab": {
     "base_uri": "https://localhost:8080/",
     "height": 36
    },
    "colab_type": "code",
    "executionInfo": {
     "elapsed": 1041,
     "status": "ok",
     "timestamp": 1579585579624,
     "user": {
      "displayName": "Soohyun Kim",
      "photoUrl": "",
      "userId": "04717435945000606452"
     },
     "user_tz": -540
    },
    "id": "M2NE8wVvaEUm",
    "outputId": "4a53c353-372b-4b41-d2cb-161c755721c7"
   },
   "outputs": [
    {
     "name": "stdout",
     "output_type": "stream",
     "text": [
      "Trainable layers: []\n"
     ]
    }
   ],
   "source": [
    "print(\"Trainable layers:\", vgg_model.trainable_weights)"
   ]
  },
  {
   "cell_type": "code",
   "execution_count": 20,
   "metadata": {
    "colab": {
     "base_uri": "https://localhost:8080/",
     "height": 56
    },
    "colab_type": "code",
    "executionInfo": {
     "elapsed": 1096,
     "status": "ok",
     "timestamp": 1579585582144,
     "user": {
      "displayName": "Soohyun Kim",
      "photoUrl": "",
      "userId": "04717435945000606452"
     },
     "user_tz": -540
    },
    "id": "EQzhh60TaEVN",
    "outputId": "24d2be5e-51e2-4e44-8c50-5f832d1d104e"
   },
   "outputs": [
    {
     "name": "stdout",
     "output_type": "stream",
     "text": [
      "Trainable layers: [<tf.Variable 'block4_conv1/kernel:0' shape=(3, 3, 256, 512) dtype=float32>, <tf.Variable 'block4_conv1/bias:0' shape=(512,) dtype=float32>, <tf.Variable 'block4_conv2/kernel:0' shape=(3, 3, 512, 512) dtype=float32>, <tf.Variable 'block4_conv2/bias:0' shape=(512,) dtype=float32>, <tf.Variable 'block4_conv3/kernel:0' shape=(3, 3, 512, 512) dtype=float32>, <tf.Variable 'block4_conv3/bias:0' shape=(512,) dtype=float32>, <tf.Variable 'block5_conv1/kernel:0' shape=(3, 3, 512, 512) dtype=float32>, <tf.Variable 'block5_conv1/bias:0' shape=(512,) dtype=float32>, <tf.Variable 'block5_conv2/kernel:0' shape=(3, 3, 512, 512) dtype=float32>, <tf.Variable 'block5_conv2/bias:0' shape=(512,) dtype=float32>, <tf.Variable 'block5_conv3/kernel:0' shape=(3, 3, 512, 512) dtype=float32>, <tf.Variable 'block5_conv3/bias:0' shape=(512,) dtype=float32>]\n"
     ]
    }
   ],
   "source": [
    "vgg_model.trainable = True\n",
    "\n",
    "set_trainable = False\n",
    "for layer in vgg_model.layers:\n",
    "    if layer.name in ['block5_conv1', 'block4_conv1']:\n",
    "        set_trainable = True\n",
    "    if set_trainable:\n",
    "        layer.trainable = True\n",
    "    else:\n",
    "        layer.trainable = False\n",
    "        \n",
    "print(\"Trainable layers:\", vgg_model.trainable_weights)"
   ]
  },
  {
   "cell_type": "code",
   "execution_count": 21,
   "metadata": {
    "colab": {
     "base_uri": "https://localhost:8080/",
     "height": 995
    },
    "colab_type": "code",
    "executionInfo": {
     "elapsed": 1090,
     "status": "ok",
     "timestamp": 1579585588290,
     "user": {
      "displayName": "Soohyun Kim",
      "photoUrl": "",
      "userId": "04717435945000606452"
     },
     "user_tz": -540
    },
    "id": "hxO9pHNLaEVW",
    "outputId": "76db1a42-f598-4b14-c74a-fb2f6cd2ef40"
   },
   "outputs": [
    {
     "data": {
      "text/html": [
       "<div>\n",
       "<style scoped>\n",
       "    .dataframe tbody tr th:only-of-type {\n",
       "        vertical-align: middle;\n",
       "    }\n",
       "\n",
       "    .dataframe tbody tr th {\n",
       "        vertical-align: top;\n",
       "    }\n",
       "\n",
       "    .dataframe thead th {\n",
       "        text-align: right;\n",
       "    }\n",
       "</style>\n",
       "<table border=\"1\" class=\"dataframe\">\n",
       "  <thead>\n",
       "    <tr style=\"text-align: right;\">\n",
       "      <th></th>\n",
       "      <th>Layer Type</th>\n",
       "      <th>Layer Name</th>\n",
       "      <th>Layer Trainable</th>\n",
       "    </tr>\n",
       "  </thead>\n",
       "  <tbody>\n",
       "    <tr>\n",
       "      <th>0</th>\n",
       "      <td>&lt;tensorflow.python.keras.engine.input_layer.InputLayer object at 0x7f50dba245f8&gt;</td>\n",
       "      <td>input_1</td>\n",
       "      <td>False</td>\n",
       "    </tr>\n",
       "    <tr>\n",
       "      <th>1</th>\n",
       "      <td>&lt;tensorflow.python.keras.layers.convolutional.Conv2D object at 0x7f50dba24be0&gt;</td>\n",
       "      <td>block1_conv1</td>\n",
       "      <td>False</td>\n",
       "    </tr>\n",
       "    <tr>\n",
       "      <th>2</th>\n",
       "      <td>&lt;tensorflow.python.keras.layers.convolutional.Conv2D object at 0x7f50dcdfb940&gt;</td>\n",
       "      <td>block1_conv2</td>\n",
       "      <td>False</td>\n",
       "    </tr>\n",
       "    <tr>\n",
       "      <th>3</th>\n",
       "      <td>&lt;tensorflow.python.keras.layers.pooling.MaxPooling2D object at 0x7f50dbb43a90&gt;</td>\n",
       "      <td>block1_pool</td>\n",
       "      <td>False</td>\n",
       "    </tr>\n",
       "    <tr>\n",
       "      <th>4</th>\n",
       "      <td>&lt;tensorflow.python.keras.layers.convolutional.Conv2D object at 0x7f50dbb43b00&gt;</td>\n",
       "      <td>block2_conv1</td>\n",
       "      <td>False</td>\n",
       "    </tr>\n",
       "    <tr>\n",
       "      <th>5</th>\n",
       "      <td>&lt;tensorflow.python.keras.layers.convolutional.Conv2D object at 0x7f50dbadd208&gt;</td>\n",
       "      <td>block2_conv2</td>\n",
       "      <td>False</td>\n",
       "    </tr>\n",
       "    <tr>\n",
       "      <th>6</th>\n",
       "      <td>&lt;tensorflow.python.keras.layers.pooling.MaxPooling2D object at 0x7f50dbacb860&gt;</td>\n",
       "      <td>block2_pool</td>\n",
       "      <td>False</td>\n",
       "    </tr>\n",
       "    <tr>\n",
       "      <th>7</th>\n",
       "      <td>&lt;tensorflow.python.keras.layers.convolutional.Conv2D object at 0x7f50dbacb898&gt;</td>\n",
       "      <td>block3_conv1</td>\n",
       "      <td>False</td>\n",
       "    </tr>\n",
       "    <tr>\n",
       "      <th>8</th>\n",
       "      <td>&lt;tensorflow.python.keras.layers.convolutional.Conv2D object at 0x7f50e9509400&gt;</td>\n",
       "      <td>block3_conv2</td>\n",
       "      <td>False</td>\n",
       "    </tr>\n",
       "    <tr>\n",
       "      <th>9</th>\n",
       "      <td>&lt;tensorflow.python.keras.layers.convolutional.Conv2D object at 0x7f50e9519a58&gt;</td>\n",
       "      <td>block3_conv3</td>\n",
       "      <td>False</td>\n",
       "    </tr>\n",
       "    <tr>\n",
       "      <th>10</th>\n",
       "      <td>&lt;tensorflow.python.keras.layers.pooling.MaxPooling2D object at 0x7f50e95280f0&gt;</td>\n",
       "      <td>block3_pool</td>\n",
       "      <td>False</td>\n",
       "    </tr>\n",
       "    <tr>\n",
       "      <th>11</th>\n",
       "      <td>&lt;tensorflow.python.keras.layers.convolutional.Conv2D object at 0x7f50e9528128&gt;</td>\n",
       "      <td>block4_conv1</td>\n",
       "      <td>True</td>\n",
       "    </tr>\n",
       "    <tr>\n",
       "      <th>12</th>\n",
       "      <td>&lt;tensorflow.python.keras.layers.convolutional.Conv2D object at 0x7f50e9535c50&gt;</td>\n",
       "      <td>block4_conv2</td>\n",
       "      <td>True</td>\n",
       "    </tr>\n",
       "    <tr>\n",
       "      <th>13</th>\n",
       "      <td>&lt;tensorflow.python.keras.layers.convolutional.Conv2D object at 0x7f50db1c72e8&gt;</td>\n",
       "      <td>block4_conv3</td>\n",
       "      <td>True</td>\n",
       "    </tr>\n",
       "    <tr>\n",
       "      <th>14</th>\n",
       "      <td>&lt;tensorflow.python.keras.layers.pooling.MaxPooling2D object at 0x7f50db1d3908&gt;</td>\n",
       "      <td>block4_pool</td>\n",
       "      <td>True</td>\n",
       "    </tr>\n",
       "    <tr>\n",
       "      <th>15</th>\n",
       "      <td>&lt;tensorflow.python.keras.layers.convolutional.Conv2D object at 0x7f50db1d3940&gt;</td>\n",
       "      <td>block5_conv1</td>\n",
       "      <td>True</td>\n",
       "    </tr>\n",
       "    <tr>\n",
       "      <th>16</th>\n",
       "      <td>&lt;tensorflow.python.keras.layers.convolutional.Conv2D object at 0x7f50db1e14a8&gt;</td>\n",
       "      <td>block5_conv2</td>\n",
       "      <td>True</td>\n",
       "    </tr>\n",
       "    <tr>\n",
       "      <th>17</th>\n",
       "      <td>&lt;tensorflow.python.keras.layers.convolutional.Conv2D object at 0x7f50db1f5b00&gt;</td>\n",
       "      <td>block5_conv3</td>\n",
       "      <td>True</td>\n",
       "    </tr>\n",
       "    <tr>\n",
       "      <th>18</th>\n",
       "      <td>&lt;tensorflow.python.keras.layers.pooling.MaxPooling2D object at 0x7f50db185198&gt;</td>\n",
       "      <td>block5_pool</td>\n",
       "      <td>True</td>\n",
       "    </tr>\n",
       "    <tr>\n",
       "      <th>19</th>\n",
       "      <td>&lt;tensorflow.python.keras.layers.core.Flatten object at 0x7f50dad20b00&gt;</td>\n",
       "      <td>flatten</td>\n",
       "      <td>True</td>\n",
       "    </tr>\n",
       "  </tbody>\n",
       "</table>\n",
       "</div>"
      ],
      "text/plain": [
       "                                                                          Layer Type  ... Layer Trainable\n",
       "0   <tensorflow.python.keras.engine.input_layer.InputLayer object at 0x7f50dba245f8>  ...  False         \n",
       "1   <tensorflow.python.keras.layers.convolutional.Conv2D object at 0x7f50dba24be0>    ...  False         \n",
       "2   <tensorflow.python.keras.layers.convolutional.Conv2D object at 0x7f50dcdfb940>    ...  False         \n",
       "3   <tensorflow.python.keras.layers.pooling.MaxPooling2D object at 0x7f50dbb43a90>    ...  False         \n",
       "4   <tensorflow.python.keras.layers.convolutional.Conv2D object at 0x7f50dbb43b00>    ...  False         \n",
       "5   <tensorflow.python.keras.layers.convolutional.Conv2D object at 0x7f50dbadd208>    ...  False         \n",
       "6   <tensorflow.python.keras.layers.pooling.MaxPooling2D object at 0x7f50dbacb860>    ...  False         \n",
       "7   <tensorflow.python.keras.layers.convolutional.Conv2D object at 0x7f50dbacb898>    ...  False         \n",
       "8   <tensorflow.python.keras.layers.convolutional.Conv2D object at 0x7f50e9509400>    ...  False         \n",
       "9   <tensorflow.python.keras.layers.convolutional.Conv2D object at 0x7f50e9519a58>    ...  False         \n",
       "10  <tensorflow.python.keras.layers.pooling.MaxPooling2D object at 0x7f50e95280f0>    ...  False         \n",
       "11  <tensorflow.python.keras.layers.convolutional.Conv2D object at 0x7f50e9528128>    ...  True          \n",
       "12  <tensorflow.python.keras.layers.convolutional.Conv2D object at 0x7f50e9535c50>    ...  True          \n",
       "13  <tensorflow.python.keras.layers.convolutional.Conv2D object at 0x7f50db1c72e8>    ...  True          \n",
       "14  <tensorflow.python.keras.layers.pooling.MaxPooling2D object at 0x7f50db1d3908>    ...  True          \n",
       "15  <tensorflow.python.keras.layers.convolutional.Conv2D object at 0x7f50db1d3940>    ...  True          \n",
       "16  <tensorflow.python.keras.layers.convolutional.Conv2D object at 0x7f50db1e14a8>    ...  True          \n",
       "17  <tensorflow.python.keras.layers.convolutional.Conv2D object at 0x7f50db1f5b00>    ...  True          \n",
       "18  <tensorflow.python.keras.layers.pooling.MaxPooling2D object at 0x7f50db185198>    ...  True          \n",
       "19  <tensorflow.python.keras.layers.core.Flatten object at 0x7f50dad20b00>            ...  True          \n",
       "\n",
       "[20 rows x 3 columns]"
      ]
     },
     "execution_count": 21,
     "metadata": {
      "tags": []
     },
     "output_type": "execute_result"
    }
   ],
   "source": [
    "layers = [(layer, layer.name, layer.trainable) for layer in vgg_model.layers]\n",
    "pd.DataFrame(layers, columns=['Layer Type', 'Layer Name', 'Layer Trainable'])"
   ]
  },
  {
   "cell_type": "markdown",
   "metadata": {
    "colab_type": "text",
    "id": "ETrs7B06aEVd"
   },
   "source": [
    "## Fine Tuning with Data Augmentation 모델 설계 & 실행"
   ]
  },
  {
   "cell_type": "code",
   "execution_count": 0,
   "metadata": {
    "colab": {},
    "colab_type": "code",
    "id": "TTKC-2-LaEVe"
   },
   "outputs": [],
   "source": [
    "train_datagen = ImageDataGenerator(rescale=1./255, zoom_range=0.3, rotation_range=50,\n",
    "                                   width_shift_range=0.2, height_shift_range=0.2, shear_range=0.2, \n",
    "                                   horizontal_flip=True, fill_mode='nearest')\n",
    "\n",
    "val_datagen = ImageDataGenerator(rescale=1./255)\n",
    "\n",
    "train_generator = _________(train_imgs, train_labels_enc, batch_size=30)\n",
    "val_generator = _________(validation_imgs, validation_labels_enc, batch_size=20)"
   ]
  },
  {
   "cell_type": "code",
   "execution_count": 23,
   "metadata": {
    "colab": {
     "base_uri": "https://localhost:8080/",
     "height": 464
    },
    "colab_type": "code",
    "executionInfo": {
     "elapsed": 2276,
     "status": "ok",
     "timestamp": 1579585596277,
     "user": {
      "displayName": "Soohyun Kim",
      "photoUrl": "",
      "userId": "04717435945000606452"
     },
     "user_tz": -540
    },
    "id": "-W0d3bb3aEVw",
    "outputId": "4bb8e0b4-82fd-4028-bd5e-14b80c0c3f63"
   },
   "outputs": [
    {
     "name": "stdout",
     "output_type": "stream",
     "text": [
      "WARNING:tensorflow:From /usr/local/lib/python3.6/dist-packages/tensorflow_core/python/ops/nn_impl.py:183: where (from tensorflow.python.ops.array_ops) is deprecated and will be removed in a future version.\n",
      "Instructions for updating:\n",
      "Use tf.where in 2.0, which has the same broadcast rule as np.where\n",
      "Model: \"sequential\"\n",
      "_________________________________________________________________\n",
      "Layer (type)                 Output Shape              Param #   \n",
      "=================================================================\n",
      "model (Model)                (None, 8192)              14714688  \n",
      "_________________________________________________________________\n",
      "dense (Dense)                (None, 512)               4194816   \n",
      "_________________________________________________________________\n",
      "dropout (Dropout)            (None, 512)               0         \n",
      "_________________________________________________________________\n",
      "dense_1 (Dense)              (None, 512)               262656    \n",
      "_________________________________________________________________\n",
      "dropout_1 (Dropout)          (None, 512)               0         \n",
      "_________________________________________________________________\n",
      "dense_2 (Dense)              (None, 1)                 513       \n",
      "=================================================================\n",
      "Total params: 19,172,673\n",
      "Trainable params: 17,437,185\n",
      "Non-trainable params: 1,735,488\n",
      "_________________________________________________________________\n"
     ]
    }
   ],
   "source": [
    "from tensorflow.keras.layers import Conv2D, MaxPooling2D, Flatten, Dense, Dropout, InputLayer\n",
    "from tensorflow.keras.models import Sequential\n",
    "from tensorflow.keras import optimizers\n",
    "\n",
    "model = Sequential()\n",
    "model.add(________)\n",
    "model.add(Dense(512, activation='relu', input_dim=input_shape))\n",
    "model.add(Dropout(0.3))\n",
    "model.add(Dense(512, activation='relu'))\n",
    "model.add(Dropout(0.3))\n",
    "model.add(Dense(1, activation='sigmoid'))\n",
    "\n",
    "model.compile(loss='binary_crossentropy',\n",
    "              optimizer=optimizers.RMSprop(lr=1e-5),\n",
    "              metrics=['accuracy'])\n",
    "\n",
    "model.summary()"
   ]
  },
  {
   "cell_type": "code",
   "execution_count": 24,
   "metadata": {
    "colab": {
     "base_uri": "https://localhost:8080/",
     "height": 1000
    },
    "colab_type": "code",
    "executionInfo": {
     "elapsed": 2010245,
     "status": "ok",
     "timestamp": 1579587608038,
     "user": {
      "displayName": "Soohyun Kim",
      "photoUrl": "",
      "userId": "04717435945000606452"
     },
     "user_tz": -540
    },
    "id": "zMPTBCgIaEWo",
    "outputId": "5b16154f-1db2-42b4-dc1f-24db6ba07a9a"
   },
   "outputs": [
    {
     "name": "stdout",
     "output_type": "stream",
     "text": [
      "Epoch 1/100\n",
      " 99/100 [============================>.] - ETA: 0s - loss: 0.6066 - acc: 0.6667Epoch 1/100\n",
      "100/100 [==============================] - 31s 308ms/step - loss: 0.6042 - acc: 0.6683 - val_loss: 0.4214 - val_acc: 0.8050\n",
      "Epoch 2/100\n",
      " 99/100 [============================>.] - ETA: 0s - loss: 0.4085 - acc: 0.8114Epoch 1/100\n",
      "100/100 [==============================] - 19s 190ms/step - loss: 0.4081 - acc: 0.8123 - val_loss: 0.2100 - val_acc: 0.9240\n",
      "Epoch 3/100\n",
      " 99/100 [============================>.] - ETA: 0s - loss: 0.3235 - acc: 0.8582Epoch 1/100\n",
      "100/100 [==============================] - 19s 194ms/step - loss: 0.3247 - acc: 0.8580 - val_loss: 0.1786 - val_acc: 0.9190\n",
      "Epoch 4/100\n",
      " 99/100 [============================>.] - ETA: 0s - loss: 0.2819 - acc: 0.8774Epoch 1/100\n",
      "100/100 [==============================] - 19s 194ms/step - loss: 0.2819 - acc: 0.8777 - val_loss: 0.1506 - val_acc: 0.9380\n",
      "Epoch 5/100\n",
      " 99/100 [============================>.] - ETA: 0s - loss: 0.2645 - acc: 0.8842Epoch 1/100\n",
      "100/100 [==============================] - 20s 199ms/step - loss: 0.2637 - acc: 0.8847 - val_loss: 0.1517 - val_acc: 0.9380\n",
      "Epoch 6/100\n",
      " 99/100 [============================>.] - ETA: 0s - loss: 0.2407 - acc: 0.9010Epoch 1/100\n",
      "100/100 [==============================] - 20s 197ms/step - loss: 0.2406 - acc: 0.9010 - val_loss: 0.1823 - val_acc: 0.9140\n",
      "Epoch 7/100\n",
      " 99/100 [============================>.] - ETA: 0s - loss: 0.2112 - acc: 0.9178Epoch 1/100\n",
      "100/100 [==============================] - 20s 197ms/step - loss: 0.2109 - acc: 0.9180 - val_loss: 0.2652 - val_acc: 0.8920\n",
      "Epoch 8/100\n",
      " 99/100 [============================>.] - ETA: 0s - loss: 0.2162 - acc: 0.9098Epoch 1/100\n",
      "100/100 [==============================] - 19s 193ms/step - loss: 0.2152 - acc: 0.9100 - val_loss: 0.1452 - val_acc: 0.9410\n",
      "Epoch 9/100\n",
      " 99/100 [============================>.] - ETA: 0s - loss: 0.1986 - acc: 0.9205Epoch 1/100\n",
      "100/100 [==============================] - 20s 197ms/step - loss: 0.1984 - acc: 0.9207 - val_loss: 0.1439 - val_acc: 0.9360\n",
      "Epoch 10/100\n",
      " 99/100 [============================>.] - ETA: 0s - loss: 0.1871 - acc: 0.9266Epoch 1/100\n",
      "100/100 [==============================] - 20s 196ms/step - loss: 0.1859 - acc: 0.9270 - val_loss: 0.1321 - val_acc: 0.9480\n",
      "Epoch 11/100\n",
      " 99/100 [============================>.] - ETA: 0s - loss: 0.1690 - acc: 0.9276Epoch 1/100\n",
      "100/100 [==============================] - 20s 199ms/step - loss: 0.1705 - acc: 0.9267 - val_loss: 0.1554 - val_acc: 0.9390\n",
      "Epoch 12/100\n",
      " 99/100 [============================>.] - ETA: 0s - loss: 0.1599 - acc: 0.9377Epoch 1/100\n",
      "100/100 [==============================] - 20s 196ms/step - loss: 0.1591 - acc: 0.9383 - val_loss: 0.1350 - val_acc: 0.9390\n",
      "Epoch 13/100\n",
      " 99/100 [============================>.] - ETA: 0s - loss: 0.1528 - acc: 0.9357Epoch 1/100\n",
      "100/100 [==============================] - 20s 196ms/step - loss: 0.1520 - acc: 0.9360 - val_loss: 0.1282 - val_acc: 0.9460\n",
      "Epoch 14/100\n",
      " 99/100 [============================>.] - ETA: 0s - loss: 0.1628 - acc: 0.9286Epoch 1/100\n",
      "100/100 [==============================] - 20s 195ms/step - loss: 0.1630 - acc: 0.9290 - val_loss: 0.1359 - val_acc: 0.9420\n",
      "Epoch 15/100\n",
      " 99/100 [============================>.] - ETA: 0s - loss: 0.1364 - acc: 0.9444Epoch 1/100\n",
      "100/100 [==============================] - 20s 199ms/step - loss: 0.1359 - acc: 0.9450 - val_loss: 0.1422 - val_acc: 0.9450\n",
      "Epoch 16/100\n",
      " 99/100 [============================>.] - ETA: 0s - loss: 0.1198 - acc: 0.9545Epoch 1/100\n",
      "100/100 [==============================] - 20s 199ms/step - loss: 0.1199 - acc: 0.9547 - val_loss: 0.1340 - val_acc: 0.9500\n",
      "Epoch 17/100\n",
      " 99/100 [============================>.] - ETA: 0s - loss: 0.1236 - acc: 0.9502Epoch 1/100\n",
      "100/100 [==============================] - 20s 199ms/step - loss: 0.1238 - acc: 0.9500 - val_loss: 0.1351 - val_acc: 0.9440\n",
      "Epoch 18/100\n",
      " 99/100 [============================>.] - ETA: 0s - loss: 0.1239 - acc: 0.9522Epoch 1/100\n",
      "100/100 [==============================] - 20s 200ms/step - loss: 0.1238 - acc: 0.9523 - val_loss: 0.1396 - val_acc: 0.9500\n",
      "Epoch 19/100\n",
      " 99/100 [============================>.] - ETA: 0s - loss: 0.1201 - acc: 0.9485Epoch 1/100\n",
      "100/100 [==============================] - 20s 195ms/step - loss: 0.1207 - acc: 0.9487 - val_loss: 0.1173 - val_acc: 0.9470\n",
      "Epoch 20/100\n",
      " 99/100 [============================>.] - ETA: 0s - loss: 0.1120 - acc: 0.9576Epoch 1/100\n",
      "100/100 [==============================] - 20s 198ms/step - loss: 0.1127 - acc: 0.9573 - val_loss: 0.1223 - val_acc: 0.9530\n",
      "Epoch 21/100\n",
      " 99/100 [============================>.] - ETA: 0s - loss: 0.1131 - acc: 0.9566Epoch 1/100\n",
      "100/100 [==============================] - 20s 202ms/step - loss: 0.1124 - acc: 0.9567 - val_loss: 0.1047 - val_acc: 0.9550\n",
      "Epoch 22/100\n",
      " 99/100 [============================>.] - ETA: 0s - loss: 0.0999 - acc: 0.9613Epoch 1/100\n",
      "100/100 [==============================] - 20s 195ms/step - loss: 0.1004 - acc: 0.9613 - val_loss: 0.1268 - val_acc: 0.9520\n",
      "Epoch 23/100\n",
      " 99/100 [============================>.] - ETA: 0s - loss: 0.1057 - acc: 0.9576Epoch 1/100\n",
      "100/100 [==============================] - 20s 196ms/step - loss: 0.1052 - acc: 0.9580 - val_loss: 0.1531 - val_acc: 0.9510\n",
      "Epoch 24/100\n",
      " 99/100 [============================>.] - ETA: 0s - loss: 0.0883 - acc: 0.9663Epoch 1/100\n",
      "100/100 [==============================] - 20s 200ms/step - loss: 0.0905 - acc: 0.9660 - val_loss: 0.1937 - val_acc: 0.9400\n",
      "Epoch 25/100\n",
      " 99/100 [============================>.] - ETA: 0s - loss: 0.0970 - acc: 0.9630Epoch 1/100\n",
      "100/100 [==============================] - 20s 199ms/step - loss: 0.0964 - acc: 0.9633 - val_loss: 0.1415 - val_acc: 0.9560\n",
      "Epoch 26/100\n",
      " 99/100 [============================>.] - ETA: 0s - loss: 0.0840 - acc: 0.9640Epoch 1/100\n",
      "100/100 [==============================] - 20s 196ms/step - loss: 0.0856 - acc: 0.9633 - val_loss: 0.1496 - val_acc: 0.9510\n",
      "Epoch 27/100\n",
      " 99/100 [============================>.] - ETA: 0s - loss: 0.0706 - acc: 0.9727Epoch 1/100\n",
      "100/100 [==============================] - 20s 203ms/step - loss: 0.0701 - acc: 0.9727 - val_loss: 0.1839 - val_acc: 0.9520\n",
      "Epoch 28/100\n",
      " 99/100 [============================>.] - ETA: 0s - loss: 0.0765 - acc: 0.9694Epoch 1/100\n",
      "100/100 [==============================] - 20s 196ms/step - loss: 0.0758 - acc: 0.9697 - val_loss: 0.1748 - val_acc: 0.9520\n",
      "Epoch 29/100\n",
      " 99/100 [============================>.] - ETA: 0s - loss: 0.0786 - acc: 0.9724Epoch 1/100\n",
      "100/100 [==============================] - 20s 196ms/step - loss: 0.0782 - acc: 0.9723 - val_loss: 0.1358 - val_acc: 0.9560\n",
      "Epoch 30/100\n",
      " 99/100 [============================>.] - ETA: 0s - loss: 0.0710 - acc: 0.9717Epoch 1/100\n",
      "100/100 [==============================] - 20s 198ms/step - loss: 0.0707 - acc: 0.9717 - val_loss: 0.1391 - val_acc: 0.9540\n",
      "Epoch 31/100\n",
      " 99/100 [============================>.] - ETA: 0s - loss: 0.0830 - acc: 0.9727Epoch 1/100\n",
      "100/100 [==============================] - 20s 200ms/step - loss: 0.0826 - acc: 0.9730 - val_loss: 0.1445 - val_acc: 0.9540\n",
      "Epoch 32/100\n",
      " 99/100 [============================>.] - ETA: 0s - loss: 0.0643 - acc: 0.9737Epoch 1/100\n",
      "100/100 [==============================] - 20s 197ms/step - loss: 0.0647 - acc: 0.9733 - val_loss: 0.1268 - val_acc: 0.9610\n",
      "Epoch 33/100\n",
      " 99/100 [============================>.] - ETA: 0s - loss: 0.0775 - acc: 0.9704Epoch 1/100\n",
      "100/100 [==============================] - 20s 197ms/step - loss: 0.0772 - acc: 0.9703 - val_loss: 0.1466 - val_acc: 0.9550\n",
      "Epoch 34/100\n",
      " 99/100 [============================>.] - ETA: 0s - loss: 0.0615 - acc: 0.9795Epoch 1/100\n",
      "100/100 [==============================] - 20s 200ms/step - loss: 0.0614 - acc: 0.9793 - val_loss: 0.1509 - val_acc: 0.9580\n",
      "Epoch 35/100\n",
      " 99/100 [============================>.] - ETA: 0s - loss: 0.0612 - acc: 0.9778Epoch 1/100\n",
      "100/100 [==============================] - 20s 201ms/step - loss: 0.0610 - acc: 0.9777 - val_loss: 0.1492 - val_acc: 0.9560\n",
      "Epoch 36/100\n",
      " 99/100 [============================>.] - ETA: 0s - loss: 0.0580 - acc: 0.9771Epoch 1/100\n",
      "100/100 [==============================] - 20s 197ms/step - loss: 0.0587 - acc: 0.9770 - val_loss: 0.2456 - val_acc: 0.9390\n",
      "Epoch 37/100\n",
      " 99/100 [============================>.] - ETA: 0s - loss: 0.0575 - acc: 0.9774Epoch 1/100\n",
      "100/100 [==============================] - 20s 203ms/step - loss: 0.0570 - acc: 0.9777 - val_loss: 0.1565 - val_acc: 0.9580\n",
      "Epoch 38/100\n",
      " 99/100 [============================>.] - ETA: 0s - loss: 0.0570 - acc: 0.9761Epoch 1/100\n",
      "100/100 [==============================] - 20s 198ms/step - loss: 0.0564 - acc: 0.9763 - val_loss: 0.1545 - val_acc: 0.9560\n",
      "Epoch 39/100\n",
      " 99/100 [============================>.] - ETA: 0s - loss: 0.0538 - acc: 0.9805Epoch 1/100\n",
      "100/100 [==============================] - 20s 202ms/step - loss: 0.0543 - acc: 0.9803 - val_loss: 0.1844 - val_acc: 0.9510\n",
      "Epoch 40/100\n",
      " 99/100 [============================>.] - ETA: 0s - loss: 0.0464 - acc: 0.9808Epoch 1/100\n",
      "100/100 [==============================] - 20s 195ms/step - loss: 0.0472 - acc: 0.9807 - val_loss: 0.2609 - val_acc: 0.9450\n",
      "Epoch 41/100\n",
      " 99/100 [============================>.] - ETA: 0s - loss: 0.0526 - acc: 0.9791Epoch 1/100\n",
      "100/100 [==============================] - 19s 195ms/step - loss: 0.0525 - acc: 0.9790 - val_loss: 0.1817 - val_acc: 0.9550\n",
      "Epoch 42/100\n",
      " 99/100 [============================>.] - ETA: 0s - loss: 0.0607 - acc: 0.9791Epoch 1/100\n",
      "100/100 [==============================] - 20s 198ms/step - loss: 0.0602 - acc: 0.9793 - val_loss: 0.1378 - val_acc: 0.9630\n",
      "Epoch 43/100\n",
      " 99/100 [============================>.] - ETA: 0s - loss: 0.0548 - acc: 0.9805Epoch 1/100\n",
      "100/100 [==============================] - 20s 199ms/step - loss: 0.0543 - acc: 0.9807 - val_loss: 0.1478 - val_acc: 0.9610\n",
      "Epoch 44/100\n",
      " 99/100 [============================>.] - ETA: 0s - loss: 0.0450 - acc: 0.9848Epoch 1/100\n",
      "100/100 [==============================] - 20s 197ms/step - loss: 0.0448 - acc: 0.9850 - val_loss: 0.1617 - val_acc: 0.9640\n",
      "Epoch 45/100\n",
      " 99/100 [============================>.] - ETA: 0s - loss: 0.0503 - acc: 0.9811Epoch 1/100\n",
      "100/100 [==============================] - 20s 205ms/step - loss: 0.0503 - acc: 0.9810 - val_loss: 0.1705 - val_acc: 0.9620\n",
      "Epoch 46/100\n",
      " 99/100 [============================>.] - ETA: 0s - loss: 0.0443 - acc: 0.9828Epoch 1/100\n",
      "100/100 [==============================] - 21s 206ms/step - loss: 0.0458 - acc: 0.9827 - val_loss: 0.1621 - val_acc: 0.9630\n",
      "Epoch 47/100\n",
      " 99/100 [============================>.] - ETA: 0s - loss: 0.0456 - acc: 0.9832Epoch 1/100\n",
      "100/100 [==============================] - 21s 208ms/step - loss: 0.0451 - acc: 0.9833 - val_loss: 0.1789 - val_acc: 0.9570\n",
      "Epoch 48/100\n",
      " 99/100 [============================>.] - ETA: 0s - loss: 0.0522 - acc: 0.9801Epoch 1/100\n",
      "100/100 [==============================] - 20s 198ms/step - loss: 0.0518 - acc: 0.9803 - val_loss: 0.1831 - val_acc: 0.9570\n",
      "Epoch 49/100\n",
      " 99/100 [============================>.] - ETA: 0s - loss: 0.0465 - acc: 0.9838Epoch 1/100\n",
      "100/100 [==============================] - 20s 197ms/step - loss: 0.0464 - acc: 0.9840 - val_loss: 0.1600 - val_acc: 0.9580\n",
      "Epoch 50/100\n",
      " 99/100 [============================>.] - ETA: 0s - loss: 0.0455 - acc: 0.9825Epoch 1/100\n",
      "100/100 [==============================] - 20s 200ms/step - loss: 0.0452 - acc: 0.9823 - val_loss: 0.1759 - val_acc: 0.9580\n",
      "Epoch 51/100\n",
      " 99/100 [============================>.] - ETA: 0s - loss: 0.0442 - acc: 0.9815Epoch 1/100\n",
      "100/100 [==============================] - 20s 201ms/step - loss: 0.0443 - acc: 0.9813 - val_loss: 0.3367 - val_acc: 0.9400\n",
      "Epoch 52/100\n",
      " 99/100 [============================>.] - ETA: 0s - loss: 0.0347 - acc: 0.9889Epoch 1/100\n",
      "100/100 [==============================] - 21s 205ms/step - loss: 0.0345 - acc: 0.9890 - val_loss: 0.1674 - val_acc: 0.9640\n",
      "Epoch 53/100\n",
      " 99/100 [============================>.] - ETA: 0s - loss: 0.0385 - acc: 0.9886Epoch 1/100\n",
      "100/100 [==============================] - 20s 202ms/step - loss: 0.0384 - acc: 0.9887 - val_loss: 0.1677 - val_acc: 0.9610\n",
      "Epoch 54/100\n",
      " 99/100 [============================>.] - ETA: 0s - loss: 0.0363 - acc: 0.9859Epoch 1/100\n",
      "100/100 [==============================] - 20s 203ms/step - loss: 0.0360 - acc: 0.9860 - val_loss: 0.1763 - val_acc: 0.9580\n",
      "Epoch 55/100\n",
      " 99/100 [============================>.] - ETA: 0s - loss: 0.0420 - acc: 0.9838Epoch 1/100\n",
      "100/100 [==============================] - 20s 204ms/step - loss: 0.0417 - acc: 0.9840 - val_loss: 0.2131 - val_acc: 0.9600\n",
      "Epoch 56/100\n",
      " 99/100 [============================>.] - ETA: 0s - loss: 0.0285 - acc: 0.9899Epoch 1/100\n",
      "100/100 [==============================] - 20s 204ms/step - loss: 0.0282 - acc: 0.9900 - val_loss: 0.2137 - val_acc: 0.9580\n",
      "Epoch 57/100\n",
      " 99/100 [============================>.] - ETA: 0s - loss: 0.0344 - acc: 0.9896Epoch 1/100\n",
      "100/100 [==============================] - 20s 200ms/step - loss: 0.0358 - acc: 0.9893 - val_loss: 0.2032 - val_acc: 0.9540\n",
      "Epoch 58/100\n",
      " 99/100 [============================>.] - ETA: 0s - loss: 0.0410 - acc: 0.9835Epoch 1/100\n",
      "100/100 [==============================] - 20s 199ms/step - loss: 0.0407 - acc: 0.9837 - val_loss: 0.1897 - val_acc: 0.9590\n",
      "Epoch 59/100\n",
      " 99/100 [============================>.] - ETA: 0s - loss: 0.0303 - acc: 0.9902Epoch 1/100\n",
      "100/100 [==============================] - 20s 204ms/step - loss: 0.0305 - acc: 0.9900 - val_loss: 0.2157 - val_acc: 0.9590\n",
      "Epoch 60/100\n",
      " 99/100 [============================>.] - ETA: 0s - loss: 0.0303 - acc: 0.9902Epoch 1/100\n",
      "100/100 [==============================] - 20s 202ms/step - loss: 0.0300 - acc: 0.9903 - val_loss: 0.2228 - val_acc: 0.9560\n",
      "Epoch 61/100\n",
      " 99/100 [============================>.] - ETA: 0s - loss: 0.0413 - acc: 0.9886Epoch 1/100\n",
      "100/100 [==============================] - 20s 198ms/step - loss: 0.0409 - acc: 0.9887 - val_loss: 0.2003 - val_acc: 0.9630\n",
      "Epoch 62/100\n",
      " 99/100 [============================>.] - ETA: 0s - loss: 0.0420 - acc: 0.9862Epoch 1/100\n",
      "100/100 [==============================] - 20s 202ms/step - loss: 0.0416 - acc: 0.9863 - val_loss: 0.2589 - val_acc: 0.9550\n",
      "Epoch 63/100\n",
      " 99/100 [============================>.] - ETA: 0s - loss: 0.0343 - acc: 0.9892Epoch 1/100\n",
      "100/100 [==============================] - 20s 197ms/step - loss: 0.0340 - acc: 0.9893 - val_loss: 0.2310 - val_acc: 0.9610\n",
      "Epoch 64/100\n",
      " 99/100 [============================>.] - ETA: 0s - loss: 0.0344 - acc: 0.9869Epoch 1/100\n",
      "100/100 [==============================] - 20s 202ms/step - loss: 0.0341 - acc: 0.9870 - val_loss: 0.2155 - val_acc: 0.9570\n",
      "Epoch 65/100\n",
      " 99/100 [============================>.] - ETA: 0s - loss: 0.0326 - acc: 0.9899Epoch 1/100\n",
      "100/100 [==============================] - 20s 202ms/step - loss: 0.0322 - acc: 0.9900 - val_loss: 0.2309 - val_acc: 0.9560\n",
      "Epoch 66/100\n",
      " 99/100 [============================>.] - ETA: 0s - loss: 0.0241 - acc: 0.9909Epoch 1/100\n",
      "100/100 [==============================] - 20s 203ms/step - loss: 0.0238 - acc: 0.9910 - val_loss: 0.2225 - val_acc: 0.9610\n",
      "Epoch 67/100\n",
      " 99/100 [============================>.] - ETA: 0s - loss: 0.0379 - acc: 0.9879Epoch 1/100\n",
      "100/100 [==============================] - 20s 197ms/step - loss: 0.0376 - acc: 0.9880 - val_loss: 0.1781 - val_acc: 0.9600\n",
      "Epoch 68/100\n",
      " 99/100 [============================>.] - ETA: 0s - loss: 0.0262 - acc: 0.9912Epoch 1/100\n",
      "100/100 [==============================] - 20s 203ms/step - loss: 0.0260 - acc: 0.9913 - val_loss: 0.3194 - val_acc: 0.9540\n",
      "Epoch 69/100\n",
      " 99/100 [============================>.] - ETA: 0s - loss: 0.0366 - acc: 0.9879Epoch 1/100\n",
      "100/100 [==============================] - 20s 199ms/step - loss: 0.0363 - acc: 0.9880 - val_loss: 0.3335 - val_acc: 0.9500\n",
      "Epoch 70/100\n",
      " 99/100 [============================>.] - ETA: 0s - loss: 0.0304 - acc: 0.9906Epoch 1/100\n",
      "100/100 [==============================] - 20s 202ms/step - loss: 0.0302 - acc: 0.9907 - val_loss: 0.2004 - val_acc: 0.9610\n",
      "Epoch 71/100\n",
      " 99/100 [============================>.] - ETA: 0s - loss: 0.0379 - acc: 0.9882Epoch 1/100\n",
      "100/100 [==============================] - 20s 202ms/step - loss: 0.0384 - acc: 0.9880 - val_loss: 0.1919 - val_acc: 0.9630\n",
      "Epoch 72/100\n",
      " 99/100 [============================>.] - ETA: 0s - loss: 0.0336 - acc: 0.9902Epoch 1/100\n",
      "100/100 [==============================] - 20s 201ms/step - loss: 0.0344 - acc: 0.9900 - val_loss: 0.2913 - val_acc: 0.9520\n",
      "Epoch 73/100\n",
      " 99/100 [============================>.] - ETA: 0s - loss: 0.0278 - acc: 0.9896Epoch 1/100\n",
      "100/100 [==============================] - 20s 204ms/step - loss: 0.0276 - acc: 0.9897 - val_loss: 0.2604 - val_acc: 0.9570\n",
      "Epoch 74/100\n",
      " 99/100 [============================>.] - ETA: 0s - loss: 0.0277 - acc: 0.9909Epoch 1/100\n",
      "100/100 [==============================] - 20s 200ms/step - loss: 0.0282 - acc: 0.9907 - val_loss: 0.3197 - val_acc: 0.9520\n",
      "Epoch 75/100\n",
      " 99/100 [============================>.] - ETA: 0s - loss: 0.0225 - acc: 0.9926Epoch 1/100\n",
      "100/100 [==============================] - 20s 202ms/step - loss: 0.0223 - acc: 0.9927 - val_loss: 0.2137 - val_acc: 0.9650\n",
      "Epoch 76/100\n",
      " 99/100 [============================>.] - ETA: 0s - loss: 0.0221 - acc: 0.9926Epoch 1/100\n",
      "100/100 [==============================] - 20s 204ms/step - loss: 0.0219 - acc: 0.9927 - val_loss: 0.2336 - val_acc: 0.9590\n",
      "Epoch 77/100\n",
      " 99/100 [============================>.] - ETA: 0s - loss: 0.0342 - acc: 0.9886Epoch 1/100\n",
      "100/100 [==============================] - 20s 197ms/step - loss: 0.0339 - acc: 0.9887 - val_loss: 0.1828 - val_acc: 0.9580\n",
      "Epoch 78/100\n",
      " 99/100 [============================>.] - ETA: 0s - loss: 0.0289 - acc: 0.9926Epoch 1/100\n",
      "100/100 [==============================] - 20s 198ms/step - loss: 0.0307 - acc: 0.9923 - val_loss: 0.2860 - val_acc: 0.9480\n",
      "Epoch 79/100\n",
      " 99/100 [============================>.] - ETA: 0s - loss: 0.0289 - acc: 0.9889Epoch 1/100\n",
      "100/100 [==============================] - 20s 202ms/step - loss: 0.0286 - acc: 0.9890 - val_loss: 0.2874 - val_acc: 0.9590\n",
      "Epoch 80/100\n",
      " 99/100 [============================>.] - ETA: 0s - loss: 0.0271 - acc: 0.9909Epoch 1/100\n",
      "100/100 [==============================] - 20s 201ms/step - loss: 0.0272 - acc: 0.9907 - val_loss: 0.4621 - val_acc: 0.9390\n",
      "Epoch 81/100\n",
      " 99/100 [============================>.] - ETA: 0s - loss: 0.0203 - acc: 0.9943Epoch 1/100\n",
      "100/100 [==============================] - 20s 202ms/step - loss: 0.0225 - acc: 0.9937 - val_loss: 0.6631 - val_acc: 0.9270\n",
      "Epoch 82/100\n",
      " 99/100 [============================>.] - ETA: 0s - loss: 0.0305 - acc: 0.9916Epoch 1/100\n",
      "100/100 [==============================] - 20s 201ms/step - loss: 0.0302 - acc: 0.9917 - val_loss: 0.2121 - val_acc: 0.9650\n",
      "Epoch 83/100\n",
      " 99/100 [============================>.] - ETA: 0s - loss: 0.0225 - acc: 0.9919Epoch 1/100\n",
      "100/100 [==============================] - 20s 204ms/step - loss: 0.0223 - acc: 0.9920 - val_loss: 0.6617 - val_acc: 0.9260\n",
      "Epoch 84/100\n",
      " 99/100 [============================>.] - ETA: 0s - loss: 0.0268 - acc: 0.9929Epoch 1/100\n",
      "100/100 [==============================] - 20s 199ms/step - loss: 0.0265 - acc: 0.9930 - val_loss: 0.2012 - val_acc: 0.9650\n",
      "Epoch 85/100\n",
      " 99/100 [============================>.] - ETA: 0s - loss: 0.0271 - acc: 0.9912Epoch 1/100\n",
      "100/100 [==============================] - 20s 199ms/step - loss: 0.0269 - acc: 0.9913 - val_loss: 0.2617 - val_acc: 0.9550\n",
      "Epoch 86/100\n",
      " 99/100 [============================>.] - ETA: 0s - loss: 0.0266 - acc: 0.9899Epoch 1/100\n",
      "100/100 [==============================] - 20s 202ms/step - loss: 0.0263 - acc: 0.9900 - val_loss: 0.2238 - val_acc: 0.9650\n",
      "Epoch 87/100\n",
      " 99/100 [============================>.] - ETA: 0s - loss: 0.0346 - acc: 0.9889Epoch 1/100\n",
      "100/100 [==============================] - 20s 199ms/step - loss: 0.0353 - acc: 0.9887 - val_loss: 0.2012 - val_acc: 0.9610\n",
      "Epoch 88/100\n",
      " 99/100 [============================>.] - ETA: 0s - loss: 0.0306 - acc: 0.9902Epoch 1/100\n",
      "100/100 [==============================] - 20s 202ms/step - loss: 0.0310 - acc: 0.9900 - val_loss: 0.2179 - val_acc: 0.9650\n",
      "Epoch 89/100\n",
      " 99/100 [============================>.] - ETA: 0s - loss: 0.0231 - acc: 0.9936Epoch 1/100\n",
      "100/100 [==============================] - 20s 203ms/step - loss: 0.0228 - acc: 0.9937 - val_loss: 0.2503 - val_acc: 0.9590\n",
      "Epoch 90/100\n",
      " 99/100 [============================>.] - ETA: 0s - loss: 0.0294 - acc: 0.9916Epoch 1/100\n",
      "100/100 [==============================] - 20s 203ms/step - loss: 0.0292 - acc: 0.9917 - val_loss: 0.2457 - val_acc: 0.9670\n",
      "Epoch 91/100\n",
      " 99/100 [============================>.] - ETA: 0s - loss: 0.0245 - acc: 0.9923Epoch 1/100\n",
      "100/100 [==============================] - 20s 203ms/step - loss: 0.0242 - acc: 0.9923 - val_loss: 0.2974 - val_acc: 0.9580\n",
      "Epoch 92/100\n",
      " 99/100 [============================>.] - ETA: 0s - loss: 0.0140 - acc: 0.9949Epoch 1/100\n",
      "100/100 [==============================] - 20s 202ms/step - loss: 0.0139 - acc: 0.9950 - val_loss: 0.3222 - val_acc: 0.9600\n",
      "Epoch 93/100\n",
      " 99/100 [============================>.] - ETA: 0s - loss: 0.0245 - acc: 0.9909Epoch 1/100\n",
      "100/100 [==============================] - 20s 203ms/step - loss: 0.0245 - acc: 0.9910 - val_loss: 0.2903 - val_acc: 0.9580\n",
      "Epoch 94/100\n",
      " 99/100 [============================>.] - ETA: 0s - loss: 0.0271 - acc: 0.9936Epoch 1/100\n",
      "100/100 [==============================] - 20s 202ms/step - loss: 0.0268 - acc: 0.9937 - val_loss: 0.2747 - val_acc: 0.9560\n",
      "Epoch 95/100\n",
      " 99/100 [============================>.] - ETA: 0s - loss: 0.0278 - acc: 0.9919Epoch 1/100\n",
      "100/100 [==============================] - 20s 202ms/step - loss: 0.0281 - acc: 0.9917 - val_loss: 0.5227 - val_acc: 0.9350\n",
      "Epoch 96/100\n",
      " 99/100 [============================>.] - ETA: 0s - loss: 0.0224 - acc: 0.9926Epoch 1/100\n",
      "100/100 [==============================] - 20s 201ms/step - loss: 0.0223 - acc: 0.9927 - val_loss: 0.2611 - val_acc: 0.9610\n",
      "Epoch 97/100\n",
      " 99/100 [============================>.] - ETA: 0s - loss: 0.0245 - acc: 0.9909Epoch 1/100\n",
      "100/100 [==============================] - 20s 203ms/step - loss: 0.0243 - acc: 0.9910 - val_loss: 0.2430 - val_acc: 0.9570\n",
      "Epoch 98/100\n",
      " 99/100 [============================>.] - ETA: 0s - loss: 0.0282 - acc: 0.9909Epoch 1/100\n",
      "100/100 [==============================] - 20s 201ms/step - loss: 0.0279 - acc: 0.9910 - val_loss: 0.2150 - val_acc: 0.9590\n",
      "Epoch 99/100\n",
      " 99/100 [============================>.] - ETA: 0s - loss: 0.0260 - acc: 0.9933Epoch 1/100\n",
      "100/100 [==============================] - 21s 205ms/step - loss: 0.0261 - acc: 0.9930 - val_loss: 0.3885 - val_acc: 0.9520\n",
      "Epoch 100/100\n",
      " 99/100 [============================>.] - ETA: 0s - loss: 0.0231 - acc: 0.9943Epoch 1/100\n",
      "100/100 [==============================] - 20s 199ms/step - loss: 0.0230 - acc: 0.9943 - val_loss: 0.2851 - val_acc: 0.9600\n"
     ]
    }
   ],
   "source": [
    "# colab: 45분 정도 소요됨\n",
    "history = model.________(_______, steps_per_epoch=100, epochs=100,\n",
    "                              validation_data=_________, validation_steps=50, verbose=1)"
   ]
  },
  {
   "cell_type": "code",
   "execution_count": 25,
   "metadata": {
    "colab": {
     "base_uri": "https://localhost:8080/",
     "height": 308
    },
    "colab_type": "code",
    "executionInfo": {
     "elapsed": 1886,
     "status": "ok",
     "timestamp": 1579588026299,
     "user": {
      "displayName": "Soohyun Kim",
      "photoUrl": "",
      "userId": "04717435945000606452"
     },
     "user_tz": -540
    },
    "id": "oWrQt5UiaEWu",
    "outputId": "5e22e479-694f-42a2-e0e5-0c2394fcdf70"
   },
   "outputs": [
    {
     "data": {
      "image/png": "[encoded data removed]",
      "text/plain": [
       "<Figure size 864x288 with 2 Axes>"
      ]
     },
     "metadata": {
      "tags": []
     },
     "output_type": "display_data"
    }
   ],
   "source": [
    "f, (ax1, ax2) = plt.subplots(1, 2, figsize=(12, 4))\n",
    "t = f.suptitle('Pre-trained CNN (Transfer Learning) with Fine-Tuning & Image Augmentation Performance', fontsize=12)\n",
    "f.subplots_adjust(top=0.85, wspace=0.3)\n",
    "\n",
    "epoch_list = list(range(1,101))\n",
    "ax1.plot(epoch_list, history.history['acc'], label='Train Accuracy')\n",
    "ax1.plot(epoch_list, history.history['val_acc'], label='Validation Accuracy')\n",
    "ax1.set_xticks(np.arange(0, 101, 10))\n",
    "ax1.set_ylabel('Accuracy Value')\n",
    "ax1.set_xlabel('Epoch')\n",
    "ax1.set_title('Accuracy')\n",
    "l1 = ax1.legend(loc=\"best\")\n",
    "\n",
    "ax2.plot(epoch_list, history.history['loss'], label='Train Loss')\n",
    "ax2.plot(epoch_list, history.history['val_loss'], label='Validation Loss')\n",
    "ax2.set_xticks(np.arange(0, 101, 10))\n",
    "ax2.set_ylabel('Loss Value')\n",
    "ax2.set_xlabel('Epoch')\n",
    "ax2.set_title('Loss')\n",
    "l2 = ax2.legend(loc=\"best\")"
   ]
  },
  {
   "cell_type": "code",
   "execution_count": 0,
   "metadata": {
    "colab": {},
    "colab_type": "code",
    "id": "lcwTJg45aEW1"
   },
   "outputs": [],
   "source": [
    "model.save('cats_dogs_tlearn_finetune_img_aug_cnn.h5')"
   ]
  }
 ],
 "metadata": {
  "accelerator": "GPU",
  "colab": {
   "collapsed_sections": [],
   "name": "5-2.CNN_FineTuning-2-colab.ipynb",
   "provenance": []
  },
  "kernelspec": {
   "display_name": "Python 3",
   "language": "python",
   "name": "python3"
  },
  "language_info": {
   "codemirror_mode": {
    "name": "ipython",
    "version": 3
   },
   "file_extension": ".py",
   "mimetype": "text/x-python",
   "name": "python",
   "nbconvert_exporter": "python",
   "pygments_lexer": "ipython3",
   "version": "3.6.10"
  }
 },
 "nbformat": 4,
 "nbformat_minor": 1
}
