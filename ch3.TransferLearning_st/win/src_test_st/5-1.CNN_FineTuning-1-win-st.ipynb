{
 "cells": [
  {
   "cell_type": "markdown",
   "metadata": {
    "colab_type": "text",
    "id": "IDb0Y4fG0aUh"
   },
   "source": [
    "## 사전 훈련된 컨브넷 사용하기\n",
    "* 작은 이미지 데이터셋에 딥러닝을 적용하는 일반적이고 매우 효과적인 방법은 사전 훈련된 네트워크를 사용하는 것입니다. \n",
    "* 원본 데이터셋이 충분히 크고 일반적이라면 사전 훈련된 네트워크에 의해 학습된 특성의 계층 구조는 실제 세상에 대한 일반적인 모델로 효율적인 역할을 할 수 있습니다. \n",
    "* 새로운 문제가 원래 작업과 완전히 다른 클래스에 대한 것이더라도 이런 특성은 많은 컴퓨터 비전 문제에 유용합니다. \n",
    "* 학습된 특성을 다른 문제에 적용할 수 있는 이런 유연성은 이전의 많은 얕은 학습 방법과 비교했을 때 딥러닝의 핵심 장점입니다. 이런 방식으로 작은 데이터셋을 가진 문제에도 딥러닝이 효율적으로 작동할 수 있습니다.\n",
    "* 여기에서는 (1.4백만 개의 레이블된 이미지와 1,000개의 클래스로 이루어진) ImageNet 데이터셋에서 훈련된 대규모 컨브넷을 사용해 보겠습니다. ImageNet 데이터셋은 다양한 종의 강아지와 고양이를 포함해 많은 동물들을 포함하고 있습니다. 그래서 강아지 vs. 고양이 분류 문제에 좋은 성능을 낼 것 같습니다.\n",
    "* 캐런 시몬연과 앤드류 지서먼이 2014년에 개발한 VGG16 구조를 사용하겠습니다. VGG16은 간단하고 ImageNet 데이터셋에 널리 사용되는 컨브넷 구조입니다. VGG16은 조금 오래되었고 최고 수준의 성능에는 못미치며 최근의 다른 모델보다는 조금 무겁습니다. \n",
    "* VGG, ResNet, Inception, Inception-ResNet, Xception 등을 적용 할 수 있습니다."
   ]
  },
  {
   "cell_type": "markdown",
   "metadata": {
    "colab_type": "text",
    "id": "6aCQJj-K0aUm"
   },
   "source": [
    "### 사전 훈련된 네트워크를 사용하는 두 가지 방법\n",
    "* 특성 추출 : 특성 추출기로 사전 훈련된 모델 이용\n",
    "* **미세 조정 (Fine Tuning)** : 사전훈련된 모델의 미세 튜닝"
   ]
  },
  {
   "cell_type": "markdown",
   "metadata": {
    "colab_type": "text",
    "id": "aJSBPT2z0aVO"
   },
   "source": [
    "## 미세 조정 (Fine Tuning)\n",
    "* 모델을 재사용하는 데 널리 사용되는 또 하나의 기법은 특성 추출을 보완하는 미세 조정입니다. 미세 조정은 특성 추출에 사용했던 동결 모델의 상위 층 몇 개를 동결에서 해제하고 모델에 새로 추가한 층(여기서는 완전 연결 분류기)과 함께 훈련하는 것입니다. 주어진 문제에 조금 더 밀접하게 재사용 모델의 표현을 일부 조정하기 때문에 미세 조정이라고 부릅니다."
   ]
  },
  {
   "cell_type": "markdown",
   "metadata": {
    "colab_type": "text",
    "id": "H0jgNcNG0aVQ"
   },
   "source": [
    "앞서 랜덤하게 초기화된 상단 분류기를 훈련하기 위해 VGG16의 합성곱 기반층을 동결해야 한다고 말했습니다. 같은 이유로 맨 위에 있는 분류기가 훈련된 후에 합성곱 기반의 상위 층을 미세 조정할 수 있습니다. 분류기가 미리 훈련되지 않으면 훈련되는 동안 너무 큰 오차 신호가 네트워크에 전파됩니다. 이는 미세 조정될 층들이 사전에 학습한 표현들을 망가뜨리게 될 것입니다. 네트워크를 미세 조정하는 단계는 다음과 같습니다:\n",
    "\n",
    "1. 사전에 훈련된 기반 네트워크 위에 새로운 네트워크를 추가합니다.\n",
    "2. 기반 네트워크를 동결합니다.\n",
    "3. 새로 추가한 네트워크를 훈련합니다.\n",
    "4. 기반 네트워크에서 일부 층의 동결을 해제합니다.\n",
    "5. 동결을 해제한 층과 새로 추가한 층을 함께 훈련합니다."
   ]
  },
  {
   "cell_type": "markdown",
   "metadata": {
    "colab_type": "text",
    "id": "r-lKdNaF0aVV"
   },
   "source": [
    "## 데이터 준비"
   ]
  },
  {
   "cell_type": "code",
   "execution_count": 0,
   "metadata": {
    "colab": {},
    "colab_type": "code",
    "id": "3KW3NfHj0aVh"
   },
   "outputs": [],
   "source": [
    "%matplotlib inline\n",
    "\n",
    "test = 1"
   ]
  },
  {
   "cell_type": "code",
   "execution_count": 0,
   "metadata": {
    "colab": {},
    "colab_type": "code",
    "id": "jtt927cq0aVp"
   },
   "outputs": [],
   "source": [
    "import glob\n",
    "import numpy as np\n",
    "import matplotlib.pyplot as plt\n",
    "from tensorflow.keras.preprocessing.image import ImageDataGenerator, load_img, img_to_array, array_to_img"
   ]
  },
  {
   "cell_type": "code",
   "execution_count": 0,
   "metadata": {
    "colab": {
     "base_uri": "https://localhost:8080/",
     "height": 36
    },
    "colab_type": "code",
    "executionInfo": {
     "elapsed": 17274,
     "status": "ok",
     "timestamp": 1579591714456,
     "user": {
      "displayName": "Soohyun Kim",
      "photoUrl": "",
      "userId": "04717435945000606452"
     },
     "user_tz": -540
    },
    "id": "8ow8PxmX0aVv",
    "outputId": "cdb29dec-38fc-4acc-a408-f5db1d4dde2e"
   },
   "outputs": [
    {
     "name": "stdout",
     "output_type": "stream",
     "text": [
      "Train dataset shape: (3000, 150, 150, 3) \tValidation dataset shape: (1000, 150, 150, 3)\n"
     ]
    }
   ],
   "source": [
    "IMG_DIM = (150, 150)\n",
    "\n",
    "train_files = glob.glob('training_data/*')\n",
    "train_imgs = [img_to_array(load_img(img, target_size=IMG_DIM)) for img in train_files]\n",
    "train_imgs = np.array(train_imgs)\n",
    "# train_labels = [fn.split('/')[1].split('.')[0].strip() for fn in train_files] # for linux\n",
    "train_labels = [fn.split('\\\\')[1].split('.')[0].strip() for fn in train_files] # for windows\n",
    "\n",
    "validation_files = glob.glob('validation_data/*')\n",
    "validation_imgs = [img_to_array(load_img(img, target_size=IMG_DIM)) for img in validation_files]\n",
    "validation_imgs = np.array(validation_imgs)\n",
    "# validation_labels = [fn.split('/')[1].split('.')[0].strip() for fn in validation_files] # for linux\n",
    "validation_labels = [fn.split('\\\\')[1].split('.')[0].strip() for fn in validation_files] # for windows\n",
    "\n",
    "print('Train dataset shape:', train_imgs.shape, \n",
    "      '\\tValidation dataset shape:', validation_imgs.shape)"
   ]
  },
  {
   "cell_type": "code",
   "execution_count": 0,
   "metadata": {
    "colab": {},
    "colab_type": "code",
    "id": "3L5kPIU90aWk"
   },
   "outputs": [],
   "source": [
    "train_imgs_scaled = train_imgs.astype('float32')\n",
    "validation_imgs_scaled = validation_imgs.astype('float32')\n",
    "train_imgs_scaled /= 255\n",
    "validation_imgs_scaled /= 255"
   ]
  },
  {
   "cell_type": "code",
   "execution_count": 0,
   "metadata": {
    "colab": {
     "base_uri": "https://localhost:8080/",
     "height": 36
    },
    "colab_type": "code",
    "executionInfo": {
     "elapsed": 3027,
     "status": "ok",
     "timestamp": 1579591714768,
     "user": {
      "displayName": "Soohyun Kim",
      "photoUrl": "",
      "userId": "04717435945000606452"
     },
     "user_tz": -540
    },
    "id": "4IJQ0h7f0aWq",
    "outputId": "86b6095a-5113-4159-f92a-f54858aa5dd8"
   },
   "outputs": [
    {
     "name": "stdout",
     "output_type": "stream",
     "text": [
      "['dog', 'dog', 'dog', 'dog', 'dog'] [1 1 1 1 1]\n"
     ]
    }
   ],
   "source": [
    "batch_size = 30\n",
    "num_classes = 2\n",
    "epochs = 30\n",
    "input_shape = (150, 150, 3)\n",
    "\n",
    "from sklearn.preprocessing import LabelEncoder\n",
    "\n",
    "le = LabelEncoder()\n",
    "le.fit(train_labels)\n",
    "# encode wine type labels\n",
    "train_labels_enc = le.transform(train_labels)\n",
    "validation_labels_enc = le.transform(validation_labels)\n",
    "\n",
    "print(train_labels[0:5], train_labels_enc[0:5])"
   ]
  },
  {
   "cell_type": "markdown",
   "metadata": {
    "colab_type": "text",
    "id": "BA4pLkjS0aWx"
   },
   "source": [
    "## Fine Tuning 1,2,3 단계 실행"
   ]
  },
  {
   "cell_type": "code",
   "execution_count": 0,
   "metadata": {
    "colab": {
     "base_uri": "https://localhost:8080/",
     "height": 908
    },
    "colab_type": "code",
    "executionInfo": {
     "elapsed": 1233,
     "status": "ok",
     "timestamp": 1579591718440,
     "user": {
      "displayName": "Soohyun Kim",
      "photoUrl": "",
      "userId": "04717435945000606452"
     },
     "user_tz": -540
    },
    "id": "Rr23YIGc0aWz",
    "outputId": "d3de7deb-63f1-4e13-e663-3ed104452d03"
   },
   "outputs": [
    {
     "name": "stdout",
     "output_type": "stream",
     "text": [
      "Model: \"model_1\"\n",
      "_________________________________________________________________\n",
      "Layer (type)                 Output Shape              Param #   \n",
      "=================================================================\n",
      "input_3 (InputLayer)         [(None, 150, 150, 3)]     0         \n",
      "_________________________________________________________________\n",
      "block1_conv1 (Conv2D)        (None, 150, 150, 64)      1792      \n",
      "_________________________________________________________________\n",
      "block1_conv2 (Conv2D)        (None, 150, 150, 64)      36928     \n",
      "_________________________________________________________________\n",
      "block1_pool (MaxPooling2D)   (None, 75, 75, 64)        0         \n",
      "_________________________________________________________________\n",
      "block2_conv1 (Conv2D)        (None, 75, 75, 128)       73856     \n",
      "_________________________________________________________________\n",
      "block2_conv2 (Conv2D)        (None, 75, 75, 128)       147584    \n",
      "_________________________________________________________________\n",
      "block2_pool (MaxPooling2D)   (None, 37, 37, 128)       0         \n",
      "_________________________________________________________________\n",
      "block3_conv1 (Conv2D)        (None, 37, 37, 256)       295168    \n",
      "_________________________________________________________________\n",
      "block3_conv2 (Conv2D)        (None, 37, 37, 256)       590080    \n",
      "_________________________________________________________________\n",
      "block3_conv3 (Conv2D)        (None, 37, 37, 256)       590080    \n",
      "_________________________________________________________________\n",
      "block3_pool (MaxPooling2D)   (None, 18, 18, 256)       0         \n",
      "_________________________________________________________________\n",
      "block4_conv1 (Conv2D)        (None, 18, 18, 512)       1180160   \n",
      "_________________________________________________________________\n",
      "block4_conv2 (Conv2D)        (None, 18, 18, 512)       2359808   \n",
      "_________________________________________________________________\n",
      "block4_conv3 (Conv2D)        (None, 18, 18, 512)       2359808   \n",
      "_________________________________________________________________\n",
      "block4_pool (MaxPooling2D)   (None, 9, 9, 512)         0         \n",
      "_________________________________________________________________\n",
      "block5_conv1 (Conv2D)        (None, 9, 9, 512)         2359808   \n",
      "_________________________________________________________________\n",
      "block5_conv2 (Conv2D)        (None, 9, 9, 512)         2359808   \n",
      "_________________________________________________________________\n",
      "block5_conv3 (Conv2D)        (None, 9, 9, 512)         2359808   \n",
      "_________________________________________________________________\n",
      "block5_pool (MaxPooling2D)   (None, 4, 4, 512)         0         \n",
      "_________________________________________________________________\n",
      "flatten_1 (Flatten)          (None, 8192)              0         \n",
      "=================================================================\n",
      "Total params: 14,714,688\n",
      "Trainable params: 0\n",
      "Non-trainable params: 14,714,688\n",
      "_________________________________________________________________\n"
     ]
    }
   ],
   "source": [
    "from tensorflow.keras.applications import vgg16\n",
    "from tensorflow.keras.models import Model\n",
    "import tensorflow.keras\n",
    "\n",
    "vgg = vgg16.VGG16(include_top=False, weights='imagenet', \n",
    "                                     input_shape=input_shape)\n",
    "\n",
    "output = vgg.layers[-1].output\n",
    "output = tensorflow.keras.layers.Flatten()(output)\n",
    "\n",
    "vgg_model = Model(vgg.input, output)\n",
    "vgg_model.trainable = False\n",
    "\n",
    "for layer in vgg_model.layers:\n",
    "    layer.trainable = False\n",
    "\n",
    "vgg_model.summary()"
   ]
  },
  {
   "cell_type": "code",
   "execution_count": 0,
   "metadata": {
    "colab": {
     "base_uri": "https://localhost:8080/",
     "height": 649
    },
    "colab_type": "code",
    "executionInfo": {
     "elapsed": 799,
     "status": "ok",
     "timestamp": 1579591720332,
     "user": {
      "displayName": "Soohyun Kim",
      "photoUrl": "",
      "userId": "04717435945000606452"
     },
     "user_tz": -540
    },
    "id": "RZmThlyc0aW7",
    "outputId": "790058ea-49e3-4699-8083-01c588318b7b"
   },
   "outputs": [
    {
     "data": {
      "text/html": [
       "<div>\n",
       "<style scoped>\n",
       "    .dataframe tbody tr th:only-of-type {\n",
       "        vertical-align: middle;\n",
       "    }\n",
       "\n",
       "    .dataframe tbody tr th {\n",
       "        vertical-align: top;\n",
       "    }\n",
       "\n",
       "    .dataframe thead th {\n",
       "        text-align: right;\n",
       "    }\n",
       "</style>\n",
       "<table border=\"1\" class=\"dataframe\">\n",
       "  <thead>\n",
       "    <tr style=\"text-align: right;\">\n",
       "      <th></th>\n",
       "      <th>Layer Type</th>\n",
       "      <th>Layer Name</th>\n",
       "      <th>Layer Trainable</th>\n",
       "    </tr>\n",
       "  </thead>\n",
       "  <tbody>\n",
       "    <tr>\n",
       "      <th>0</th>\n",
       "      <td>&lt;tensorflow.python.keras.engine.input_layer.InputLayer object at 0x7f87527746d8&gt;</td>\n",
       "      <td>input_3</td>\n",
       "      <td>False</td>\n",
       "    </tr>\n",
       "    <tr>\n",
       "      <th>1</th>\n",
       "      <td>&lt;tensorflow.python.keras.layers.convolutional.Conv2D object at 0x7f87527743c8&gt;</td>\n",
       "      <td>block1_conv1</td>\n",
       "      <td>False</td>\n",
       "    </tr>\n",
       "    <tr>\n",
       "      <th>2</th>\n",
       "      <td>&lt;tensorflow.python.keras.layers.convolutional.Conv2D object at 0x7f87b969b9e8&gt;</td>\n",
       "      <td>block1_conv2</td>\n",
       "      <td>False</td>\n",
       "    </tr>\n",
       "    <tr>\n",
       "      <th>3</th>\n",
       "      <td>&lt;tensorflow.python.keras.layers.pooling.MaxPooling2D object at 0x7f87525e4828&gt;</td>\n",
       "      <td>block1_pool</td>\n",
       "      <td>False</td>\n",
       "    </tr>\n",
       "    <tr>\n",
       "      <th>4</th>\n",
       "      <td>&lt;tensorflow.python.keras.layers.convolutional.Conv2D object at 0x7f87525e4860&gt;</td>\n",
       "      <td>block2_conv1</td>\n",
       "      <td>False</td>\n",
       "    </tr>\n",
       "    <tr>\n",
       "      <th>5</th>\n",
       "      <td>&lt;tensorflow.python.keras.layers.convolutional.Conv2D object at 0x7f87525ec3c8&gt;</td>\n",
       "      <td>block2_conv2</td>\n",
       "      <td>False</td>\n",
       "    </tr>\n",
       "    <tr>\n",
       "      <th>6</th>\n",
       "      <td>&lt;tensorflow.python.keras.layers.pooling.MaxPooling2D object at 0x7f87525f7a20&gt;</td>\n",
       "      <td>block2_pool</td>\n",
       "      <td>False</td>\n",
       "    </tr>\n",
       "    <tr>\n",
       "      <th>7</th>\n",
       "      <td>&lt;tensorflow.python.keras.layers.convolutional.Conv2D object at 0x7f87b96a0e80&gt;</td>\n",
       "      <td>block3_conv1</td>\n",
       "      <td>False</td>\n",
       "    </tr>\n",
       "    <tr>\n",
       "      <th>8</th>\n",
       "      <td>&lt;tensorflow.python.keras.layers.convolutional.Conv2D object at 0x7f87b96a75c0&gt;</td>\n",
       "      <td>block3_conv2</td>\n",
       "      <td>False</td>\n",
       "    </tr>\n",
       "    <tr>\n",
       "      <th>9</th>\n",
       "      <td>&lt;tensorflow.python.keras.layers.convolutional.Conv2D object at 0x7f87b9684be0&gt;</td>\n",
       "      <td>block3_conv3</td>\n",
       "      <td>False</td>\n",
       "    </tr>\n",
       "    <tr>\n",
       "      <th>10</th>\n",
       "      <td>&lt;tensorflow.python.keras.layers.pooling.MaxPooling2D object at 0x7f87b96942b0&gt;</td>\n",
       "      <td>block3_pool</td>\n",
       "      <td>False</td>\n",
       "    </tr>\n",
       "    <tr>\n",
       "      <th>11</th>\n",
       "      <td>&lt;tensorflow.python.keras.layers.convolutional.Conv2D object at 0x7f87b96942e8&gt;</td>\n",
       "      <td>block4_conv1</td>\n",
       "      <td>False</td>\n",
       "    </tr>\n",
       "    <tr>\n",
       "      <th>12</th>\n",
       "      <td>&lt;tensorflow.python.keras.layers.convolutional.Conv2D object at 0x7f87b9700e10&gt;</td>\n",
       "      <td>block4_conv2</td>\n",
       "      <td>False</td>\n",
       "    </tr>\n",
       "    <tr>\n",
       "      <th>13</th>\n",
       "      <td>&lt;tensorflow.python.keras.layers.convolutional.Conv2D object at 0x7f87b97064a8&gt;</td>\n",
       "      <td>block4_conv3</td>\n",
       "      <td>False</td>\n",
       "    </tr>\n",
       "    <tr>\n",
       "      <th>14</th>\n",
       "      <td>&lt;tensorflow.python.keras.layers.pooling.MaxPooling2D object at 0x7f87b9720b00&gt;</td>\n",
       "      <td>block4_pool</td>\n",
       "      <td>False</td>\n",
       "    </tr>\n",
       "    <tr>\n",
       "      <th>15</th>\n",
       "      <td>&lt;tensorflow.python.keras.layers.convolutional.Conv2D object at 0x7f87b972cf60&gt;</td>\n",
       "      <td>block5_conv1</td>\n",
       "      <td>False</td>\n",
       "    </tr>\n",
       "    <tr>\n",
       "      <th>16</th>\n",
       "      <td>&lt;tensorflow.python.keras.layers.convolutional.Conv2D object at 0x7f87b97326a0&gt;</td>\n",
       "      <td>block5_conv2</td>\n",
       "      <td>False</td>\n",
       "    </tr>\n",
       "    <tr>\n",
       "      <th>17</th>\n",
       "      <td>&lt;tensorflow.python.keras.layers.convolutional.Conv2D object at 0x7f8752589cf8&gt;</td>\n",
       "      <td>block5_conv3</td>\n",
       "      <td>False</td>\n",
       "    </tr>\n",
       "    <tr>\n",
       "      <th>18</th>\n",
       "      <td>&lt;tensorflow.python.keras.layers.pooling.MaxPooling2D object at 0x7f875259c390&gt;</td>\n",
       "      <td>block5_pool</td>\n",
       "      <td>False</td>\n",
       "    </tr>\n",
       "    <tr>\n",
       "      <th>19</th>\n",
       "      <td>&lt;tensorflow.python.keras.layers.core.Flatten object at 0x7f87525a1940&gt;</td>\n",
       "      <td>flatten_1</td>\n",
       "      <td>False</td>\n",
       "    </tr>\n",
       "  </tbody>\n",
       "</table>\n",
       "</div>"
      ],
      "text/plain": [
       "                                                                          Layer Type  ... Layer Trainable\n",
       "0   <tensorflow.python.keras.engine.input_layer.InputLayer object at 0x7f87527746d8>  ...  False         \n",
       "1   <tensorflow.python.keras.layers.convolutional.Conv2D object at 0x7f87527743c8>    ...  False         \n",
       "2   <tensorflow.python.keras.layers.convolutional.Conv2D object at 0x7f87b969b9e8>    ...  False         \n",
       "3   <tensorflow.python.keras.layers.pooling.MaxPooling2D object at 0x7f87525e4828>    ...  False         \n",
       "4   <tensorflow.python.keras.layers.convolutional.Conv2D object at 0x7f87525e4860>    ...  False         \n",
       "5   <tensorflow.python.keras.layers.convolutional.Conv2D object at 0x7f87525ec3c8>    ...  False         \n",
       "6   <tensorflow.python.keras.layers.pooling.MaxPooling2D object at 0x7f87525f7a20>    ...  False         \n",
       "7   <tensorflow.python.keras.layers.convolutional.Conv2D object at 0x7f87b96a0e80>    ...  False         \n",
       "8   <tensorflow.python.keras.layers.convolutional.Conv2D object at 0x7f87b96a75c0>    ...  False         \n",
       "9   <tensorflow.python.keras.layers.convolutional.Conv2D object at 0x7f87b9684be0>    ...  False         \n",
       "10  <tensorflow.python.keras.layers.pooling.MaxPooling2D object at 0x7f87b96942b0>    ...  False         \n",
       "11  <tensorflow.python.keras.layers.convolutional.Conv2D object at 0x7f87b96942e8>    ...  False         \n",
       "12  <tensorflow.python.keras.layers.convolutional.Conv2D object at 0x7f87b9700e10>    ...  False         \n",
       "13  <tensorflow.python.keras.layers.convolutional.Conv2D object at 0x7f87b97064a8>    ...  False         \n",
       "14  <tensorflow.python.keras.layers.pooling.MaxPooling2D object at 0x7f87b9720b00>    ...  False         \n",
       "15  <tensorflow.python.keras.layers.convolutional.Conv2D object at 0x7f87b972cf60>    ...  False         \n",
       "16  <tensorflow.python.keras.layers.convolutional.Conv2D object at 0x7f87b97326a0>    ...  False         \n",
       "17  <tensorflow.python.keras.layers.convolutional.Conv2D object at 0x7f8752589cf8>    ...  False         \n",
       "18  <tensorflow.python.keras.layers.pooling.MaxPooling2D object at 0x7f875259c390>    ...  False         \n",
       "19  <tensorflow.python.keras.layers.core.Flatten object at 0x7f87525a1940>            ...  False         \n",
       "\n",
       "[20 rows x 3 columns]"
      ]
     },
     "execution_count": 39,
     "metadata": {
      "tags": []
     },
     "output_type": "execute_result"
    }
   ],
   "source": [
    "import pandas as pd\n",
    "pd.set_option('max_colwidth', -1)\n",
    "\n",
    "layers = [(layer, layer.name, layer.trainable) for layer in vgg_model.layers]\n",
    "pd.DataFrame(layers, columns=['Layer Type', 'Layer Name', 'Layer Trainable'])"
   ]
  },
  {
   "cell_type": "code",
   "execution_count": 0,
   "metadata": {
    "colab": {
     "base_uri": "https://localhost:8080/",
     "height": 36
    },
    "colab_type": "code",
    "executionInfo": {
     "elapsed": 639,
     "status": "ok",
     "timestamp": 1579591721936,
     "user": {
      "displayName": "Soohyun Kim",
      "photoUrl": "",
      "userId": "04717435945000606452"
     },
     "user_tz": -540
    },
    "id": "WrL0wHvf0aX4",
    "outputId": "1519a787-177c-449e-8cef-5b9255ce90e4"
   },
   "outputs": [
    {
     "name": "stdout",
     "output_type": "stream",
     "text": [
      "Trainable layers: []\n"
     ]
    }
   ],
   "source": [
    "print(\"Trainable layers:\", vgg_model.trainable_weights)"
   ]
  },
  {
   "cell_type": "code",
   "execution_count": 0,
   "metadata": {
    "colab": {
     "base_uri": "https://localhost:8080/",
     "height": 306
    },
    "colab_type": "code",
    "executionInfo": {
     "elapsed": 971,
     "status": "ok",
     "timestamp": 1579591723615,
     "user": {
      "displayName": "Soohyun Kim",
      "photoUrl": "",
      "userId": "04717435945000606452"
     },
     "user_tz": -540
    },
    "id": "IM1ZPMkk0aX-",
    "outputId": "f4cfc0ff-dd00-4860-fa59-88052a6a94ae",
    "scrolled": true
   },
   "outputs": [
    {
     "name": "stdout",
     "output_type": "stream",
     "text": [
      "(1, 4, 4, 512)\n"
     ]
    },
    {
     "data": {
      "text/plain": [
       "<matplotlib.image.AxesImage at 0x7f875251fe80>"
      ]
     },
     "execution_count": 41,
     "metadata": {
      "tags": []
     },
     "output_type": "execute_result"
    },
    {
     "data": {
      "image/png": "[encoded data removed]",
      "text/plain": [
       "<Figure size 432x288 with 1 Axes>"
      ]
     },
     "metadata": {
      "tags": []
     },
     "output_type": "display_data"
    }
   ],
   "source": [
    "bottleneck_feature_example = vgg.predict(train_imgs_scaled[0:1])\n",
    "print(bottleneck_feature_example.shape)\n",
    "plt.imshow(bottleneck_feature_example[0][:,:,0])"
   ]
  },
  {
   "cell_type": "markdown",
   "metadata": {
    "colab_type": "text",
    "id": "j4KZopNN0aYE"
   },
   "source": [
    "### 전이 모델을 위한 특성 추출\n",
    "* 미리 학습된 VGG16 모델로부터 특성을 추출함 : bottleneck features\n",
    "* 최종 특성 맵의 크기는 (4, 4, 512)입니다."
   ]
  },
  {
   "cell_type": "code",
   "execution_count": 0,
   "metadata": {
    "colab": {},
    "colab_type": "code",
    "id": "H1lJ9UwD0aYG"
   },
   "outputs": [],
   "source": [
    "def get_bottleneck_features(model, input_imgs):    \n",
    "    features = model.predict(input_imgs, verbose=1)\n",
    "    return features"
   ]
  },
  {
   "cell_type": "code",
   "execution_count": 0,
   "metadata": {
    "colab": {
     "base_uri": "https://localhost:8080/",
     "height": 73
    },
    "colab_type": "code",
    "executionInfo": {
     "elapsed": 10243,
     "status": "ok",
     "timestamp": 1579591738960,
     "user": {
      "displayName": "Soohyun Kim",
      "photoUrl": "",
      "userId": "04717435945000606452"
     },
     "user_tz": -540
    },
    "id": "L69Q9vCV0aYN",
    "outputId": "a7c1ce86-e953-48ce-8c80-f07dc5184dba"
   },
   "outputs": [
    {
     "name": "stdout",
     "output_type": "stream",
     "text": [
      "3000/3000 [==============================] - 7s 2ms/sample\n",
      "1000/1000 [==============================] - 2s 2ms/sample\n",
      "Train Bottleneck Features: (3000, 8192) \tValidation Bottleneck Features: (1000, 8192)\n"
     ]
    }
   ],
   "source": [
    "train_features_vgg = get_bottleneck_features(vgg_model, train_imgs_scaled)\n",
    "validation_features_vgg = get_bottleneck_features(vgg_model, validation_imgs_scaled)\n",
    "\n",
    "print('Train Bottleneck Features:', train_features_vgg.shape, \n",
    "      '\\tValidation Bottleneck Features:', validation_features_vgg.shape)"
   ]
  },
  {
   "cell_type": "code",
   "execution_count": 0,
   "metadata": {
    "colab": {
     "base_uri": "https://localhost:8080/",
     "height": 54
    },
    "colab_type": "code",
    "executionInfo": {
     "elapsed": 794,
     "status": "ok",
     "timestamp": 1579591740777,
     "user": {
      "displayName": "Soohyun Kim",
      "photoUrl": "",
      "userId": "04717435945000606452"
     },
     "user_tz": -540
    },
    "id": "hRS8PmiL0aYV",
    "outputId": "9087fb2f-bf40-4402-eaf5-ca7c2df1d75c"
   },
   "outputs": [
    {
     "name": "stdout",
     "output_type": "stream",
     "text": [
      "[0.1867754  0.         0.         0.14237325 0.        ]\n",
      "[0.         0.         0.         0.         0.47230554]\n"
     ]
    }
   ],
   "source": [
    "if test:\n",
    "    print(train_features_vgg[0][:5])\n",
    "    print(validation_features_vgg[0][:5])"
   ]
  },
  {
   "cell_type": "code",
   "execution_count": 0,
   "metadata": {
    "colab": {
     "base_uri": "https://localhost:8080/",
     "height": 351
    },
    "colab_type": "code",
    "executionInfo": {
     "elapsed": 706,
     "status": "ok",
     "timestamp": 1579591742403,
     "user": {
      "displayName": "Soohyun Kim",
      "photoUrl": "",
      "userId": "04717435945000606452"
     },
     "user_tz": -540
    },
    "id": "AqUOG0r80aZG",
    "outputId": "7ba5e1e4-fa38-4429-a941-418a43dd4bf6"
   },
   "outputs": [
    {
     "name": "stdout",
     "output_type": "stream",
     "text": [
      "Model: \"sequential_2\"\n",
      "_________________________________________________________________\n",
      "Layer (type)                 Output Shape              Param #   \n",
      "=================================================================\n",
      "dense_6 (Dense)              (None, 512)               4194816   \n",
      "_________________________________________________________________\n",
      "dropout_4 (Dropout)          (None, 512)               0         \n",
      "_________________________________________________________________\n",
      "dense_7 (Dense)              (None, 512)               262656    \n",
      "_________________________________________________________________\n",
      "dropout_5 (Dropout)          (None, 512)               0         \n",
      "_________________________________________________________________\n",
      "dense_8 (Dense)              (None, 1)                 513       \n",
      "=================================================================\n",
      "Total params: 4,457,985\n",
      "Trainable params: 4,457,985\n",
      "Non-trainable params: 0\n",
      "_________________________________________________________________\n"
     ]
    }
   ],
   "source": [
    "from tensorflow.keras.layers import Conv2D, MaxPooling2D, Flatten, Dense, Dropout, InputLayer\n",
    "from tensorflow.keras.models import Sequential\n",
    "from tensorflow.keras import optimizers\n",
    "\n",
    "input_shape = vgg_model.output_shape[1]\n",
    "\n",
    "model = Sequential()\n",
    "model.add(InputLayer(input_shape=(input_shape,)))\n",
    "model.add(Dense(512, activation='relu', input_dim=input_shape))\n",
    "model.add(Dropout(0.3))\n",
    "model.add(Dense(512, activation='relu'))\n",
    "model.add(Dropout(0.3))\n",
    "model.add(Dense(1, activation='sigmoid'))\n",
    "\n",
    "model.compile(loss='binary_crossentropy',\n",
    "              optimizer=optimizers.RMSprop(lr=1e-4),\n",
    "              metrics=['accuracy'])\n",
    "\n",
    "model.summary()"
   ]
  },
  {
   "cell_type": "code",
   "execution_count": 0,
   "metadata": {
    "colab": {
     "base_uri": "https://localhost:8080/",
     "height": 1000
    },
    "colab_type": "code",
    "executionInfo": {
     "elapsed": 18994,
     "status": "ok",
     "timestamp": 1579591762448,
     "user": {
      "displayName": "Soohyun Kim",
      "photoUrl": "",
      "userId": "04717435945000606452"
     },
     "user_tz": -540
    },
    "id": "ObHVhu9O0aZO",
    "outputId": "5b04ed51-741b-4694-c75f-5e7677dcfc4e"
   },
   "outputs": [
    {
     "name": "stdout",
     "output_type": "stream",
     "text": [
      "Train on 3000 samples, validate on 1000 samples\n",
      "Epoch 1/30\n",
      "3000/3000 [==============================] - 1s 267us/sample - loss: 0.4382 - acc: 0.7857 - val_loss: 0.3331 - val_acc: 0.8560\n",
      "Epoch 2/30\n",
      "3000/3000 [==============================] - 1s 191us/sample - loss: 0.2923 - acc: 0.8673 - val_loss: 0.3821 - val_acc: 0.8350\n",
      "Epoch 3/30\n",
      "3000/3000 [==============================] - 1s 191us/sample - loss: 0.2436 - acc: 0.8990 - val_loss: 0.2598 - val_acc: 0.8900\n",
      "Epoch 4/30\n",
      "3000/3000 [==============================] - 1s 198us/sample - loss: 0.1994 - acc: 0.9213 - val_loss: 0.2642 - val_acc: 0.8900\n",
      "Epoch 5/30\n",
      "3000/3000 [==============================] - 1s 198us/sample - loss: 0.1657 - acc: 0.9350 - val_loss: 0.2713 - val_acc: 0.8930\n",
      "Epoch 6/30\n",
      "3000/3000 [==============================] - 1s 197us/sample - loss: 0.1448 - acc: 0.9407 - val_loss: 0.2800 - val_acc: 0.8940\n",
      "Epoch 7/30\n",
      "3000/3000 [==============================] - 1s 202us/sample - loss: 0.1194 - acc: 0.9500 - val_loss: 0.2846 - val_acc: 0.8940\n",
      "Epoch 8/30\n",
      "3000/3000 [==============================] - 1s 198us/sample - loss: 0.0969 - acc: 0.9617 - val_loss: 0.3243 - val_acc: 0.8930\n",
      "Epoch 9/30\n",
      "3000/3000 [==============================] - 1s 196us/sample - loss: 0.0768 - acc: 0.9693 - val_loss: 0.3297 - val_acc: 0.8950\n",
      "Epoch 10/30\n",
      "3000/3000 [==============================] - 1s 189us/sample - loss: 0.0727 - acc: 0.9710 - val_loss: 0.3598 - val_acc: 0.8900\n",
      "Epoch 11/30\n",
      "3000/3000 [==============================] - 1s 196us/sample - loss: 0.0460 - acc: 0.9823 - val_loss: 0.4263 - val_acc: 0.8810\n",
      "Epoch 12/30\n",
      "3000/3000 [==============================] - 1s 193us/sample - loss: 0.0378 - acc: 0.9860 - val_loss: 0.4475 - val_acc: 0.8810\n",
      "Epoch 13/30\n",
      "3000/3000 [==============================] - 1s 200us/sample - loss: 0.0326 - acc: 0.9900 - val_loss: 0.4359 - val_acc: 0.8910\n",
      "Epoch 14/30\n",
      "3000/3000 [==============================] - 1s 190us/sample - loss: 0.0304 - acc: 0.9903 - val_loss: 0.4407 - val_acc: 0.8940\n",
      "Epoch 15/30\n",
      "3000/3000 [==============================] - 1s 196us/sample - loss: 0.0262 - acc: 0.9907 - val_loss: 0.4720 - val_acc: 0.8950\n",
      "Epoch 16/30\n",
      "3000/3000 [==============================] - 1s 198us/sample - loss: 0.0211 - acc: 0.9947 - val_loss: 0.4991 - val_acc: 0.8940\n",
      "Epoch 17/30\n",
      "3000/3000 [==============================] - 1s 195us/sample - loss: 0.0143 - acc: 0.9947 - val_loss: 0.5202 - val_acc: 0.8900\n",
      "Epoch 18/30\n",
      "3000/3000 [==============================] - 1s 195us/sample - loss: 0.0144 - acc: 0.9953 - val_loss: 0.5618 - val_acc: 0.8920\n",
      "Epoch 19/30\n",
      "3000/3000 [==============================] - 1s 199us/sample - loss: 0.0067 - acc: 0.9963 - val_loss: 0.6382 - val_acc: 0.8950\n",
      "Epoch 20/30\n",
      "3000/3000 [==============================] - 1s 199us/sample - loss: 0.0143 - acc: 0.9950 - val_loss: 0.6358 - val_acc: 0.8930\n",
      "Epoch 21/30\n",
      "3000/3000 [==============================] - 1s 192us/sample - loss: 0.0096 - acc: 0.9953 - val_loss: 0.6615 - val_acc: 0.8960\n",
      "Epoch 22/30\n",
      "3000/3000 [==============================] - 1s 194us/sample - loss: 0.0093 - acc: 0.9970 - val_loss: 0.7086 - val_acc: 0.8880\n",
      "Epoch 23/30\n",
      "3000/3000 [==============================] - 1s 192us/sample - loss: 0.0070 - acc: 0.9980 - val_loss: 0.8473 - val_acc: 0.8810\n",
      "Epoch 24/30\n",
      "3000/3000 [==============================] - 1s 202us/sample - loss: 0.0054 - acc: 0.9980 - val_loss: 0.7106 - val_acc: 0.8950\n",
      "Epoch 25/30\n",
      "3000/3000 [==============================] - 1s 191us/sample - loss: 0.0065 - acc: 0.9977 - val_loss: 0.8143 - val_acc: 0.8890\n",
      "Epoch 26/30\n",
      "3000/3000 [==============================] - 1s 195us/sample - loss: 0.0049 - acc: 0.9983 - val_loss: 0.7908 - val_acc: 0.8950\n",
      "Epoch 27/30\n",
      "3000/3000 [==============================] - 1s 196us/sample - loss: 0.0119 - acc: 0.9983 - val_loss: 0.7917 - val_acc: 0.8940\n",
      "Epoch 28/30\n",
      "3000/3000 [==============================] - 1s 198us/sample - loss: 7.7746e-04 - acc: 0.9997 - val_loss: 0.9261 - val_acc: 0.8850\n",
      "Epoch 29/30\n",
      "3000/3000 [==============================] - 1s 197us/sample - loss: 0.0060 - acc: 0.9980 - val_loss: 0.8724 - val_acc: 0.8880\n",
      "Epoch 30/30\n",
      "3000/3000 [==============================] - 1s 190us/sample - loss: 0.0082 - acc: 0.9983 - val_loss: 0.8891 - val_acc: 0.8920\n"
     ]
    }
   ],
   "source": [
    "# colab: 30초 정도 소요됨\n",
    "history = model.____(x=train_features_vgg, y=train_labels_enc,\n",
    "                    validation_data=(validation_features_vgg, validation_labels_enc),\n",
    "                    batch_size=batch_size,\n",
    "                    epochs=epochs,\n",
    "                    verbose=1)"
   ]
  },
  {
   "cell_type": "markdown",
   "metadata": {
    "colab_type": "text",
    "id": "a6MdJXq-0aZU"
   },
   "source": [
    "## Fine Tuning 4 단계 실행"
   ]
  },
  {
   "cell_type": "code",
   "execution_count": 0,
   "metadata": {
    "colab": {
     "base_uri": "https://localhost:8080/",
     "height": 56
    },
    "colab_type": "code",
    "executionInfo": {
     "elapsed": 737,
     "status": "ok",
     "timestamp": 1579591766646,
     "user": {
      "displayName": "Soohyun Kim",
      "photoUrl": "",
      "userId": "04717435945000606452"
     },
     "user_tz": -540
    },
    "id": "xvIjgxO40aZW",
    "outputId": "d30d6d52-2cea-415a-f697-912f29865e1d"
   },
   "outputs": [
    {
     "name": "stdout",
     "output_type": "stream",
     "text": [
      "Trainable layers: [<tf.Variable 'block4_conv1_1/kernel:0' shape=(3, 3, 256, 512) dtype=float32>, <tf.Variable 'block4_conv1_1/bias:0' shape=(512,) dtype=float32>, <tf.Variable 'block4_conv2_1/kernel:0' shape=(3, 3, 512, 512) dtype=float32>, <tf.Variable 'block4_conv2_1/bias:0' shape=(512,) dtype=float32>, <tf.Variable 'block4_conv3_1/kernel:0' shape=(3, 3, 512, 512) dtype=float32>, <tf.Variable 'block4_conv3_1/bias:0' shape=(512,) dtype=float32>, <tf.Variable 'block5_conv1_1/kernel:0' shape=(3, 3, 512, 512) dtype=float32>, <tf.Variable 'block5_conv1_1/bias:0' shape=(512,) dtype=float32>, <tf.Variable 'block5_conv2_1/kernel:0' shape=(3, 3, 512, 512) dtype=float32>, <tf.Variable 'block5_conv2_1/bias:0' shape=(512,) dtype=float32>, <tf.Variable 'block5_conv3_1/kernel:0' shape=(3, 3, 512, 512) dtype=float32>, <tf.Variable 'block5_conv3_1/bias:0' shape=(512,) dtype=float32>]\n"
     ]
    }
   ],
   "source": [
    "vgg_model.trainable = True\n",
    "\n",
    "set_trainable = False\n",
    "for layer in vgg_model.layers:\n",
    "    if layer.name in ['block5_conv1', 'block4_conv1']:\n",
    "        set_trainable = _____\n",
    "    if set_trainable:\n",
    "        layer.trainable = _____\n",
    "    else:\n",
    "        layer.trainable = False\n",
    "        \n",
    "print(\"Trainable layers:\", vgg_model.trainable_weights)"
   ]
  },
  {
   "cell_type": "code",
   "execution_count": 0,
   "metadata": {
    "colab": {
     "base_uri": "https://localhost:8080/",
     "height": 649
    },
    "colab_type": "code",
    "executionInfo": {
     "elapsed": 750,
     "status": "ok",
     "timestamp": 1579591768373,
     "user": {
      "displayName": "Soohyun Kim",
      "photoUrl": "",
      "userId": "04717435945000606452"
     },
     "user_tz": -540
    },
    "id": "U5yGJ0WE0aZd",
    "outputId": "b2afd862-fd6c-4c86-8ff4-eb39f5f826d9"
   },
   "outputs": [
    {
     "data": {
      "text/html": [
       "<div>\n",
       "<style scoped>\n",
       "    .dataframe tbody tr th:only-of-type {\n",
       "        vertical-align: middle;\n",
       "    }\n",
       "\n",
       "    .dataframe tbody tr th {\n",
       "        vertical-align: top;\n",
       "    }\n",
       "\n",
       "    .dataframe thead th {\n",
       "        text-align: right;\n",
       "    }\n",
       "</style>\n",
       "<table border=\"1\" class=\"dataframe\">\n",
       "  <thead>\n",
       "    <tr style=\"text-align: right;\">\n",
       "      <th></th>\n",
       "      <th>Layer Type</th>\n",
       "      <th>Layer Name</th>\n",
       "      <th>Layer Trainable</th>\n",
       "    </tr>\n",
       "  </thead>\n",
       "  <tbody>\n",
       "    <tr>\n",
       "      <th>0</th>\n",
       "      <td>&lt;tensorflow.python.keras.engine.input_layer.InputLayer object at 0x7f87527746d8&gt;</td>\n",
       "      <td>input_3</td>\n",
       "      <td>False</td>\n",
       "    </tr>\n",
       "    <tr>\n",
       "      <th>1</th>\n",
       "      <td>&lt;tensorflow.python.keras.layers.convolutional.Conv2D object at 0x7f87527743c8&gt;</td>\n",
       "      <td>block1_conv1</td>\n",
       "      <td>False</td>\n",
       "    </tr>\n",
       "    <tr>\n",
       "      <th>2</th>\n",
       "      <td>&lt;tensorflow.python.keras.layers.convolutional.Conv2D object at 0x7f87b969b9e8&gt;</td>\n",
       "      <td>block1_conv2</td>\n",
       "      <td>False</td>\n",
       "    </tr>\n",
       "    <tr>\n",
       "      <th>3</th>\n",
       "      <td>&lt;tensorflow.python.keras.layers.pooling.MaxPooling2D object at 0x7f87525e4828&gt;</td>\n",
       "      <td>block1_pool</td>\n",
       "      <td>False</td>\n",
       "    </tr>\n",
       "    <tr>\n",
       "      <th>4</th>\n",
       "      <td>&lt;tensorflow.python.keras.layers.convolutional.Conv2D object at 0x7f87525e4860&gt;</td>\n",
       "      <td>block2_conv1</td>\n",
       "      <td>False</td>\n",
       "    </tr>\n",
       "    <tr>\n",
       "      <th>5</th>\n",
       "      <td>&lt;tensorflow.python.keras.layers.convolutional.Conv2D object at 0x7f87525ec3c8&gt;</td>\n",
       "      <td>block2_conv2</td>\n",
       "      <td>False</td>\n",
       "    </tr>\n",
       "    <tr>\n",
       "      <th>6</th>\n",
       "      <td>&lt;tensorflow.python.keras.layers.pooling.MaxPooling2D object at 0x7f87525f7a20&gt;</td>\n",
       "      <td>block2_pool</td>\n",
       "      <td>False</td>\n",
       "    </tr>\n",
       "    <tr>\n",
       "      <th>7</th>\n",
       "      <td>&lt;tensorflow.python.keras.layers.convolutional.Conv2D object at 0x7f87b96a0e80&gt;</td>\n",
       "      <td>block3_conv1</td>\n",
       "      <td>False</td>\n",
       "    </tr>\n",
       "    <tr>\n",
       "      <th>8</th>\n",
       "      <td>&lt;tensorflow.python.keras.layers.convolutional.Conv2D object at 0x7f87b96a75c0&gt;</td>\n",
       "      <td>block3_conv2</td>\n",
       "      <td>False</td>\n",
       "    </tr>\n",
       "    <tr>\n",
       "      <th>9</th>\n",
       "      <td>&lt;tensorflow.python.keras.layers.convolutional.Conv2D object at 0x7f87b9684be0&gt;</td>\n",
       "      <td>block3_conv3</td>\n",
       "      <td>False</td>\n",
       "    </tr>\n",
       "    <tr>\n",
       "      <th>10</th>\n",
       "      <td>&lt;tensorflow.python.keras.layers.pooling.MaxPooling2D object at 0x7f87b96942b0&gt;</td>\n",
       "      <td>block3_pool</td>\n",
       "      <td>False</td>\n",
       "    </tr>\n",
       "    <tr>\n",
       "      <th>11</th>\n",
       "      <td>&lt;tensorflow.python.keras.layers.convolutional.Conv2D object at 0x7f87b96942e8&gt;</td>\n",
       "      <td>block4_conv1</td>\n",
       "      <td>True</td>\n",
       "    </tr>\n",
       "    <tr>\n",
       "      <th>12</th>\n",
       "      <td>&lt;tensorflow.python.keras.layers.convolutional.Conv2D object at 0x7f87b9700e10&gt;</td>\n",
       "      <td>block4_conv2</td>\n",
       "      <td>True</td>\n",
       "    </tr>\n",
       "    <tr>\n",
       "      <th>13</th>\n",
       "      <td>&lt;tensorflow.python.keras.layers.convolutional.Conv2D object at 0x7f87b97064a8&gt;</td>\n",
       "      <td>block4_conv3</td>\n",
       "      <td>True</td>\n",
       "    </tr>\n",
       "    <tr>\n",
       "      <th>14</th>\n",
       "      <td>&lt;tensorflow.python.keras.layers.pooling.MaxPooling2D object at 0x7f87b9720b00&gt;</td>\n",
       "      <td>block4_pool</td>\n",
       "      <td>True</td>\n",
       "    </tr>\n",
       "    <tr>\n",
       "      <th>15</th>\n",
       "      <td>&lt;tensorflow.python.keras.layers.convolutional.Conv2D object at 0x7f87b972cf60&gt;</td>\n",
       "      <td>block5_conv1</td>\n",
       "      <td>True</td>\n",
       "    </tr>\n",
       "    <tr>\n",
       "      <th>16</th>\n",
       "      <td>&lt;tensorflow.python.keras.layers.convolutional.Conv2D object at 0x7f87b97326a0&gt;</td>\n",
       "      <td>block5_conv2</td>\n",
       "      <td>True</td>\n",
       "    </tr>\n",
       "    <tr>\n",
       "      <th>17</th>\n",
       "      <td>&lt;tensorflow.python.keras.layers.convolutional.Conv2D object at 0x7f8752589cf8&gt;</td>\n",
       "      <td>block5_conv3</td>\n",
       "      <td>True</td>\n",
       "    </tr>\n",
       "    <tr>\n",
       "      <th>18</th>\n",
       "      <td>&lt;tensorflow.python.keras.layers.pooling.MaxPooling2D object at 0x7f875259c390&gt;</td>\n",
       "      <td>block5_pool</td>\n",
       "      <td>True</td>\n",
       "    </tr>\n",
       "    <tr>\n",
       "      <th>19</th>\n",
       "      <td>&lt;tensorflow.python.keras.layers.core.Flatten object at 0x7f87525a1940&gt;</td>\n",
       "      <td>flatten_1</td>\n",
       "      <td>True</td>\n",
       "    </tr>\n",
       "  </tbody>\n",
       "</table>\n",
       "</div>"
      ],
      "text/plain": [
       "                                                                          Layer Type  ... Layer Trainable\n",
       "0   <tensorflow.python.keras.engine.input_layer.InputLayer object at 0x7f87527746d8>  ...  False         \n",
       "1   <tensorflow.python.keras.layers.convolutional.Conv2D object at 0x7f87527743c8>    ...  False         \n",
       "2   <tensorflow.python.keras.layers.convolutional.Conv2D object at 0x7f87b969b9e8>    ...  False         \n",
       "3   <tensorflow.python.keras.layers.pooling.MaxPooling2D object at 0x7f87525e4828>    ...  False         \n",
       "4   <tensorflow.python.keras.layers.convolutional.Conv2D object at 0x7f87525e4860>    ...  False         \n",
       "5   <tensorflow.python.keras.layers.convolutional.Conv2D object at 0x7f87525ec3c8>    ...  False         \n",
       "6   <tensorflow.python.keras.layers.pooling.MaxPooling2D object at 0x7f87525f7a20>    ...  False         \n",
       "7   <tensorflow.python.keras.layers.convolutional.Conv2D object at 0x7f87b96a0e80>    ...  False         \n",
       "8   <tensorflow.python.keras.layers.convolutional.Conv2D object at 0x7f87b96a75c0>    ...  False         \n",
       "9   <tensorflow.python.keras.layers.convolutional.Conv2D object at 0x7f87b9684be0>    ...  False         \n",
       "10  <tensorflow.python.keras.layers.pooling.MaxPooling2D object at 0x7f87b96942b0>    ...  False         \n",
       "11  <tensorflow.python.keras.layers.convolutional.Conv2D object at 0x7f87b96942e8>    ...  True          \n",
       "12  <tensorflow.python.keras.layers.convolutional.Conv2D object at 0x7f87b9700e10>    ...  True          \n",
       "13  <tensorflow.python.keras.layers.convolutional.Conv2D object at 0x7f87b97064a8>    ...  True          \n",
       "14  <tensorflow.python.keras.layers.pooling.MaxPooling2D object at 0x7f87b9720b00>    ...  True          \n",
       "15  <tensorflow.python.keras.layers.convolutional.Conv2D object at 0x7f87b972cf60>    ...  True          \n",
       "16  <tensorflow.python.keras.layers.convolutional.Conv2D object at 0x7f87b97326a0>    ...  True          \n",
       "17  <tensorflow.python.keras.layers.convolutional.Conv2D object at 0x7f8752589cf8>    ...  True          \n",
       "18  <tensorflow.python.keras.layers.pooling.MaxPooling2D object at 0x7f875259c390>    ...  True          \n",
       "19  <tensorflow.python.keras.layers.core.Flatten object at 0x7f87525a1940>            ...  True          \n",
       "\n",
       "[20 rows x 3 columns]"
      ]
     },
     "execution_count": 48,
     "metadata": {
      "tags": []
     },
     "output_type": "execute_result"
    }
   ],
   "source": [
    "layers = [(layer, layer.name, layer.trainable) for layer in vgg_model.layers]\n",
    "pd.DataFrame(layers, columns=['Layer Type', 'Layer Name', 'Layer Trainable'])"
   ]
  },
  {
   "cell_type": "markdown",
   "metadata": {
    "colab_type": "text",
    "id": "6sOIkFln0aZj"
   },
   "source": [
    "## Fine Tuning 5 단계 실행"
   ]
  },
  {
   "cell_type": "code",
   "execution_count": 0,
   "metadata": {
    "colab": {
     "base_uri": "https://localhost:8080/",
     "height": 388
    },
    "colab_type": "code",
    "executionInfo": {
     "elapsed": 792,
     "status": "ok",
     "timestamp": 1579591772253,
     "user": {
      "displayName": "Soohyun Kim",
      "photoUrl": "",
      "userId": "04717435945000606452"
     },
     "user_tz": -540
    },
    "id": "LnIQbxn-0aaU",
    "outputId": "01c8050b-6fb1-418b-c36b-f6d7a3e0dd8c"
   },
   "outputs": [
    {
     "name": "stdout",
     "output_type": "stream",
     "text": [
      "Model: \"sequential_3\"\n",
      "_________________________________________________________________\n",
      "Layer (type)                 Output Shape              Param #   \n",
      "=================================================================\n",
      "model_1 (Model)              (None, 8192)              14714688  \n",
      "_________________________________________________________________\n",
      "dense_9 (Dense)              (None, 512)               4194816   \n",
      "_________________________________________________________________\n",
      "dropout_6 (Dropout)          (None, 512)               0         \n",
      "_________________________________________________________________\n",
      "dense_10 (Dense)             (None, 512)               262656    \n",
      "_________________________________________________________________\n",
      "dropout_7 (Dropout)          (None, 512)               0         \n",
      "_________________________________________________________________\n",
      "dense_11 (Dense)             (None, 1)                 513       \n",
      "=================================================================\n",
      "Total params: 19,172,673\n",
      "Trainable params: 17,437,185\n",
      "Non-trainable params: 1,735,488\n",
      "_________________________________________________________________\n"
     ]
    }
   ],
   "source": [
    "from tensorflow.keras.layers import Conv2D, MaxPooling2D, Flatten, Dense, Dropout, InputLayer\n",
    "from tensorflow.keras.models import Sequential\n",
    "from tensorflow.keras import optimizers\n",
    "\n",
    "model = Sequential()\n",
    "model.add(_______)\n",
    "model.add(Dense(512, activation='relu', input_dim=input_shape))\n",
    "model.add(Dropout(0.3))\n",
    "model.add(Dense(512, activation='relu'))\n",
    "model.add(Dropout(0.3))\n",
    "model.add(Dense(1, activation='sigmoid'))\n",
    "\n",
    "model.compile(loss='binary_crossentropy',\n",
    "              optimizer=optimizers.RMSprop(lr=1e-5),\n",
    "              metrics=['accuracy'])\n",
    "\n",
    "model.summary()"
   ]
  },
  {
   "cell_type": "code",
   "execution_count": 0,
   "metadata": {
    "colab": {
     "base_uri": "https://localhost:8080/",
     "height": 1000
    },
    "colab_type": "code",
    "executionInfo": {
     "elapsed": 196292,
     "status": "ok",
     "timestamp": 1579592219228,
     "user": {
      "displayName": "Soohyun Kim",
      "photoUrl": "",
      "userId": "04717435945000606452"
     },
     "user_tz": -540
    },
    "id": "mk04V4R70aag",
    "outputId": "973b2829-c8ef-44c6-eb22-6152d1fb5578"
   },
   "outputs": [
    {
     "name": "stdout",
     "output_type": "stream",
     "text": [
      "Train on 3000 samples, validate on 1000 samples\n",
      "Epoch 1/30\n",
      "3000/3000 [==============================] - 15s 5ms/sample - loss: 0.4322 - acc: 0.7903 - val_loss: 0.2368 - val_acc: 0.8940\n",
      "Epoch 2/30\n",
      "3000/3000 [==============================] - 15s 5ms/sample - loss: 0.2197 - acc: 0.9117 - val_loss: 0.1880 - val_acc: 0.9230\n",
      "Epoch 3/30\n",
      "3000/3000 [==============================] - 15s 5ms/sample - loss: 0.1480 - acc: 0.9417 - val_loss: 0.1836 - val_acc: 0.9200\n",
      "Epoch 4/30\n",
      "3000/3000 [==============================] - 15s 5ms/sample - loss: 0.1033 - acc: 0.9603 - val_loss: 0.1720 - val_acc: 0.9310\n",
      "Epoch 5/30\n",
      "3000/3000 [==============================] - 15s 5ms/sample - loss: 0.0767 - acc: 0.9713 - val_loss: 0.1711 - val_acc: 0.9280\n",
      "Epoch 6/30\n",
      "3000/3000 [==============================] - 15s 5ms/sample - loss: 0.0541 - acc: 0.9790 - val_loss: 0.1610 - val_acc: 0.9370\n",
      "Epoch 7/30\n",
      "3000/3000 [==============================] - 15s 5ms/sample - loss: 0.0332 - acc: 0.9883 - val_loss: 0.1501 - val_acc: 0.9410\n",
      "Epoch 8/30\n",
      "3000/3000 [==============================] - 15s 5ms/sample - loss: 0.0242 - acc: 0.9910 - val_loss: 0.1578 - val_acc: 0.9420\n",
      "Epoch 9/30\n",
      "3000/3000 [==============================] - 15s 5ms/sample - loss: 0.0152 - acc: 0.9953 - val_loss: 0.1768 - val_acc: 0.9450\n",
      "Epoch 10/30\n",
      "3000/3000 [==============================] - 15s 5ms/sample - loss: 0.0128 - acc: 0.9960 - val_loss: 0.1663 - val_acc: 0.9510\n",
      "Epoch 11/30\n",
      "3000/3000 [==============================] - 15s 5ms/sample - loss: 0.0060 - acc: 0.9980 - val_loss: 0.2019 - val_acc: 0.9490\n",
      "Epoch 12/30\n",
      "3000/3000 [==============================] - 15s 5ms/sample - loss: 0.0141 - acc: 0.9963 - val_loss: 0.2855 - val_acc: 0.9350\n",
      "Epoch 13/30\n",
      "3000/3000 [==============================] - 15s 5ms/sample - loss: 0.0101 - acc: 0.9977 - val_loss: 0.2161 - val_acc: 0.9450\n",
      "Epoch 14/30\n",
      "3000/3000 [==============================] - 15s 5ms/sample - loss: 0.0091 - acc: 0.9963 - val_loss: 0.2113 - val_acc: 0.9450\n",
      "Epoch 15/30\n",
      "3000/3000 [==============================] - 15s 5ms/sample - loss: 0.0037 - acc: 0.9990 - val_loss: 0.2306 - val_acc: 0.9420\n",
      "Epoch 16/30\n",
      "3000/3000 [==============================] - 15s 5ms/sample - loss: 0.0082 - acc: 0.9980 - val_loss: 0.2343 - val_acc: 0.9480\n",
      "Epoch 17/30\n",
      "3000/3000 [==============================] - 15s 5ms/sample - loss: 0.0025 - acc: 0.9993 - val_loss: 0.2493 - val_acc: 0.9460\n",
      "Epoch 18/30\n",
      "3000/3000 [==============================] - 15s 5ms/sample - loss: 0.0011 - acc: 0.9997 - val_loss: 0.2603 - val_acc: 0.9510\n",
      "Epoch 19/30\n",
      "3000/3000 [==============================] - 15s 5ms/sample - loss: 0.0041 - acc: 0.9990 - val_loss: 0.2902 - val_acc: 0.9480\n",
      "Epoch 20/30\n",
      "3000/3000 [==============================] - 15s 5ms/sample - loss: 0.0062 - acc: 0.9987 - val_loss: 0.2765 - val_acc: 0.9430\n",
      "Epoch 21/30\n",
      "3000/3000 [==============================] - 15s 5ms/sample - loss: 0.0103 - acc: 0.9970 - val_loss: 0.2566 - val_acc: 0.9460\n",
      "Epoch 22/30\n",
      "3000/3000 [==============================] - 15s 5ms/sample - loss: 0.0027 - acc: 0.9987 - val_loss: 0.2976 - val_acc: 0.9430\n",
      "Epoch 23/30\n",
      "3000/3000 [==============================] - 15s 5ms/sample - loss: 0.0082 - acc: 0.9990 - val_loss: 0.2937 - val_acc: 0.9440\n",
      "Epoch 24/30\n",
      "3000/3000 [==============================] - 15s 5ms/sample - loss: 0.0027 - acc: 0.9987 - val_loss: 0.2956 - val_acc: 0.9430\n",
      "Epoch 25/30\n",
      "3000/3000 [==============================] - 15s 5ms/sample - loss: 0.0042 - acc: 0.9990 - val_loss: 0.3077 - val_acc: 0.9460\n",
      "Epoch 26/30\n",
      "3000/3000 [==============================] - 15s 5ms/sample - loss: 0.0076 - acc: 0.9983 - val_loss: 0.3233 - val_acc: 0.9520\n",
      "Epoch 27/30\n",
      "3000/3000 [==============================] - 15s 5ms/sample - loss: 0.0093 - acc: 0.9973 - val_loss: 0.3368 - val_acc: 0.9450\n",
      "Epoch 28/30\n",
      "3000/3000 [==============================] - 15s 5ms/sample - loss: 1.5060e-05 - acc: 1.0000 - val_loss: 0.3631 - val_acc: 0.9440\n",
      "Epoch 29/30\n",
      "3000/3000 [==============================] - 15s 5ms/sample - loss: 0.0044 - acc: 0.9987 - val_loss: 0.4278 - val_acc: 0.9430\n",
      "Epoch 30/30\n",
      "3000/3000 [==============================] - 15s 5ms/sample - loss: 1.9733e-04 - acc: 1.0000 - val_loss: 0.3668 - val_acc: 0.9450\n"
     ]
    }
   ],
   "source": [
    "# colab: 15분 정도 소요됨\n",
    "history = model.____(x=train_imgs_scaled, y=train_labels_enc,\n",
    "                    validation_data=(validation_imgs_scaled, validation_labels_enc),\n",
    "                    batch_size=batch_size,\n",
    "                    epochs=epochs,\n",
    "                    verbose=1)"
   ]
  },
  {
   "cell_type": "code",
   "execution_count": 0,
   "metadata": {
    "colab": {
     "base_uri": "https://localhost:8080/",
     "height": 308
    },
    "colab_type": "code",
    "executionInfo": {
     "elapsed": 890,
     "status": "ok",
     "timestamp": 1579592303424,
     "user": {
      "displayName": "Soohyun Kim",
      "photoUrl": "",
      "userId": "04717435945000606452"
     },
     "user_tz": -540
    },
    "id": "Ak4A92Oq0aan",
    "outputId": "b03db324-fb70-4857-c2a1-ab6b309a9190"
   },
   "outputs": [
    {
     "data": {
      "image/png": "[encoded data removed]",
      "text/plain": [
       "<Figure size 864x288 with 2 Axes>"
      ]
     },
     "metadata": {
      "tags": []
     },
     "output_type": "display_data"
    }
   ],
   "source": [
    "f, (ax1, ax2) = plt.subplots(1, 2, figsize=(12, 4))\n",
    "t = f.suptitle('Pre-trained CNN (Transfer Learning) with Fine-Tuning', fontsize=12)\n",
    "f.subplots_adjust(top=0.85, wspace=0.3)\n",
    "\n",
    "epoch_list = list(range(1,31))\n",
    "ax1.plot(epoch_list, history.history['acc'], label='Train Accuracy')\n",
    "ax1.plot(epoch_list, history.history['val_acc'], label='Validation Accuracy')\n",
    "ax1.set_xticks(np.arange(0, 31, 5))\n",
    "ax1.set_ylabel('Accuracy Value')\n",
    "ax1.set_xlabel('Epoch')\n",
    "ax1.set_title('Accuracy')\n",
    "l1 = ax1.legend(loc=\"best\")\n",
    "\n",
    "ax2.plot(epoch_list, history.history['loss'], label='Train Loss')\n",
    "ax2.plot(epoch_list, history.history['val_loss'], label='Validation Loss')\n",
    "ax2.set_xticks(np.arange(0, 31, 5))\n",
    "ax2.set_ylabel('Loss Value')\n",
    "ax2.set_xlabel('Epoch')\n",
    "ax2.set_title('Loss')\n",
    "l2 = ax2.legend(loc=\"best\")"
   ]
  },
  {
   "cell_type": "code",
   "execution_count": 0,
   "metadata": {
    "colab": {},
    "colab_type": "code",
    "id": "hezr7AfX0aat"
   },
   "outputs": [],
   "source": [
    "model.save('cats_dogs_tlearn_finetune_cnn.h5')"
   ]
  },
  {
   "cell_type": "code",
   "execution_count": 0,
   "metadata": {
    "colab": {},
    "colab_type": "code",
    "id": "NeGwCijx_ror"
   },
   "outputs": [],
   "source": []
  }
 ],
 "metadata": {
  "accelerator": "GPU",
  "colab": {
   "collapsed_sections": [],
   "name": "5-1.CNN_FineTuning-1-colab.ipynb",
   "provenance": []
  },
  "kernelspec": {
   "display_name": "Python 3",
   "language": "python",
   "name": "python3"
  },
  "language_info": {
   "codemirror_mode": {
    "name": "ipython",
    "version": 3
   },
   "file_extension": ".py",
   "mimetype": "text/x-python",
   "name": "python",
   "nbconvert_exporter": "python",
   "pygments_lexer": "ipython3",
   "version": "3.6.10"
  }
 },
 "nbformat": 4,
 "nbformat_minor": 1
}
