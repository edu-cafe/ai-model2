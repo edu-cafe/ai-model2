{
 "cells": [
  {
   "cell_type": "markdown",
   "metadata": {},
   "source": [
    "# 소규모 데이터셋에서 컨브넷 모델 구축하기\n",
    "* 매우 적은 데이터를 사용해 이미지 분류 모델을 훈련하는 일은 흔한 경우입니다. 여러분이 전문적인 컴퓨터 비전 작업을 한다면 실제로 이런 상황을 마주치게 될 가능성이 높습니다.\n",
    "* 보통 '적은' 샘플이란 수백 개에서 수만 개 사이를 의미합니다.\n",
    "* 실용적인 예제로 5,000개의 강아지와 고양이 사진(2,500개는 강아지, 2,500개는 고양이)으로 구성된 데이터셋에서 강아지와 고양이 이미지를 분류해 보겠습니다. 훈련을 위해 각각 1,500개의 사진을 사용하고 검증과 테스트에 각각 500개의 사진을 사용하겠습니다."
   ]
  },
  {
   "cell_type": "markdown",
   "metadata": {},
   "source": [
    "## 이미지넷 데이터 셋 구축\n",
    "* [Dogs and Cats dataset](https://www.kaggle.com/c/dogs-vs-cats/data)\n",
    "* 이 사진들은 중간 정도의 해상도를 가진 컬러 JPEG 파일입니다.\n",
    "* 이 데이터셋은 25,000개의 강아지와 고양이 이미지(클래스마다 12,500개)를 담고 있습니다.\n",
    "* 세 개의 서브셋이 들어 있는 새로운 데이터셋을 만들 것입니다 --> 클래스마다 1,500개의 샘플로 이루어진 훈련 세트, 클래스마다 500개의 샘플로 이루어진 검증 세트, 클래스마다 500개의 샘플로 이루어진 테스트 세트"
   ]
  },
  {
   "cell_type": "code",
   "execution_count": 1,
   "metadata": {},
   "outputs": [],
   "source": [
    "import ______  # 파일 목록 처리 패키지, 파일 내용 처리 패키지 : pickle \n",
    "import numpy as np\n",
    "\n",
    "np.random.seed(42)"
   ]
  },
  {
   "cell_type": "code",
   "execution_count": 11,
   "metadata": {},
   "outputs": [
    {
     "data": {
      "text/plain": [
       "(12500, 12500)"
      ]
     },
     "execution_count": 11,
     "metadata": {},
     "output_type": "execute_result"
    }
   ],
   "source": [
    "# 원본 데이터셋을 압축 해제한 디렉터리 경로\n",
    "files = ..........\n",
    "\n",
    "cat_files = ..........\n",
    "dog_files = ..........\n",
    "len(cat_files), len(dog_files)"
   ]
  },
  {
   "cell_type": "code",
   "execution_count": 12,
   "metadata": {},
   "outputs": [
    {
     "data": {
      "text/plain": [
       "['train\\\\cat.0.jpg',\n",
       " 'train\\\\cat.1.jpg',\n",
       " 'train\\\\cat.10.jpg',\n",
       " 'train\\\\cat.100.jpg',\n",
       " 'train\\\\cat.1000.jpg']"
      ]
     },
     "execution_count": 12,
     "metadata": {},
     "output_type": "execute_result"
    }
   ],
   "source": [
    "cat_files[:5]"
   ]
  },
  {
   "cell_type": "code",
   "execution_count": 13,
   "metadata": {},
   "outputs": [
    {
     "name": "stdout",
     "output_type": "stream",
     "text": [
      "11000 1500\n",
      "['train\\\\cat.761.jpg' 'train\\\\cat.8554.jpg' 'train\\\\cat.1386.jpg'\n",
      " 'train\\\\cat.6131.jpg' 'train\\\\cat.3320.jpg']\n",
      "['train\\\\cat.11381.jpg', 'train\\\\cat.12112.jpg', 'train\\\\cat.5536.jpg', 'train\\\\cat.11915.jpg', 'train\\\\cat.5588.jpg']\n"
     ]
    }
   ],
   "source": [
    "# cat/dog 데이터 중 랜덤하게 각각 1500개 데이터를 추출\n",
    "cat_train = ........\n",
    "dog_train = ........\n",
    "\n",
    "# cat_files에서 cat_train 데이터를 제거하여 list로 저장\n",
    "cat_files = ........\n",
    "dog_files = ........\n",
    "\n",
    "print(len(cat_files), len(cat_train))\n",
    "print(cat_train[:5])\n",
    "print(cat_files[:5])"
   ]
  },
  {
   "cell_type": "code",
   "execution_count": 14,
   "metadata": {},
   "outputs": [
    {
     "name": "stdout",
     "output_type": "stream",
     "text": [
      "Cat datasets: (1500,) (500,) (500,)\n",
      "Dog datasets: (1500,) (500,) (500,)\n"
     ]
    }
   ],
   "source": [
    "# cat_train/dog_train 데이터 중 랜덤하게 각각 500개 데이터를 추출\n",
    "cat_val = ...........\n",
    "dog_val = ...........\n",
    "\n",
    "# cat_files에서 cat_val 데이터를 제거하여 list로 저장\n",
    "cat_files = ..........\n",
    "dog_files = ..........\n",
    "\n",
    "# cat_train/dog_train 데이터 중 랜덤하게 각각 500개 데이터를 추출\n",
    "cat_test = ........\n",
    "dog_test = ........\n",
    "\n",
    "print('Cat datasets:', cat_train.shape, cat_val.shape, cat_test.shape)\n",
    "print('Dog datasets:', dog_train.shape, dog_val.shape, dog_test.shape)"
   ]
  },
  {
   "cell_type": "code",
   "execution_count": 18,
   "metadata": {},
   "outputs": [
    {
     "name": "stdout",
     "output_type": "stream",
     "text": [
      "(3000,) ['train\\\\cat.761.jpg' 'train\\\\cat.8554.jpg' 'train\\\\cat.1386.jpg'\n",
      " 'train\\\\cat.6131.jpg' 'train\\\\cat.3320.jpg'] ['train\\\\dog.6925.jpg' 'train\\\\dog.9631.jpg' 'train\\\\dog.1121.jpg'\n",
      " 'train\\\\dog.6576.jpg' 'train\\\\dog.10600.jpg']\n"
     ]
    }
   ],
   "source": [
    "train_dir = 'training_data'\n",
    "val_dir = 'validation_data'\n",
    "test_dir = 'test_data'\n",
    "\n",
    "# cat_train, dog_train 데이터를 하나로 합침\n",
    "train_files = ..........\n",
    "validate_files = np.concatenate([cat_val, dog_val])\n",
    "test_files = np.concatenate([cat_test, dog_test])\n",
    "\n",
    "print(train_files.shape, train_files[:5], train_files[1500:1505])"
   ]
  },
  {
   "cell_type": "code",
   "execution_count": null,
   "metadata": {},
   "outputs": [],
   "source": [
    "import os\n",
    "\n",
    "# 소규모 데이터셋을 저장할 디렉터리\n",
    "os.mkdir(train_dir) if not os.path.isdir(test_dir) else None\n",
    "os.mkdir(val_dir) if not os.path.isdir(val_dir) else None\n",
    "os.mkdir(test_dir) if not os.path.isdir(test_dir) else None"
   ]
  },
  {
   "cell_type": "code",
   "execution_count": 19,
   "metadata": {},
   "outputs": [
    {
     "data": {
      "application/vnd.jupyter.widget-view+json": {
       "model_id": "e268a05d22364a6ead5b47b50c85bfbe",
       "version_major": 2,
       "version_minor": 0
      },
      "text/plain": [
       "VBox(children=(HTML(value=''), IntProgress(value=0, max=3000)))"
      ]
     },
     "metadata": {},
     "output_type": "display_data"
    },
    {
     "data": {
      "application/vnd.jupyter.widget-view+json": {
       "model_id": "1720015e42c846d09ff0bc4a842d6562",
       "version_major": 2,
       "version_minor": 0
      },
      "text/plain": [
       "VBox(children=(HTML(value=''), IntProgress(value=0, max=1000)))"
      ]
     },
     "metadata": {},
     "output_type": "display_data"
    },
    {
     "data": {
      "application/vnd.jupyter.widget-view+json": {
       "model_id": "7d2a94554e9d400eaed71a3f237c3be7",
       "version_major": 2,
       "version_minor": 0
      },
      "text/plain": [
       "VBox(children=(HTML(value=''), IntProgress(value=0, max=1000)))"
      ]
     },
     "metadata": {},
     "output_type": "display_data"
    }
   ],
   "source": [
    "from utils import log_progress\n",
    "import shutil\n",
    "\n",
    "for fn in log_progress(train_files, name='Training Images'):\n",
    "    shutil.copy(fn, train_dir)\n",
    "\n",
    "for fn in log_progress(validate_files, name='Validation Images'):\n",
    "    shutil.copy(fn, val_dir)\n",
    "    \n",
    "for fn in log_progress(test_files, name='Test Images'):\n",
    "    shutil.copy(fn, test_dir)"
   ]
  },
  {
   "cell_type": "code",
   "execution_count": null,
   "metadata": {},
   "outputs": [],
   "source": []
  }
 ],
 "metadata": {
  "anaconda-cloud": {},
  "kernelspec": {
   "display_name": "Python 3",
   "language": "python",
   "name": "python3"
  },
  "language_info": {
   "codemirror_mode": {
    "name": "ipython",
    "version": 3
   },
   "file_extension": ".py",
   "mimetype": "text/x-python",
   "name": "python",
   "nbconvert_exporter": "python",
   "pygments_lexer": "ipython3",
   "version": "3.6.10"
  },
  "widgets": {
   "state": {
    "707cda043c794c6bbccbf3e3f0264e09": {
     "views": [
      {
       "cell_index": 5
      }
     ]
    },
    "76235700d807469ea94675fe7f2b6187": {
     "views": [
      {
       "cell_index": 5
      }
     ]
    },
    "7aadcb865964421fb6f976525e21adca": {
     "views": [
      {
       "cell_index": 5
      }
     ]
    }
   },
   "version": "1.2.0"
  }
 },
 "nbformat": 4,
 "nbformat_minor": 2
}
