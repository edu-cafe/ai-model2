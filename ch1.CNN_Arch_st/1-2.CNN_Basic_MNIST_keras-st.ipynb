{
 "cells": [
  {
   "cell_type": "markdown",
   "metadata": {},
   "source": [
    "## CNN Model 설계 - MNIST 사용 "
   ]
  },
  {
   "cell_type": "code",
   "execution_count": 2,
   "metadata": {},
   "outputs": [
    {
     "name": "stderr",
     "output_type": "stream",
     "text": [
      "UsageError: Line magic function `%tensorflow_version` not found.\n"
     ]
    }
   ],
   "source": [
    "%matplotlib inline\n",
    "%tensorflow_version 1.x"
   ]
  },
  {
   "cell_type": "code",
   "execution_count": 3,
   "metadata": {},
   "outputs": [
    {
     "name": "stderr",
     "output_type": "stream",
     "text": [
      "Using TensorFlow backend.\n"
     ]
    }
   ],
   "source": [
    "from keras import models\n",
    "from keras import layers"
   ]
  },
  {
   "cell_type": "markdown",
   "metadata": {},
   "source": [
    "# 컨볼루션 신경망의 설계 \n",
    "* Input(28x28x1) -> CONV(K:3x3, 32, relu) -> POOL(2x2) -> CONV(K:3x3, 64, relu) -> POOL(2x2) -> CONV(K:3x3, 64, relu) -> Flatten -> FCN(64) -> Output(class:10)"
   ]
  },
  {
   "cell_type": "code",
   "execution_count": 4,
   "metadata": {},
   "outputs": [
    {
     "name": "stdout",
     "output_type": "stream",
     "text": [
      "WARNING:tensorflow:From C:\\Users\\shkim\\Anaconda3\\envs\\tutorial\\lib\\site-packages\\keras\\backend\\tensorflow_backend.py:74: The name tf.get_default_graph is deprecated. Please use tf.compat.v1.get_default_graph instead.\n",
      "\n",
      "WARNING:tensorflow:From C:\\Users\\shkim\\Anaconda3\\envs\\tutorial\\lib\\site-packages\\keras\\backend\\tensorflow_backend.py:517: The name tf.placeholder is deprecated. Please use tf.compat.v1.placeholder instead.\n",
      "\n",
      "WARNING:tensorflow:From C:\\Users\\shkim\\Anaconda3\\envs\\tutorial\\lib\\site-packages\\keras\\backend\\tensorflow_backend.py:4138: The name tf.random_uniform is deprecated. Please use tf.random.uniform instead.\n",
      "\n",
      "WARNING:tensorflow:From C:\\Users\\shkim\\Anaconda3\\envs\\tutorial\\lib\\site-packages\\keras\\backend\\tensorflow_backend.py:3976: The name tf.nn.max_pool is deprecated. Please use tf.nn.max_pool2d instead.\n",
      "\n"
     ]
    }
   ],
   "source": [
    "model = ..........\n",
    "\n"
   ]
  },
  {
   "cell_type": "code",
   "execution_count": 5,
   "metadata": {},
   "outputs": [
    {
     "name": "stdout",
     "output_type": "stream",
     "text": [
      "_________________________________________________________________\n",
      "Layer (type)                 Output Shape              Param #   \n",
      "=================================================================\n",
      "conv2d_1 (Conv2D)            (None, 26, 26, 32)        320       \n",
      "_________________________________________________________________\n",
      "max_pooling2d_1 (MaxPooling2 (None, 13, 13, 32)        0         \n",
      "_________________________________________________________________\n",
      "conv2d_2 (Conv2D)            (None, 11, 11, 64)        18496     \n",
      "_________________________________________________________________\n",
      "max_pooling2d_2 (MaxPooling2 (None, 5, 5, 64)          0         \n",
      "_________________________________________________________________\n",
      "conv2d_3 (Conv2D)            (None, 3, 3, 64)          36928     \n",
      "_________________________________________________________________\n",
      "flatten_1 (Flatten)          (None, 576)               0         \n",
      "_________________________________________________________________\n",
      "dense_1 (Dense)              (None, 64)                36928     \n",
      "_________________________________________________________________\n",
      "dense_2 (Dense)              (None, 10)                650       \n",
      "=================================================================\n",
      "Total params: 93,322\n",
      "Trainable params: 93,322\n",
      "Non-trainable params: 0\n",
      "_________________________________________________________________\n"
     ]
    }
   ],
   "source": [
    "model.______"
   ]
  },
  {
   "cell_type": "code",
   "execution_count": 6,
   "metadata": {},
   "outputs": [
    {
     "name": "stdout",
     "output_type": "stream",
     "text": [
      "(60000, 28, 28) (60000,) (10000, 28, 28) (10000,)\n"
     ]
    }
   ],
   "source": [
    "from keras.datasets import mnist\n",
    "from keras.utils import ......\n",
    "\n",
    "(train_images, train_labels), (test_images, test_labels) = mnist.load_data()\n",
    "\n",
    "# (60000, 28, 28) (60000,) (10000, 28, 28) (10000,)\n",
    "print(train_images.shape, train_labels.shape, test_images.shape, test_labels.shape)\n",
    "\n",
    "train_images = train_images.reshape((-1, 28, 28, 1))\n",
    "train_images = train_images.astype('float32') / 255\n",
    "\n",
    "test_images = test_images.reshape((-1, 28, 28, 1))\n",
    "test_images = test_images.astype('float32') / 255\n",
    "\n",
    "train_labels = _____(train_labels)\n",
    "test_labels = _____(test_labels)"
   ]
  },
  {
   "cell_type": "code",
   "execution_count": 7,
   "metadata": {},
   "outputs": [
    {
     "name": "stdout",
     "output_type": "stream",
     "text": [
      "WARNING:tensorflow:From C:\\Users\\shkim\\Anaconda3\\envs\\tutorial\\lib\\site-packages\\keras\\optimizers.py:790: The name tf.train.Optimizer is deprecated. Please use tf.compat.v1.train.Optimizer instead.\n",
      "\n",
      "WARNING:tensorflow:From C:\\Users\\shkim\\Anaconda3\\envs\\tutorial\\lib\\site-packages\\keras\\backend\\tensorflow_backend.py:3295: The name tf.log is deprecated. Please use tf.math.log instead.\n",
      "\n"
     ]
    }
   ],
   "source": [
    "from keras import optimizers\n",
    "\n",
    "model.compile(optimizer='rmsprop',\n",
    "              #optimizer=......... ,\n",
    "              loss='categorical_crossentropy',\n",
    "              metrics=['accuracy'])"
   ]
  },
  {
   "cell_type": "code",
   "execution_count": 17,
   "metadata": {},
   "outputs": [
    {
     "name": "stdout",
     "output_type": "stream",
     "text": [
      "Train on 48000 samples, validate on 12000 samples\n",
      "Epoch 1/30\n",
      "48000/48000 [==============================] - 28s 585us/step - loss: 0.0031 - acc: 0.9995 - val_loss: 0.0034 - val_acc: 0.9994\n",
      "Epoch 2/30\n",
      "48000/48000 [==============================] - 37s 773us/step - loss: 0.0042 - acc: 0.9993 - val_loss: 0.0036 - val_acc: 0.9995\n",
      "Epoch 3/30\n",
      "48000/48000 [==============================] - 37s 769us/step - loss: 0.0022 - acc: 0.9995 - val_loss: 0.0055 - val_acc: 0.9992\n",
      "Epoch 4/30\n",
      "48000/48000 [==============================] - 37s 766us/step - loss: 0.0041 - acc: 0.9994 - val_loss: 0.0105 - val_acc: 0.9982\n",
      "Epoch 5/30\n",
      "48000/48000 [==============================] - 37s 771us/step - loss: 0.0015 - acc: 0.9996 - val_loss: 0.0065 - val_acc: 0.9991\n",
      "Epoch 6/30\n",
      "48000/48000 [==============================] - 37s 769us/step - loss: 0.0029 - acc: 0.9993 - val_loss: 0.0021 - val_acc: 0.9998\n",
      "Epoch 7/30\n",
      "48000/48000 [==============================] - 37s 780us/step - loss: 0.0018 - acc: 0.9995 - val_loss: 0.0095 - val_acc: 0.9987\n",
      "Epoch 8/30\n",
      "48000/48000 [==============================] - 36s 759us/step - loss: 0.0023 - acc: 0.9995 - val_loss: 0.0082 - val_acc: 0.9988\n",
      "Epoch 9/30\n",
      "48000/48000 [==============================] - 29s 610us/step - loss: 0.0017 - acc: 0.9998 - val_loss: 0.0053 - val_acc: 0.9992\n",
      "Epoch 10/30\n",
      "48000/48000 [==============================] - 29s 614us/step - loss: 0.0029 - acc: 0.9996 - val_loss: 0.0097 - val_acc: 0.9989\n",
      "Epoch 11/30\n",
      "48000/48000 [==============================] - 29s 613us/step - loss: 0.0014 - acc: 0.9998 - val_loss: 0.0092 - val_acc: 0.9986\n",
      "Epoch 12/30\n",
      "48000/48000 [==============================] - 30s 633us/step - loss: 0.0017 - acc: 0.9997 - val_loss: 0.0078 - val_acc: 0.9988\n",
      "Epoch 13/30\n",
      "48000/48000 [==============================] - 37s 781us/step - loss: 0.0012 - acc: 0.9998 - val_loss: 0.0077 - val_acc: 0.9988\n",
      "Epoch 14/30\n",
      "48000/48000 [==============================] - 38s 785us/step - loss: 0.0017 - acc: 0.9998 - val_loss: 0.0072 - val_acc: 0.9989\n",
      "Epoch 15/30\n",
      "48000/48000 [==============================] - 38s 784us/step - loss: 0.0015 - acc: 0.9997 - val_loss: 0.0167 - val_acc: 0.9972\n",
      "Epoch 16/30\n",
      "48000/48000 [==============================] - 38s 793us/step - loss: 0.0015 - acc: 0.9996 - val_loss: 0.0086 - val_acc: 0.9987\n",
      "Epoch 17/30\n",
      "48000/48000 [==============================] - 39s 805us/step - loss: 0.0045 - acc: 0.9994 - val_loss: 0.0093 - val_acc: 0.9986\n",
      "Epoch 18/30\n",
      "48000/48000 [==============================] - 38s 793us/step - loss: 0.0014 - acc: 0.9997 - val_loss: 0.0140 - val_acc: 0.9985\n",
      "Epoch 19/30\n",
      "48000/48000 [==============================] - 33s 688us/step - loss: 0.0026 - acc: 0.9996 - val_loss: 0.0159 - val_acc: 0.9978\n",
      "Epoch 20/30\n",
      "48000/48000 [==============================] - 30s 625us/step - loss: 0.0014 - acc: 0.9997 - val_loss: 0.0148 - val_acc: 0.9984\n",
      "Epoch 21/30\n",
      "48000/48000 [==============================] - 30s 618us/step - loss: 0.0028 - acc: 0.9996 - val_loss: 0.0129 - val_acc: 0.9981\n",
      "Epoch 22/30\n",
      "48000/48000 [==============================] - 30s 622us/step - loss: 0.0017 - acc: 0.9997 - val_loss: 0.0176 - val_acc: 0.9982\n",
      "Epoch 23/30\n",
      "48000/48000 [==============================] - 30s 619us/step - loss: 0.0031 - acc: 0.9995 - val_loss: 0.0142 - val_acc: 0.9981\n",
      "Epoch 24/30\n",
      "48000/48000 [==============================] - 30s 626us/step - loss: 0.0012 - acc: 0.9997 - val_loss: 0.0178 - val_acc: 0.9979\n",
      "Epoch 25/30\n",
      "48000/48000 [==============================] - 30s 623us/step - loss: 0.0013 - acc: 0.9997 - val_loss: 0.0195 - val_acc: 0.9979\n",
      "Epoch 26/30\n",
      "48000/48000 [==============================] - 30s 631us/step - loss: 0.0026 - acc: 0.9996 - val_loss: 0.0180 - val_acc: 0.9975\n",
      "Epoch 27/30\n",
      "48000/48000 [==============================] - 30s 626us/step - loss: 0.0018 - acc: 0.9998 - val_loss: 0.0212 - val_acc: 0.9976\n",
      "Epoch 28/30\n",
      "48000/48000 [==============================] - 30s 631us/step - loss: 0.0018 - acc: 0.9996 - val_loss: 0.0248 - val_acc: 0.9971\n",
      "Epoch 29/30\n",
      "48000/48000 [==============================] - 30s 628us/step - loss: 0.0018 - acc: 0.9996 - val_loss: 0.0269 - val_acc: 0.9969\n",
      "Epoch 30/30\n",
      "48000/48000 [==============================] - 30s 630us/step - loss: 0.0035 - acc: 0.9995 - val_loss: 0.0271 - val_acc: 0.9971\n"
     ]
    }
   ],
   "source": [
    "batch_size = 64\n",
    "\n",
    "history = model.____\n",
    "\n"
   ]
  },
  {
   "cell_type": "markdown",
   "metadata": {},
   "source": [
    "## Training Model 저장 "
   ]
  },
  {
   "cell_type": "code",
   "execution_count": 9,
   "metadata": {},
   "outputs": [],
   "source": [
    "model._____('model_mnist_soot1.h5')"
   ]
  },
  {
   "cell_type": "markdown",
   "metadata": {},
   "source": [
    "## Training/Validation 오류 및 정확도 그래프 그리기"
   ]
  },
  {
   "cell_type": "code",
   "execution_count": 18,
   "metadata": {},
   "outputs": [
    {
     "data": {
      "image/png": "[encoded data removed]",
      "text/plain": [
       "<Figure size 432x288 with 1 Axes>"
      ]
     },
     "metadata": {
      "needs_background": "light"
     },
     "output_type": "display_data"
    },
    {
     "data": {
      "image/png": "[encoded data removed]",
      "text/plain": [
       "<Figure size 432x288 with 1 Axes>"
      ]
     },
     "metadata": {
      "needs_background": "light"
     },
     "output_type": "display_data"
    }
   ],
   "source": [
    "import matplotlib.pyplot as plt\n",
    "\n",
    "acc = history.history['acc']\n",
    "val_acc = history.history['val_acc']\n",
    "loss = history.history['loss']\n",
    "val_loss = history.history['val_loss']\n",
    "\n",
    "epochs = range(len(acc))\n",
    "\n",
    "plt.plot(epochs, acc, 'b', label='Training acc')\n",
    "plt.plot(epochs, val_acc, 'r', label='Validation acc')\n",
    "plt.title('Training and validation accuracy')\n",
    "plt.legend()\n",
    "\n",
    "plt.figure()\n",
    "\n",
    "#plt.plot(epochs, loss, 'bo', label='Training loss')\n",
    "plt.plot(loss, 'bo', label='Training loss')\n",
    "plt.plot(epochs, val_loss, 'r', label='Validation loss')\n",
    "plt.title('Training and validation loss')\n",
    "plt.legend()\n",
    "\n",
    "plt.show()"
   ]
  },
  {
   "cell_type": "markdown",
   "metadata": {},
   "source": [
    "## Test Dataset에 적용하여 모델 평가하기"
   ]
  },
  {
   "cell_type": "code",
   "execution_count": 19,
   "metadata": {},
   "outputs": [
    {
     "name": "stdout",
     "output_type": "stream",
     "text": [
      "10000/10000 [==============================] - 2s 165us/step\n",
      "test_loss: 0.1185913779842488\n",
      "test_acc: 0.9906\n"
     ]
    }
   ],
   "source": [
    "test_loss, test_acc = model._______(test_images, test_labels)\n",
    "print('test_loss:', test_loss)\n",
    "print('test_acc:', test_acc)  # 0.9925"
   ]
  }
 ],
 "metadata": {
  "kernelspec": {
   "display_name": "Python 3",
   "language": "python",
   "name": "python3"
  },
  "language_info": {
   "codemirror_mode": {
    "name": "ipython",
    "version": 3
   },
   "file_extension": ".py",
   "mimetype": "text/x-python",
   "name": "python",
   "nbconvert_exporter": "python",
   "pygments_lexer": "ipython3",
   "version": "3.6.9"
  }
 },
 "nbformat": 4,
 "nbformat_minor": 2
}
